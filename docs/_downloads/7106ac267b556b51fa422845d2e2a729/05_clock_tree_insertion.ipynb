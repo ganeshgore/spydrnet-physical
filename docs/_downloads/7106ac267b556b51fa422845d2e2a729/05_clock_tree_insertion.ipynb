{
  "cells": [
    {
      "cell_type": "code",
      "execution_count": null,
      "metadata": {
        "collapsed": false
      },
      "outputs": [],
      "source": [
        "%matplotlib inline"
      ]
    },
    {
      "cell_type": "markdown",
      "metadata": {},
      "source": [
        "\n# Two layer H-Tree insertion in 4x4 FPGA \n\nThis example demonstrates how to insert H-Tree in tileable FPGA grid.\n\nIn this example we try to implement 2-layer HTree in 2x2 FPGA grid.\nFirst we create 2 different connection patterns to implement on each level of\nthe clock tree, and then embed these pattern using ``create_ft_ports`` and \n``create_ft_connection`` methods. \n\n.. Note: the dotted line indicates that the connection is either coming from \n   upper layer or going to lower layer.\n\n<img src=\"file://../../../../examples/OpenFPGA/clock_tree/_clock_tree_connections_l0.svg\" width=\"220px\">\n\n<img src=\"file://../../../../examples/OpenFPGA/clock_tree/_clock_tree_connections_l1.svg\" width=\"220px\">\n\n<img src=\"file://../../../../examples/OpenFPGA/clock_tree/_clock_tree_connections.svg\" width=\"220px\">\n"
      ]
    },
    {
      "cell_type": "code",
      "execution_count": null,
      "metadata": {
        "collapsed": false
      },
      "outputs": [],
      "source": [
        "import glob\nimport logging\nimport sys\nimport tempfile\nfrom itertools import chain\n\nimport spydrnet as sdn\nfrom spydrnet_physical.util import ConnectionPattern, OpenFPGA\nfrom spydrnet_physical.util.ConnectPoint import ConnectPoint\n\n\n# = = = = = = = = = = = = = = = = = = = = = = = = = = = = = = = = = = = =\n# Generate Level-1 (top level) connectivity pattern\n# 4x4 FPGA grid is considered as a 9x9 grid during pattern generation\n# = = = = = = = = = = = = = = = = = = = = = = = = = = = = = = = = = = = =\nWIDTH = 9\nHEIGHT = 9\np_manager = ConnectionPattern(WIDTH, HEIGHT)\nl1_patt = p_manager.connections\nl1_patt.cursor = (int(WIDTH/2)+1, 0)\nl1_patt.move_y(steps=int(WIDTH/2)+1)\nl1_patt.merge(p_manager.get_htree(WIDTH))\nl1_patt.set_color(\"red\")\n# This is important step to indicate on which connection is transitioning\n# to the next level\nfor x in range(2):\n    for y in range(2):\n        l1_patt.push_connection_down((3+(x*4), 3+(y*4)))\nsvg = p_manager.render_pattern(title=\"L1 Pattern\")\nsvg.saveas(\"_clock_tree_connections_l0.svg\", pretty=True, indent=4)\n\n# = = = = = = = = = = = = = = = = = = = = = = = = = = = = = = = = = = = =\n# Generate Level-0 connectivity pattern\n# = = = = = = = = = = = = = = = = = = = = = = = = = = = = = = = = = = = =\np_manager = ConnectionPattern(WIDTH, HEIGHT)\nl0_patt = p_manager.connections\nl0_patt.merge(p_manager.get_htree(4).translate(1, 1))\nl0_patt.merge(p_manager.get_htree(4).translate(5, 1))\nl0_patt.merge(p_manager.get_htree(4).translate(5, 5))\nl0_patt.merge(p_manager.get_htree(4).translate(1, 5))\n\nfor x in range(2):\n    for y in range(2):\n        ydir = -1 if y else 1\n        pt = ConnectPoint(3+(x*4), 3+(y*4)+ydir, 3+(x*4), 3+(y*4))\n        l0_patt.add_connect_point(pt)\n        l0_patt.pull_connection_up(pt)\nl0_patt.set_color(\"grey\")\nsvg = p_manager.render_pattern(title=\"L0 Pattern\")\nsvg.saveas(\"_clock_tree_connections_l1.svg\", pretty=True, indent=4)\n\np_manager = ConnectionPattern(WIDTH, HEIGHT)\ncombine_pattern = p_manager.connections\ncombine_pattern.merge(l0_patt)\ncombine_pattern.merge(l1_patt)\nsvg = p_manager.render_pattern(title=\"Combined Pattern\")\nsvg.saveas(\"_clock_tree_connections.svg\", pretty=True, indent=4)\n\n# = = = = = = = = = = = = = = = = = = = = = = = = = = = = = = = = = = = =\n#  Prepare cordinate mapping function for embedding\n# = = = = = = = = = = = = = = = = = = = = = = = = = = = = = = = = = = = =\n\n\ndef get_top_instance_name(x, y):\n    if 0 in (x, y):\n        return \"top\"\n    module = {\n        True: \"sb\",\n        (x % 2 == 0) and (y % 2 == 0): \"grid_clb\",\n        (x % 2 == 1) and (y % 2 == 0): \"cby\",\n        (x % 2 == 0) and (y % 2 == 1): \"cbx\"}[True]\n    return f\"{module}_{int(x/2)}__{int(y/2)}_\"\n\n\n# = = = = = = = = = = = = = = = = = = = = = = = = = = = = = = = = = = = =\n# Read FPGA Netlist\n# = = = = = = = = = = = = = = = = = = = = = = = = = = = = = = = = = = = =\nproj = '../homogeneous_fabric/*_Verilog'\ntask = '../homogeneous_fabric/*_Task'\nsource_files = glob.glob(f'{proj}/lb/*.v')\nsource_files += glob.glob(f'{proj}/routing/*.v')\nsource_files += glob.glob(f'{proj}/sub_module/*.v')\nsource_files += glob.glob(f'{task}/CustomModules/standard_cell_primitives.v')\nsource_files += glob.glob(f'{proj}/fpga_top.v')\n\nlogger = logging.getLogger('spydrnet_logs')\nsdn.enable_file_logging(LOG_LEVEL='INFO')\n\n# Temporary fix to read multiple verilog files\nwith tempfile.NamedTemporaryFile(suffix=\".v\") as fp:\n    for eachV in source_files:\n        with open(eachV, \"r\") as fpv:\n            fp.write(str.encode(\" \".join(fpv.readlines())))\n    fp.seek(0)\n    netlist = sdn.parse(fp.name)\n\n\n# = = = = = = = = = = = = = = = = = = = = = = = = = = = = = = = = = = = =\n# Cleanup FPGA netlist for printing\n# = = = = = = = = = = = = = = = = = = = = = = = = = = = = = = = = = = = =\n\nfpga = OpenFPGA(grid=(4, 4), netlist=netlist)\n\n# Convert wires to bus structure\nfpga.create_grid_clb_bus()\nfpga.create_grid_io_bus()\nfpga.create_sb_bus()\nfpga.create_cb_bus()\nfpga.remove_config_chain()\nfpga.remove_undriven_nets()\n\n# Top level nets to bus\nfor i in chain(fpga.top_module.get_instances(\"grid_clb*\"),\n               fpga.top_module.get_instances(\"grid_io*\"),\n               fpga.top_module.get_instances(\"sb_*\")):\n    for p in filter(lambda x: True, i.reference.ports):\n        if p.size > 1 and (i.check_all_scalar_connections(p)):\n            cable_list = []\n            for pin in p.pins[::-1]:\n                cable_list.append(i.pins[pin].wire.cable)\n            fpga.top_module.combine_cables(\n                f\"{i.name}_{p.name}\", cable_list)\nfpga.merge_all_grid_ios()\nfpga.remove_direct_interc()\n\ntop_definition = fpga.top_module\n\nsdn.compose(netlist, '_fpga_top_initial.v', definition_list=[\"fpga_top\"],\n            skip_constraints=True, write_blackbox=False)\n\n# = = = = = = = = = = = = = = = = = = = = = = = = = = = = = = = = = = = =\n#  Embed L0 pattern and the L1 pattern\n# = = = = = = = = = = = = = = = = = = = = = = = = = = = = = = = = = = = =\n\nclk_l0_cable = top_definition.create_cable(\"clk_l0\", wires=1)\nl0_patt.get_top_instance_name = get_top_instance_name\nl0_patt.create_ft_ports(netlist, \"clk_l0\", clk_l0_cable)\nl0_patt.create_ft_connection(netlist, clk_l0_cable)\n\nclk_l1_cable = top_definition.create_cable(\"clk_l1\", wires=1)\nl1_patt.get_top_instance_name = get_top_instance_name\nl1_patt.create_ft_ports(netlist, \"clk_l1\", clk_l1_cable)\nl1_patt.create_ft_connection(netlist, clk_l1_cable, down_port=\"clk_l0\")\n\nsdn.compose(netlist, '_fpga_top.v', definition_list=[\"fpga_top\"],\n            skip_constraints=True, write_blackbox=False)"
      ]
    }
  ],
  "metadata": {
    "kernelspec": {
      "display_name": "Python 3",
      "language": "python",
      "name": "python3"
    },
    "language_info": {
      "codemirror_mode": {
        "name": "ipython",
        "version": 3
      },
      "file_extension": ".py",
      "mimetype": "text/x-python",
      "name": "python",
      "nbconvert_exporter": "python",
      "pygments_lexer": "ipython3",
      "version": "3.8.10"
    }
  },
  "nbformat": 4,
  "nbformat_minor": 0
}