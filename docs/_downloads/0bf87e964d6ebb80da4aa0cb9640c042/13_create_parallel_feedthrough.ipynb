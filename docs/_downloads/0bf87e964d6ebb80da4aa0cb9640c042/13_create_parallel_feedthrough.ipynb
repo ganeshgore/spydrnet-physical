{
  "cells": [
    {
      "cell_type": "code",
      "execution_count": null,
      "metadata": {
        "collapsed": false
      },
      "outputs": [],
      "source": [
        "%matplotlib inline"
      ]
    },
    {
      "cell_type": "markdown",
      "metadata": {},
      "source": [
        "\n# Generating feedthrough from multiple instances\n\nThis example demonstrates how to generate feedthrough from multiple instances.\nIf multiple instances belong to the same reference module it should reuser\nthe feedthrough instead of creating independent feedthrough to pass through each instance.\n\nThis example creates new wire ``A`` and create feedthrough port and connection\nfrom  ``inst_1_0`` and  ``inst_1_1`` in sequence.\n\n\n**Before feedthrough**\n\n<img src=\"file://../../../examples/basic/_basic_hierarchy_design.svg\" align=\"center\">\n\n**After feedthrough**\n\n<img src=\"file://../../../examples/basic/_Feedthrough_basic_hierarchy_design.svg\" align=\"center\">\n"
      ]
    },
    {
      "cell_type": "code",
      "execution_count": null,
      "metadata": {
        "collapsed": false
      },
      "outputs": [],
      "source": [
        "import logging\nimport spydrnet as sdn\nimport spydrnet_physical as sdnphy\nfrom spydrnet_physical.composers.html.composer import HTMLComposer\nfrom spydrnet_physical.composers.svg.composer import SVGComposer\n\nlogger = logging.getLogger('spydrnet_logs')\nsdn.enable_file_logging(LOG_LEVEL='INFO')\n\n# logger.warning(\"NotImplemented\")\n\n\nnetlist = sdnphy.load_netlist_by_name('grid_example')\ntop = netlist.top_instance.reference\n\na_in_port = top.create_port(name='a_in', direction=sdn.IN, pins=1)\na_out_port = top.create_port(name='a_out', direction=sdn.OUT, pins=1)\nb_in_port = top.create_port(name='b_in', direction=sdn.IN, pins=1)\nb_out_port = top.create_port(name='b_out', direction=sdn.OUT, pins=1)\na_in_cable = top.create_cable(name='a_in', wires=1)\nb_in_cable = top.create_cable(name='b_in', wires=1)\na_out_cable = top.create_cable(name='a_out', wires=1)\nb_out_cable = top.create_cable(name='b_out', wires=1)\n\na_in_cable.connect_port(a_in_port)\nb_in_cable.connect_port(b_in_port)\na_out_cable.connect_port(a_out_port)\nb_out_cable.connect_port(b_out_port)\n\nb_in_cable.assign_cable(b_out_cable)\na_in_cable.assign_cable(a_out_cable)\n\ninst1 = next(top.get_instances('inst_1_11'))\ninst11 = next(top.get_instances('inst_2_11'))\ninst2 = next(top.get_instances('inst_1_12'))\ninst21 = next(top.get_instances('inst_2_12'))\n\ninst_list = (\n    (a_in_cable, [inst1, inst11]),\n    (b_in_cable, [inst2, inst21]),\n)\n\ntop.create_parallel_feedthrough(inst_list)\ntop.create_unconn_wires()\n\ncomposer = HTMLComposer()\ncomposer.run(netlist, file_out=\"_Feedthrough_basic_hierarchy_design.html\")\ncomposer = SVGComposer()\ncomposer.expand(modules=[\"module1\"])\ncomposer.run(netlist, file_out=\"_Feedthrough_basic_hierarchy_design.svg\",\n             netlistsvg=\"netlistsvg-hierarchy\")\nsdn.compose(netlist, '_basic_hierarchy_after_multiple_feedthrough.v',\n            skip_constraints=True)"
      ]
    }
  ],
  "metadata": {
    "kernelspec": {
      "display_name": "Python 3",
      "language": "python",
      "name": "python3"
    },
    "language_info": {
      "codemirror_mode": {
        "name": "ipython",
        "version": 3
      },
      "file_extension": ".py",
      "mimetype": "text/x-python",
      "name": "python",
      "nbconvert_exporter": "python",
      "pygments_lexer": "ipython3",
      "version": "3.8.10"
    }
  },
  "nbformat": 4,
  "nbformat_minor": 0
}