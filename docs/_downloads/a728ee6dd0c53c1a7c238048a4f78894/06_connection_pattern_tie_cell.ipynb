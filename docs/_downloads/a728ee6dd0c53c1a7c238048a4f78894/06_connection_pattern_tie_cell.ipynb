{
  "cells": [
    {
      "cell_type": "markdown",
      "metadata": {},
      "source": [
        "\n# Adding Tie Cells on Floating Pins\n\nTHis example\n\n**Original grided netlist**\n\n<img src=\"file://../auto_sample_verilog/square_grid.svg\" align=\"center\">\n\n<img src=\"file://../../../examples/OpenFPGA_clock_tree/_fishbone_pattern_tie_0.svg\" width=\"300px\" align=\"center\">\n\n**After adding tie cells**\n\n.. hdl-diagram:: ../../../examples/OpenFPGA_clock_tree/_tie_cell_added.v\n   :type: netlistsvg\n   :align: center\n   :module: top\n"
      ]
    },
    {
      "cell_type": "code",
      "execution_count": null,
      "metadata": {
        "collapsed": false
      },
      "outputs": [],
      "source": [
        "from os import path\nfrom pprint import pprint\nimport spydrnet as sdn\nfrom spydrnet_physical.util import ConnectionPattern\nimport spydrnet_physical as sdnphy\n\n\n# Verilog netlist\nnetlist = sdnphy.load_netlist_by_name('square_grid')\ntop_definition = netlist.top_instance.reference\ntop_definition.split_port(\"in\")\ntop_definition.split_port(\"out\")\ntop_definition.create_unconn_wires()\nsdn.compose(netlist, '_square_grid_design.v', skip_constraints=True)\n\nnetlist = sdnphy.load_netlist_by_name('square_grid')\ntop_definition = netlist.top_instance.reference\n\n# Pattern\np_manager = ConnectionPattern(4, 4)\nfishbone_pattern = p_manager.connections.merge(p_manager.get_fishbone(4, 4, steps=2))\nsvg = p_manager.render_pattern(title=\"Merging option\")\nsvg.saveas(\"_fishbone_pattern_tie_0.svg\", pretty=True, indent=4)\n\n\ndef get_top_instance_name(x, y):\n    if 0 in (x, y):\n        return \"top\"\n    return f\"inst_1_{x}{y}\"\n\n\nfishbone_pattern.get_top_instance_name = get_top_instance_name\nclk_port = top_definition.create_port(\"clk\", direction=sdn.IN, pins=1)\nclk_cable = top_definition.create_cable(\"clk\", wires=1)\nclk_cable.connect_port(clk_port)\nfishbone_pattern.create_ft_ports(netlist, \"clk\", clk_cable)\nfishbone_pattern.create_ft_connection(netlist, clk_cable)\n\nportmap = fishbone_pattern.show_stats(netlist)\npprint(dict(portmap))\nfor module, ports in portmap.items():\n    if module == \"top\":\n        continue\n    pprint(ports[\"in\"])\n    ports = [f\"clk_{key}_in\" for key, value in ports[\"in\"].items() if value]\n    ports = [next(netlist.get_ports(port)).pins[0] for port in ports]\n    for instance in next(netlist.get_definitions(module)).references:\n        print(f\">>>>>>> {instance.name}\", end=\" \")\n        print(\"\" if any(\n            [instance.pins[port].wire for port in ports]) else \"Tie this\")\n\n# fishbone_pattern.print_instance_grid_map()\n# fishbone_pattern.print_reference_grid_map(netlist)\n\ntop_definition.create_unconn_wires()\nsdn.compose(netlist, '_tie_cell_added.v',\n            skip_constraints=True,\n            write_blackbox=True)"
      ]
    },
    {
      "cell_type": "markdown",
      "metadata": {},
      "source": [
        "**Output Netlist**\n\n.. literalinclude:: ../../../examples/OpenFPGA_clock_tree/_tie_cell_added.v\n   :language: verilog\n\n\n\n"
      ]
    }
  ],
  "metadata": {
    "kernelspec": {
      "display_name": "Python 3",
      "language": "python",
      "name": "python3"
    },
    "language_info": {
      "codemirror_mode": {
        "name": "ipython",
        "version": 3
      },
      "file_extension": ".py",
      "mimetype": "text/x-python",
      "name": "python",
      "nbconvert_exporter": "python",
      "pygments_lexer": "ipython3",
      "version": "3.12.7"
    }
  },
  "nbformat": 4,
  "nbformat_minor": 0
}