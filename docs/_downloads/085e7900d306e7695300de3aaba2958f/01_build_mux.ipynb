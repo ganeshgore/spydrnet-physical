{
  "cells": [
    {
      "cell_type": "markdown",
      "metadata": {},
      "source": [
        "\n# Build Multiplexer (SVG/Interactive)\n\nThis example demonstrates how to build a multiplexer using the `spydrnet-physical` library.\n"
      ]
    },
    {
      "cell_type": "code",
      "execution_count": null,
      "metadata": {
        "collapsed": false
      },
      "outputs": [],
      "source": [
        "import spydrnet as sdn\nimport spydrnet_physical as sdnphy\nfrom spydrnet_physical.util import circuit_builder as cb\n\nfrom spydrnet_physical.composers.html.composer import HTMLComposer\nfrom spydrnet_physical.composers.svg.composer import SVGComposer\n\nnetlist = sdnphy.load_netlist_by_name(\"std_genlib\")\nlibrary = netlist.create_library(\"top\")\n\ntop_def = library.create_definition(\"top_module\")\ntop_def.create_port(\"top_in0\", direction=sdn.IN, pins=1)\ntop_def.create_port(\"top_in1\", direction=sdn.IN, pins=1)\ntop_def.create_port(\"top_sel\", direction=sdn.IN, pins=1)\ntop_def.create_port(\"top_out\", direction=sdn.OUT, pins=1)\n\nnetlist.set_top_instance(top_def)\n\n# Build a single instance of MUX in this case 2:1 MUX\ncb.create_mux_instance(\n    top=top_def,\n    name=\"mux2to1\",\n    reference=next(netlist.get_definitions(\"MUX2\")),\n    inputs_w=[\n        top_def.create_cable(\"top_in0\", wires=1).wires[0],\n        top_def.create_cable(\"top_in1\", wires=1).wires[0],\n    ],\n    output_w=top_def.create_cable(\"top_out\", wires=1).wires[0],\n    select_w=[\n        top_def.create_cable(\"top_sel\", wires=1).wires[0],\n    ],\n)\n\n# Build a larger MUX using tree-like structure and given list of MUXes\n# Note select lines are not computed before and interfered from the structure\nmux_size=10\ntop_def.create_port(\"input_bus\", direction=sdn.IN, pins=mux_size)\ntop_def.create_port(\"top_out2\", direction=sdn.OUT, pins=1)\n\n\nout_wire, select_cable = cb.build_tree_like_mux(\n    definition=top_def,\n    inputs=top_def.create_cable(\"input_bus\", wires=mux_size).wires,\n    mux_dictionary={\n        2: next(netlist.get_definitions(\"MUX2\")),\n        4: next(netlist.get_definitions(\"MUX4\")),\n    },\n    select_cable=top_def.create_cable(\"top_select2\"),\n    suffix=\"_OOOOOOO\",\n)\n\n# Adjust the select port pin count\nprint(\"Required select wires\", len(select_cable.wires))\ntop_def.create_port(\"top_select2\", direction=sdn.IN, pins=len(select_cable.wires))\n\n# Assign output wire to output port cable\nout_wire.cable.assign_cable(top_def.create_cable(\"top_out2\", wires=1))\n\n\ncomposer = HTMLComposer()\ncomposer.run(netlist, file_out=\"_mux_builder.html\")\n\ncomposer = SVGComposer()\ncomposer.expand(modules=[\"top\"])\ncomposer.run(netlist, file_out=\"_mux_builder.svg\", netlistsvg=\"netlistsvg-hierarchy\")"
      ]
    }
  ],
  "metadata": {
    "kernelspec": {
      "display_name": "Python 3",
      "language": "python",
      "name": "python3"
    },
    "language_info": {
      "codemirror_mode": {
        "name": "ipython",
        "version": 3
      },
      "file_extension": ".py",
      "mimetype": "text/x-python",
      "name": "python",
      "nbconvert_exporter": "python",
      "pygments_lexer": "ipython3",
      "version": "3.12.7"
    }
  },
  "nbformat": 4,
  "nbformat_minor": 0
}