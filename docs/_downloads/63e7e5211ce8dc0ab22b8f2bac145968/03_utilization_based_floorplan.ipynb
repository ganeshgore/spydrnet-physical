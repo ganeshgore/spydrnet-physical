{
  "cells": [
    {
      "cell_type": "code",
      "execution_count": null,
      "metadata": {
        "collapsed": false
      },
      "outputs": [],
      "source": [
        "%matplotlib inline"
      ]
    },
    {
      "cell_type": "markdown",
      "metadata": {},
      "source": [
        "\n# Utilisation based floorplanning\n\nThis example demostrated how to set utilisation based constraints for each\nmodule durignfloorplanning.\n\n**Not implemented yet**\n"
      ]
    },
    {
      "cell_type": "code",
      "execution_count": null,
      "metadata": {
        "collapsed": false
      },
      "outputs": [],
      "source": [
        "import glob\nimport math\nimport logging\n\nimport spydrnet as sdn\nfrom spydrnet_physical.util import OpenFPGA, initial_hetero_placement\nfrom spydrnet_physical.util import FPGAGridGen, FloorPlanViz\n\nlogger = logging.getLogger(\"spydrnet_logs\")\nsdn.enable_file_logging(LOG_LEVEL=\"INFO\")\n\nSTYLE_SHEET = \"\"\"\n    .over_util {fill:#b22222 !important}\n    text{font-family: Lato; font-style: italic; font-size: 350px;}\n\"\"\"\n\nSCALE = 100\nCPP = math.floor(0.46 * SCALE)\nSC_HEIGHT = math.floor(2.72 * SCALE)\n\nPROP = \"VERILOG.InlineConstraints\"\n\n\ndef main():\n    \"\"\"\n    Main method\n    \"\"\"\n    print(\"NotImplementedYet\")\n\n\nif __name__ == \"__main__\":\n    main()"
      ]
    }
  ],
  "metadata": {
    "kernelspec": {
      "display_name": "Python 3",
      "language": "python",
      "name": "python3"
    },
    "language_info": {
      "codemirror_mode": {
        "name": "ipython",
        "version": 3
      },
      "file_extension": ".py",
      "mimetype": "text/x-python",
      "name": "python",
      "nbconvert_exporter": "python",
      "pygments_lexer": "ipython3",
      "version": "3.8.10"
    }
  },
  "nbformat": 4,
  "nbformat_minor": 0
}