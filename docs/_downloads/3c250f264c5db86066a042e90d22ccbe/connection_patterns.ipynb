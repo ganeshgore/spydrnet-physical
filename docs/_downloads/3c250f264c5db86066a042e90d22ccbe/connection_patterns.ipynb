{
  "cells": [
    {
      "cell_type": "code",
      "execution_count": null,
      "metadata": {
        "collapsed": false
      },
      "outputs": [],
      "source": [
        "%matplotlib inline"
      ]
    },
    {
      "cell_type": "markdown",
      "metadata": {},
      "source": [
        "\n# Connection Pattern Generation\n\nThis example demonstrate how to genrate different connection pattern\nfor routing global signals\n\n\n**Output2** Fishbone routing pattern gerneation\n\n<img src=\"file://../../../examples/OpenFPGA/_fishbone_pattern.svg\" width=\"300px\">\n\n<img src=\"file://../../../examples/OpenFPGA/_fishbone_pattern_90.svg\" width=\"300px\">\n"
      ]
    },
    {
      "cell_type": "code",
      "execution_count": null,
      "metadata": {
        "collapsed": false
      },
      "outputs": [],
      "source": [
        "from os import path\nimport spydrnet as sdn\nfrom spydrnet_physical.util.connection_pattern import ConnectionPattern\n\np_manager = ConnectionPattern(5, 5)\nfishbone_pattern = p_manager.get_fishbone()\np_manager.render_pattern().saveas(\"_fishbone_pattern.svg\",pretty=True, indent=4)\nfishbone_pattern.rotate(90)\np_manager.render_pattern().saveas(\"_fishbone_pattern_90.svg\",pretty=True, indent=4)"
      ]
    }
  ],
  "metadata": {
    "kernelspec": {
      "display_name": "Python 3",
      "language": "python",
      "name": "python3"
    },
    "language_info": {
      "codemirror_mode": {
        "name": "ipython",
        "version": 3
      },
      "file_extension": ".py",
      "mimetype": "text/x-python",
      "name": "python",
      "nbconvert_exporter": "python",
      "pygments_lexer": "ipython3",
      "version": "3.8.10"
    }
  },
  "nbformat": 4,
  "nbformat_minor": 0
}