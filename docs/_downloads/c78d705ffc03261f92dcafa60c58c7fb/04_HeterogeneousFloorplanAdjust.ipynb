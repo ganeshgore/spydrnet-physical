{
  "cells": [
    {
      "cell_type": "code",
      "execution_count": null,
      "metadata": {
        "collapsed": false
      },
      "outputs": [],
      "source": [
        "%matplotlib inline"
      ]
    },
    {
      "cell_type": "markdown",
      "metadata": {},
      "source": [
        "\n# Heterogeneous Floorplan Adjustment\n\nThis example customises the hterogeneous placement and demonstrate how perticular\ncolumn or row of the FPGa grid can be cpmpressed.\n\n<img src=\"file://../../../examples/OpenFPGA_Floorplanning/_hetero_design_adjust_floorplan.svg\" width=\"70%\" align=\"center\">\n"
      ]
    },
    {
      "cell_type": "code",
      "execution_count": null,
      "metadata": {
        "collapsed": false
      },
      "outputs": [],
      "source": [
        "import glob\nimport logging\nimport math\nfrom copy import deepcopy\n\nimport spydrnet as sdn\nfrom spydrnet_physical.util import (FloorPlanViz, FPGAGridGen,\n                                    OpenFPGA, initial_hetero_placement)\n\nlogger = logging.getLogger(\"spydrnet_logs\")\nsdn.enable_file_logging(LOG_LEVEL=\"INFO\", filename=\"floorplan_heterpgeneous\")\n\n\nCBX_COLOR = \"#d9d9f3\"\nCBY_COLOR = \"#a8d0db\"\nSB_COLOR = \"#ceefe4\"\nGRID_COLOR = \"#ddd0b1\"\nHETERO_COLOR = \"#6E6858\"\n\nFPGA_WIDTH = 8\nFPGA_HEIGHT = 8\n\nSCALE = 100\nCPP = math.floor(0.46 * SCALE)\nSC_HEIGHT = math.floor(2.72 * SCALE)\n\nPROP = \"VERILOG.InlineConstraints\"\n\nSTYLE_SHEET = \"\"\"\n    symbol {mix-blend-mode: difference;}\n    symbol[id*='mult'] * {number:01; fill:#BC85C3;}\n    .over_util {fill:#b22222 !important}\n    text{font-family: Lato; font-style: italic; font-size: 750px;}\n    rect.highlight_box { fill:none; stroke-width:40; stroke:green;}\n    text.highlight_box { font-size:500px; font-weight:800; fill:red}\n\"\"\"\n\nMULT_COLS = [2, 8]\n\n\ndef main():\n    \"\"\"\n    Main method\n    \"\"\"\n\n    proj = \"../heterogeneous_fabric/\"\n    source_files = glob.glob(f\"{proj}/*_Verilog/lb/*.v\")\n    source_files += glob.glob(f\"{proj}/*_Verilog/routing/*.v\")\n    source_files += glob.glob(f\"{proj}/*_Verilog/sub_module/*.v\")\n    source_files += glob.glob(f\"{proj}/*_Verilog/fpga_top.v\")\n\n    # Create OpenFPGA object\n    fpga = OpenFPGA(grid=(8, 8), verilog_files=source_files)\n\n    # Convert wires to bus structure\n    fpga.merge_all_grid_ios()\n    fpga.design_top_stat()\n\n    # = = = = = = = = = = = = = = = = = = = = = = = = = = = = = =\n    #           Floorplan visualization\n    # = = = = = = = = = = = = = = = = = = = = = = = = = = = = = =\n\n    fpga_grid = FPGAGridGen(\n        design_name=\"FPGA8x8\",\n        layout=\"8x8\",\n        arch_file=f\"{proj}/FPGA88_hetero_Task/arch/k6_N10_tileable.xml\",\n        release_root=None,\n    )\n    fpga_grid.enumerate_grid()\n    fpga.load_grid(fpga_grid)\n    fpga.annotate_area_information(f\"{proj}/area_info.txt\", skipline=1)\n\n    fpga.SC_HEIGHT = SC_HEIGHT\n    fpga.CPP = CPP\n    fpga.SC_GRID = CPP * SC_HEIGHT\n\n    # = = = = = = = = = = = = = = = = = = = = = = =\n    #         Shaping Information\n    # = = = = = = = = = = = = = = = = = = = = = = =\n\n    fpga.register_placement_creator(initial_hetero_placement)\n\n    m = {}\n    m[\"clb_w\"], m[\"clb_h\"] = 340, 48\n    m[\"cbx11_w\"], m[\"cbx11_h\"] = 220, 18\n    m[\"bottom_cbx_w\"], m[\"bottom_cbx_h\"] = 220, 18\n    m[\"top_cbx_w\"], m[\"top_cbx_h\"] = 220, 40\n\n    m[\"cby11_w\"], m[\"cby11_h\"] = 120, 30\n    m[\"left_cby_w\"], m[\"left_cby_h\"] = 180, 30\n    m[\"right_cby_w\"], m[\"right_cby_h\"] = 160, 30\n\n    m[\"mult_w_delta\"] = 120\n\n    fpga.placement_creator.update_shaping_param(m)\n    fpga.placement_creator.derive_sb_paramters()\n    fpga.placement_creator.create_shapes()\n\n    shapes = fpga.placement_creator.module_shapes\n\n    # This adjusts the placement grid\n    for col in MULT_COLS:\n        fpga.placement_creator.design_grid.set_column_width(\n            col * 2, (m[\"clb_w\"]-m[\"mult_w_delta\"]) * CPP)\n\n    inst = fpga.design_top_stat()\n    logger.info(\"This are extra modules to floorplan\")\n    logger.info(set(inst.keys()) - set(shapes.keys()))\n\n    shapes[\"cbx_2__0_\"] = deepcopy(shapes[\"cbx_1__0_\"])\n    shapes[\"cbx_2__0_\"][\"POINTS\"][0] -= m[\"mult_w_delta\"]\n    shapes[\"cbx_2__2_\"] = deepcopy(shapes[\"cbx_1__1_\"])\n    shapes[\"cbx_2__2_\"][\"POINTS\"][0] -= m[\"mult_w_delta\"]\n    shapes[\"cbx_2__8_\"] = deepcopy(shapes[\"cbx_1__8_\"])\n    shapes[\"cbx_2__8_\"][\"POINTS\"][0] -= m[\"mult_w_delta\"]\n    shapes[\"cby_2__1_\"] = deepcopy(shapes[\"cby_1__1_\"])\n    shapes[\"cby_3__1_\"] = deepcopy(shapes[\"cby_1__1_\"])\n    shapes[\"sb_1__2_\"] = deepcopy(shapes[\"sb_1__1_\"])\n    shapes[\"sb_2__0_\"] = deepcopy(shapes[\"sb_1__0_\"])\n    shapes[\"sb_2__1_\"] = deepcopy(shapes[\"sb_1__1_\"])\n    shapes[\"sb_2__2_\"] = deepcopy(shapes[\"sb_1__1_\"])\n    shapes[\"sb_2__8_\"] = deepcopy(shapes[\"sb_1__8_\"])\n    shapes[\"sb_3__0_\"] = deepcopy(shapes[\"sb_1__0_\"])\n    shapes[\"sb_3__1_\"] = deepcopy(shapes[\"sb_1__1_\"])\n    shapes[\"sb_3__8_\"] = deepcopy(shapes[\"sb_1__8_\"])\n    shapes[\"sb_8__2_\"] = deepcopy(shapes[\"sb_8__1_\"])\n\n    shapes[\"grid_mult_8\"] = deepcopy(shapes[\"grid_clb\"])\n    shapes[\"grid_mult_8\"][\"POINTS\"][1] += m[\"clb_h\"] + m[\"cbx11_h\"]\n    shapes[\"grid_mult_8\"][\"POINTS\"][0] -= m[\"mult_w_delta\"]\n\n    shapes[\"sb_2__1_\"][\"POINTS\"][1] = 0  # Trim right side\n    shapes[\"sb_2__1_\"][\"PLACEMENT\"][0] = 0  # Reset x offset\n    shapes[\"sb_8__1_\"][\"POINTS\"][1] = 0  # Trim right side\n    shapes[\"sb_8__1_\"][\"PLACEMENT\"][0] = 0  # Reset x offset\n\n    # Make few modules unique to fit in floorplan\n    inst_list = []\n    for col in MULT_COLS:\n        inst_list += [f\"sb_{col-1}__{i}_\" for i in range(1, FPGA_HEIGHT, 2)]\n    fpga.top_module.make_instance_unique(\n        next(fpga.top_module.get_instances(inst_list[0])),\n        \"sb_7__1_\",\n        instance_list=inst_list,\n    )\n    shapes[\"sb_7__1_\"] = deepcopy(shapes[\"sb_1__1_\"])\n    shapes[\"sb_7__1_\"][\"POINTS\"][-2] = 0  # Trim right side\n    shapes.pop(\"sb_1__1_\")\n\n    fpga.create_placement()\n    fpga.update_module_label()\n\n    additional_styles = fpga.get_overutils_styles()\n\n    # = = = = = = = = = = = = = = = = = = = = = = = = = = = = = =\n    fpga.show_placement_data(\"*\")\n\n    fp = FloorPlanViz(fpga.top_module)\n    fp.compose(skip_connections=True, skip_pins=True)\n    fp.custom_style_sheet = STYLE_SHEET + additional_styles\n    dwg = fp.get_svg()\n    dwg.add(fpga.placement_creator.design_grid.render_grid(return_group=True))\n\n    pattern = dwg.pattern(size=(4 * CPP, 2 * SC_HEIGHT),\n                          patternUnits=\"userSpaceOnUse\")\n    pattern.add(dwg.circle(center=(2, 2), r=1, fill=\"black\"))\n    pattern.add(dwg.circle(center=(2, SC_HEIGHT + 2), r=1, fill=\"red\"))\n    dwg.defs.add(pattern)\n    dwg.defs.elements[0].elements[0].attribs[\"fill\"] = pattern.get_funciri()\n\n    filename = \"_hetero_design_adjust_floorplan.svg\"\n    dwg.saveas(filename, pretty=True, indent=4)\n\n\nif __name__ == \"__main__\":\n    main()"
      ]
    }
  ],
  "metadata": {
    "kernelspec": {
      "display_name": "Python 3",
      "language": "python",
      "name": "python3"
    },
    "language_info": {
      "codemirror_mode": {
        "name": "ipython",
        "version": 3
      },
      "file_extension": ".py",
      "mimetype": "text/x-python",
      "name": "python",
      "nbconvert_exporter": "python",
      "pygments_lexer": "ipython3",
      "version": "3.8.10"
    }
  },
  "nbformat": 4,
  "nbformat_minor": 0
}