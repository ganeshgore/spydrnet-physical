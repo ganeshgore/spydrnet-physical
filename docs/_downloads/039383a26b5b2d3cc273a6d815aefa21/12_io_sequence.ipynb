{
  "cells": [
    {
      "cell_type": "code",
      "execution_count": null,
      "metadata": {
        "collapsed": false
      },
      "outputs": [],
      "source": [
        "%matplotlib inline"
      ]
    },
    {
      "cell_type": "markdown",
      "metadata": {},
      "source": [
        "\n# Represetes IO Sequence in OpenFPGA Engine\n\nThis example demonstrates the ``OpenFPGA_Arch`` class which parses the\n`VPR` and `OpenFPGA` Architecture file and provides logical information.\n\n<img src=\"file://../../../examples/OpenFPGA_basic/_sample_io_sequence.svg\" width=\"60%\" align=\"center\">\n"
      ]
    },
    {
      "cell_type": "code",
      "execution_count": null,
      "metadata": {
        "collapsed": false
      },
      "outputs": [],
      "source": [
        "import math\nimport svgwrite\nfrom svgwrite.container import Group\n\n\ndef draw_connections(width, height, connections):\n    \"\"\"\n    Draw connection sequence\n    \"\"\"\n    dwg = svgwrite.Drawing()\n\n    DRAW_WIDTH = (width + 2) * SCALE\n    DRAW_HEIGHT = (height + 2) * SCALE\n    # set user coordinate space\n    dwg.viewbox(width=DRAW_WIDTH, height=DRAW_HEIGHT, miny=-1 * DRAW_HEIGHT)\n\n    dwg_main = Group(id=\"Main\", transform=\"scale(1,-1)\")\n    dwg.add(dwg_main)\n\n    for w in range(1, width + 2):\n        dwg_main.add(\n            dwg.line(\n                (w * SCALE, SCALE), (w * SCALE, (height + 1) * SCALE), stroke=\"red\"\n            )\n        )\n\n    for h in range(1, height + 2):\n        dwg_main.add(\n            dwg.line((SCALE, h * SCALE), ((width + 1) * SCALE, h * SCALE), stroke=\"red\")\n        )\n\n    path = \"M \"\n    for point in connections:\n        path += \" %d %d \" % ((point[0] + 0.5) * SCALE, (point[1] + 0.5) * SCALE)\n\n    dwg_main.add(dwg.path(path, stroke=\"blue\", fill=\"none\", stroke_width=\"2px\"))\n    dwg.saveas(\"_sample_io_sequence.svg\", pretty=True)\n\n\nSCALE = 20\nFPGA_WIDTH = 40\nFPGA_HEIGHT = 15\n\nW = max(FPGA_WIDTH, FPGA_HEIGHT)\nW2 = math.floor(W / 2) + 1\n\nconnections = []\nxmin, xmax = 1, FPGA_WIDTH\nymin, ymax = 1, FPGA_HEIGHT\n\nwhile (xmin < xmax) and (ymin < ymax):\n    print(xmin, ymin, end=\" -> \")\n    print(xmax, ymax)\n\n    x = xmin\n    for y in range(ymin, ymax + 1):\n        connections.append((x, y))\n    y = ymax\n    for x in range(xmin, xmax + 1):\n        connections.append((x, y))\n\n    x = xmax\n    for y in range(ymin, ymax + 1)[::-1]:\n        connections.append((x, y))\n\n    y = ymin\n    for x in range(xmin, xmax + 1)[::-1][:-1]:\n        connections.append((x, y))\n\n    xmin += 1\n    ymin += 1\n    xmax -= 1\n    ymax -= 1\n\n\nif FPGA_HEIGHT % 2 == 1:  # if height is odd\n    if ymin == ymax:  # if touching vertically\n        y = ymin\n        for x in range(xmin, xmax + 1):\n            connections.append((x, y))\n\n\nif FPGA_WIDTH % 2 == 1:  # if width is odd\n    if xmin == xmax:  # if touching horizontally\n        x = xmin\n        for y in range(ymin, ymax + 1):\n            connections.append((x, y))\n\n# print(connections)\nif connections:\n    draw_connections(FPGA_WIDTH, FPGA_HEIGHT, connections)\nelse:\n    # Dummy draw\n    draw_connections(FPGA_WIDTH, FPGA_HEIGHT, [(1, 1)])"
      ]
    }
  ],
  "metadata": {
    "kernelspec": {
      "display_name": "Python 3",
      "language": "python",
      "name": "python3"
    },
    "language_info": {
      "codemirror_mode": {
        "name": "ipython",
        "version": 3
      },
      "file_extension": ".py",
      "mimetype": "text/x-python",
      "name": "python",
      "nbconvert_exporter": "python",
      "pygments_lexer": "ipython3",
      "version": "3.8.10"
    }
  },
  "nbformat": 4,
  "nbformat_minor": 0
}