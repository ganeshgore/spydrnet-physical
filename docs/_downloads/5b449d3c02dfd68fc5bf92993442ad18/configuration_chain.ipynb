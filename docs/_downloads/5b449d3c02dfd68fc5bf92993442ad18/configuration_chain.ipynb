{
  "cells": [
    {
      "cell_type": "code",
      "execution_count": null,
      "metadata": {
        "collapsed": false
      },
      "outputs": [],
      "source": [
        "%matplotlib inline"
      ]
    },
    {
      "cell_type": "markdown",
      "metadata": {},
      "source": [
        "\n# Adding configuration chain to the fabric\n\nThis example demonstate how to create a tile strcuture from\nVerilog netlist obtained from OpenFPGA\n\n<img src=\"file://../../../examples/OpenFPGA/_fpga_configuration_chain.svg\" width=\"500px\" align=\"center\">\n"
      ]
    },
    {
      "cell_type": "code",
      "execution_count": null,
      "metadata": {
        "collapsed": false
      },
      "outputs": [],
      "source": [
        "import glob\nimport logging\nimport os\nimport tempfile\nfrom itertools import chain\n\nimport spydrnet as sdn\nfrom spydrnet_physical.util import OpenFPGA\nfrom spydrnet_physical.util import config_chain_simple\nfrom spydrnet_physical.util.get_floorplan import FloorPlanViz\nfrom spydrnet_physical.util.shell import launch_shell\n\nlogger = logging.getLogger('spydrnet_logs')\nsdn.enable_file_logging(LOG_LEVEL='INFO')\n\n\ndef main():\n    # Read verilog sources\n    source_files = glob.glob('homogeneous_fabric/*_Verilog/lb/*.v')\n    source_files += glob.glob('homogeneous_fabric/*_Verilog/routing/*.v')\n    source_files += glob.glob('homogeneous_fabric/*_Verilog/sub_module/*.v')\n    source_files += glob.glob('homogeneous_fabric/*_Verilog/fpga_top.v')\n\n    # Temporary fix to read multiple verilog files\n    with tempfile.NamedTemporaryFile(suffix=\".v\") as fp:\n        for eachV in source_files:\n            with open(eachV, \"r\") as fpv:\n                fp.write(str.encode(\" \".join(fpv.readlines())))\n        fp.seek(0)\n        netlist = sdn.parse(fp.name)\n\n    fpga = OpenFPGA(grid=(4, 4), netlist=netlist)\n    fpga.placement_creator.gridIO = True\n    fpga.create_placement()\n\n    # =========================\n    # General netlist cleanup\n    # =========================\n\n    fpga.create_grid_clb_bus()\n    fpga.create_grid_io_bus()\n    fpga.create_sb_bus()\n    fpga.create_cb_bus()\n\n    fpga.remove_config_chain()\n    fpga.remove_undriven_nets()\n\n    for i in chain(fpga.top_module.get_instances(\"grid_clb*\"),\n                   fpga.top_module.get_instances(\"grid_io*\"),\n                   fpga.top_module.get_instances(\"sb_*\")):\n        for p in filter(lambda x: True, i.reference.ports):\n            if p.size > 1 and (i.check_all_scalar_connections(p)):\n                cable_list = []\n                for pin in p.pins[::-1]:\n                    cable_list.append(i.pins[pin].wire.cable)\n                fpga.top_module.combine_cables(\n                    f\"{i.name}_{p.name}\", cable_list)\n\n    fpga.create_grid_clb_feedthroughs()\n\n    # ===============================\n    # Add configuration chain\n    # ===============================\n    fpga.register_config_generator(config_chain_simple)\n    fpga.add_configuration_scheme()\n    fpga.config_creator.write_fabric_key(\"_fabric_key.xml\")\n\n    # ===============================\n    # Simple Florrplan\n    # ===============================\n    next(fpga.top_module.get_ports(\"ccff_head\")).properties[\"SIDE\"] = \"right\"\n    next(fpga.top_module.get_ports(\"ccff_head\")).properties[\"OFFSET\"] = 50\n\n    next(fpga.top_module.get_ports(\"ccff_tail\")).properties[\"SIDE\"] = \"right\"\n    next(fpga.top_module.get_ports(\"ccff_tail\")).properties[\"OFFSET\"] = 1750\n\n    # ===============================\n    # Visualise configuration chain\n    # ===============================\n    fp = FloorPlanViz(fpga.top_module)\n    fp.compose(\n        filter_cables=(lambda x: \"ccff\" in x.name),\n        skip_pins=False)\n    dwg = fp.get_svg()\n    dwg.saveas(\"_fpga_configuration_chain.svg\", pretty=True, indent=4)\n\n    # Save verilog netlist\n    base_dir = (\".\", \"homogeneous_fabric\", \"_output_3\")\n    fpga.save_netlist(\"sb*\", os.path.join(*base_dir, \"routing\"),\n                      skip_constraints=False)\n    fpga.save_netlist(\"cb*\", os.path.join(*base_dir, \"routing\"),\n                      skip_constraints=False)\n    fpga.save_netlist(\"grid*\", os.path.join(*base_dir, \"lb\"),\n                      skip_constraints=False)\n    fpga.save_netlist(\"*tile*\", os.path.join(*base_dir, \"tiles\"),\n                      skip_constraints=False)\n    fpga.save_netlist(\"fpga_top\", os.path.join(*base_dir),\n                      skip_constraints=False)\n\n\nif __name__ == \"__main__\":\n    main()"
      ]
    }
  ],
  "metadata": {
    "kernelspec": {
      "display_name": "Python 3",
      "language": "python",
      "name": "python3"
    },
    "language_info": {
      "codemirror_mode": {
        "name": "ipython",
        "version": 3
      },
      "file_extension": ".py",
      "mimetype": "text/x-python",
      "name": "python",
      "nbconvert_exporter": "python",
      "pygments_lexer": "ipython3",
      "version": "3.8.10"
    }
  },
  "nbformat": 4,
  "nbformat_minor": 0
}