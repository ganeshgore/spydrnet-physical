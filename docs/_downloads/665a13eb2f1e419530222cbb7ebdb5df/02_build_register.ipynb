{
  "cells": [
    {
      "cell_type": "markdown",
      "metadata": {},
      "source": [
        "\n# Build Multiplexer (SVG/Interactive)\n\nThis example demonstrates how to build a multiplexer using the `spydrnet-physical` library.\n"
      ]
    },
    {
      "cell_type": "code",
      "execution_count": null,
      "metadata": {
        "collapsed": false
      },
      "outputs": [],
      "source": [
        "import spydrnet as sdn\nimport spydrnet_physical as sdnphy\nfrom spydrnet_physical.util import circuit_builder as circ_builder\n\nfrom spydrnet_physical.composers.html.composer import HTMLComposer\nfrom spydrnet_physical.composers.svg.composer import SVGComposer\n\nnetlist = sdnphy.load_netlist_by_name(\"std_genlib\")\nlibrary = netlist.create_library(\"top\")\n\ntop_def = library.create_definition(\"top_module\")\ntop_def.create_port(\"shift_in\", direction=sdn.IN, pins=4)\ntop_def.create_port(\"shift_out\", direction=sdn.IN, pins=4)\ntop_def.create_port(\"reset\", direction=sdn.IN, pins=1)\ntop_def.create_port(\"enable\", direction=sdn.IN, pins=1)\ntop_def.create_port(\"clock\", direction=sdn.IN, pins=1)\ntop_def.create_port(\"bitout\", direction=sdn.OUT, pins=16)\n\nnetlist.set_top_instance(top_def)\nnetlist.top_instance.reference.name = \"top_module\"\n\n# Build a single instance of MUX in this case 2:1 MUX\nsipo_reg = circ_builder.build_sipo_register(\n    library=library,\n    flop_module=next(netlist.get_definitions(\"DFF_NR_EN\")),\n    width=4,\n    depth=4,\n)\n\nsipo_reg_inst = top_def.create_child(\"sipo_reg\", reference=sipo_reg)\ntop_def.create_cable(\"shift_in\", wires=4).connect_instance_port(\n    sipo_reg_inst, next(sipo_reg.get_ports(\"shift_in\"))\n)\ntop_def.create_cable(\"shift_out\", wires=4).connect_instance_port(\n    sipo_reg_inst, next(sipo_reg.get_ports(\"shift_out\"))\n)\ntop_def.create_cable(\"bitout\", wires=16).connect_instance_port(\n    sipo_reg_inst, next(sipo_reg.get_ports(\"out\"))\n)\ntop_def.create_cable(\"clock\", wires=1).connect_instance_port(\n    sipo_reg_inst, next(sipo_reg.get_ports(\"clock\"))\n)\n\n\nsipo_reg.create_unconn_wires()\n\ncomposer = HTMLComposer()\ncomposer.run(netlist, file_out=\"_sipo_builder.html\")\n\ncomposer = SVGComposer()\ncomposer.expand(modules=[\"top\"])\ncomposer.run(\n    netlist,\n    file_out=\"_sipo_builder.svg\",\n    netlistsvg=\"netlistsvg-hierarchy\",\n    top_module=\"sipo_reg\",\n)\n\nsdn.compose(\n    netlist, filename=\"_sipo_builder.v\", write_blackbox=False, skip_constraints=True\n)"
      ]
    }
  ],
  "metadata": {
    "kernelspec": {
      "display_name": "Python 3",
      "language": "python",
      "name": "python3"
    },
    "language_info": {
      "codemirror_mode": {
        "name": "ipython",
        "version": 3
      },
      "file_extension": ".py",
      "mimetype": "text/x-python",
      "name": "python",
      "nbconvert_exporter": "python",
      "pygments_lexer": "ipython3",
      "version": "3.12.7"
    }
  },
  "nbformat": 4,
  "nbformat_minor": 0
}