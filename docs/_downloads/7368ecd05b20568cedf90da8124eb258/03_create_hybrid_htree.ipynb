{
  "cells": [
    {
      "cell_type": "markdown",
      "metadata": {},
      "source": [
        "\n# Create Hybrid Connectivity Pattern\n\nThis example demostrate how to create hybrid connetivity pattern for any \narbitrary (non square ) tiles.\n\n\n**Output**\n\n<img src=\"file://../../../examples/OpenFPGA_clock_tree/_hybrid_connectivity_pattern.svg\" width=\"500px\" align=\"center\">\n\n<img src=\"file://../../../examples/OpenFPGA_clock_tree/_hybrid_connectivity_pattern_graph.svg\" height=\"500px\" align=\"center\">\n"
      ]
    },
    {
      "cell_type": "code",
      "execution_count": null,
      "metadata": {
        "collapsed": false
      },
      "outputs": [],
      "source": [
        "import matplotlib.pyplot as plt\nimport networkx as nx\nfrom networkx.drawing.nx_pydot import to_pydot\nfrom spydrnet_physical.util import ConnectionPattern\n\nWIDTH = 19\nHEIGHT = 13\ncpat = ConnectionPattern(WIDTH, HEIGHT)\nhyb_pat = cpat.connections\nhyb_pat.cursor = (int(WIDTH/2)+1, 0)\nhyb_pat.move_y(steps=int(HEIGHT/2)+1)\nhyb_pat.merge(\n    cpat.get_htree(HEIGHT, root=1, side=3, repeat=2).translate((WIDTH-HEIGHT)/2, 0))\nhyb_pat.merge(cpat.get_htree(int(HEIGHT/2), side=1, repeat=3).translate(3, 0))\nhyb_pat.merge(cpat.get_htree(int(HEIGHT/2), side=1, repeat=3).translate(3, 8))\nhyb_pat.merge(cpat.get_htree(int(HEIGHT/2), side=1, repeat=3).translate(11, 0))\nhyb_pat.merge(cpat.get_htree(int(HEIGHT/2), side=1, repeat=3).translate(11, 8))\n\nfor y in range(1, HEIGHT+1):\n    hyb_pat.add_connection(2, y, 1, y)\n    hyb_pat.add_connection(WIDTH-1, y, WIDTH, y)\n\nfor x in range(3, WIDTH-1):\n    hyb_pat.add_connection(x, ((HEIGHT-1)/2)+1, x, ((HEIGHT-1)/2)+2)\n    if not x == (int(WIDTH/2)+1):\n        hyb_pat.add_connection(x, ((HEIGHT-1)/2)+1, x, ((HEIGHT-1)/2))\n    else:\n        hyb_pat.cursor = (int(WIDTH/2)+1, int(HEIGHT/2)+2)\n        hyb_pat.move_y(steps=int(HEIGHT/2)-1)\n\n\ngraph = hyb_pat.create_graph()\n\n# TODO Annotate graph with wire length  from source\n\n\ndef leaf_node_weight(x, y):\n    return 4\n\n\nfor node_lbl in graph.nodes:\n    if graph.out_degree(node_lbl) == 0:\n        _, x, y, _ = node_lbl.split(\"_\")\n        node = graph.nodes[node_lbl]\n        node[\"weight\"] = leaf_node_weight(x, y)\n        node[\"color\"] = \"red\"\n        node[\"label\"] = f\"{node_lbl}_{leaf_node_weight(x, y)}\"\n\n\ndef get_leaf_sum(graph, node):\n    total_weight = 0\n    for node_lbl in nx.dfs_preorder_nodes(graph, node):\n        if node_lbl == node:\n            continue\n        node = graph.nodes[node_lbl]\n        if \"weight\" in node:\n            total_weight += int(node[\"weight\"])\n    return total_weight\n\n\nfor node_lbl in nx.dfs_preorder_nodes(graph):\n    if graph.out_degree(node_lbl) > 1:\n        node = graph.nodes[node_lbl]\n        node[\"label\"] = f\"{node_lbl}_[{get_leaf_sum(graph, node_lbl)}]\"\n\n\ngraph = to_pydot(graph)\ngraph.write_dot(\"_hybrid_connectivity_pattern_graph.dot\")\ngraph.write_svg(\"_hybrid_connectivity_pattern_graph.svg\")\ngraph.write_png(\"_hybrid_connectivity_pattern_graph.png\")\n\nsvg = cpat.render_pattern(title=\"Hybrid Pattern\")\nsvg.saveas(\"_hybrid_connectivity_pattern.svg\", pretty=True, indent=4)"
      ]
    }
  ],
  "metadata": {
    "kernelspec": {
      "display_name": "Python 3",
      "language": "python",
      "name": "python3"
    },
    "language_info": {
      "codemirror_mode": {
        "name": "ipython",
        "version": 3
      },
      "file_extension": ".py",
      "mimetype": "text/x-python",
      "name": "python",
      "nbconvert_exporter": "python",
      "pygments_lexer": "ipython3",
      "version": "3.12.7"
    }
  },
  "nbformat": 4,
  "nbformat_minor": 0
}