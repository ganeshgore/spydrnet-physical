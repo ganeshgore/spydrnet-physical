{
  "cells": [
    {
      "cell_type": "code",
      "execution_count": null,
      "metadata": {
        "collapsed": false
      },
      "outputs": [],
      "source": [
        "%matplotlib inline"
      ]
    },
    {
      "cell_type": "markdown",
      "metadata": {},
      "source": [
        "\n# Rendering Switch Box\n\nThis example demostrate how a switchbox adn connection box\ncan be rendered in a SVG format.\n\nIt also shows a simple switch partitionong scheme which splits\nthe connection box switches in to two partition with mnimum\nconnectivity.\n\n**Full Switch Box**\n\n<img src=\"file://../../../examples/OpenFPGA/_sb_1__1_.svg\" width=\"500px\" align=\"center\">\n\n**Left Connection Box**\n\n<img src=\"file://../../../examples/OpenFPGA/_cbx_1__1_.svg\" width=\"150px\" align=\"center\">\n\n**Top Connection Box**\n\n<img src=\"file://../../../examples/OpenFPGA/_cbx_1__2_.svg\" width=\"800px\" align=\"center\">\n\n**Splitting Channels in Left Connection Box**\n\n<img src=\"file://../../../examples/OpenFPGA/_cbx_1__1_split.svg\" width=\"800px\" align=\"center\">\n\nTODO: Extend it to all the switch boxes\n"
      ]
    },
    {
      "cell_type": "code",
      "execution_count": null,
      "metadata": {
        "collapsed": false
      },
      "outputs": [],
      "source": [
        "import glob\nimport logging\nfrom os import path\nimport numpy as np\n\nimport spydrnet as sdn\nfrom spydrnet_physical.util import RoutingRender\n\nlogger = logging.getLogger('spydrnet_logs')\nsdn.enable_file_logging(LOG_LEVEL='DEBUG')\n\nscale = 50\nSPACING = 150\n\nnp.set_printoptions(linewidth=200)\n\n\ndef main():\n    proj = 'homogeneous_fabric'\n    for indx, sb in enumerate(glob.glob(f'{proj}/*_Verilog/routing/sb_1__1_.v')):\n        module = path.splitext(path.basename(sb))[0]\n\n        # This creates switch-box rendering class\n        sb_render = RoutingRender(module, f\"{proj}/FPGA44_gsb/{module}.xml\")\n        # Print stats of switch box\n        sb_render.get_stats(print_header=bool(indx == 0))\n        # Render full switch-box and save as SVG\n        sb_render.render_switch_pattern()\n        sb_render.save(filename=\"_sb_1__1_.svg\")\n        sb_render.render_connection_box('left', filename=\"_cbx_1__1_.svg\")\n        sb_render.render_connection_box('top', filename=\"_cbx_1__2_.svg\")\n\n        # Report incoming channel information\n        print(\"\\n left incoming channels\")\n        sb_render.report_incoming_channels(\"left\")\n        print(\"\\n right incoming channels\")\n        sb_render.report_incoming_channels(\"right\")\n        print(\"\\n top incoming channels\")\n        sb_render.report_incoming_channels(\"top\")\n        print(\"\\n bottom incoming channels\")\n        sb_render.report_incoming_channels(\"bottom\")\n\n        # Report outgoing channel information\n        print(\"\\nleft outgoing channels\")\n        sb_render.report_outgoing_channels(\"left\")\n        print(\"\\nright outgoing channels\")\n        sb_render.report_outgoing_channels(\"right\")\n        print(\"\\ntop outgoing channels\")\n        sb_render.report_outgoing_channels(\"top\")\n        print(\"\\nbottom outgoing channels\")\n        sb_render.report_outgoing_channels(\"bottom\")\n\n        def channel_map(side, x):\n            lbl = side[0].upper() + str(x)\n            chan_map = [\"R0\", \"R1\", \"R2\", \"R3\",\n                        \"L0\", \"L1\", \"L2\", \"L3\",\n                        \"R4\", \"R5\", \"R6\", \"R7\", \"\", \"\"\n                        \"L4\", \"L5\", \"L6\", \"L7\",\n                        \"R8\", \"R9\",\n                        \"L8\", \"L9\", ]\n            if lbl in chan_map:\n                indx = chan_map.index(lbl) if lbl in chan_map else x\n                return (20-indx) if side == 'left' else indx\n            else:\n                return x\n\n        sb_render.render_connection_box(\n            'top',\n            pinmap=lambda x: [0,  2,  4,  6,  8,\n                              10,  12, 14,  16,  18,\n                              20, 22, 24, 26, 28,\n                              30, 32, 34, 36, 38,\n                              None, None, None, None, None,\n                              1, 3, 5, 7, 9,\n                              11, 13, 15, 17, 19,\n                              21, 23, 25, 27, 29,\n                              31, 33, 35, 37, 39].index(x),\n            channel_map=channel_map,\n            filename=\"_cbx_1__1_split.svg\")\n\n\nif __name__ == \"__main__\":\n    main()"
      ]
    }
  ],
  "metadata": {
    "kernelspec": {
      "display_name": "Python 3",
      "language": "python",
      "name": "python3"
    },
    "language_info": {
      "codemirror_mode": {
        "name": "ipython",
        "version": 3
      },
      "file_extension": ".py",
      "mimetype": "text/x-python",
      "name": "python",
      "nbconvert_exporter": "python",
      "pygments_lexer": "ipython3",
      "version": "3.8.10"
    }
  },
  "nbformat": 4,
  "nbformat_minor": 0
}