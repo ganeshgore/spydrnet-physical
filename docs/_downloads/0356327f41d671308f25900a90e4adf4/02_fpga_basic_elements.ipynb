{
  "cells": [
    {
      "cell_type": "code",
      "execution_count": null,
      "metadata": {
        "collapsed": false
      },
      "outputs": [],
      "source": [
        "%matplotlib inline"
      ]
    },
    {
      "cell_type": "markdown",
      "metadata": {},
      "source": [
        "\n# Render FPGA Basic Elements\n\nThis example demonstates, how to render primitive FPGA elements using yosys \nand `netlistSVG <https://github.com/nturley/netlistsvg>`_ program.\nThis sexample also demonstrates the use of ``OpenFPGA`` class.\n\n.. hdl-diagram:: ../../../../examples/OpenFPGA/basic/_includes.v\n   :type: netlistsvg\n   :align: center\n   :module: cbx_1__1_\n"
      ]
    },
    {
      "cell_type": "code",
      "execution_count": null,
      "metadata": {
        "collapsed": false
      },
      "outputs": [],
      "source": [
        "import glob\nimport logging\nimport tempfile\nfrom itertools import chain\nfrom os import path\n\nimport spydrnet as sdn\nfrom spydrnet.ir import library\nfrom spydrnet_physical.util import (OpenFPGA, Tile01)\n\nlogger = logging.getLogger('spydrnet_logs')\nsdn.enable_file_logging(LOG_LEVEL='INFO')\n\n\ndef main():\n    # = = = = = = = = = = = = = = = = = = = = = = = = = = = = = = = = = = = = =\n    #               Reading homogeneous 4x4 FPGA netlist\n    # = = = = = = = = = = = = = = = = = = = = = = = = = = = = = = = = = = = = =\n    proj = \"../homogeneous_fabric\"\n    source_files = glob.glob(f'{proj}/*_Verilog/lb/*.v')\n    source_files += glob.glob(f'{proj}/*_Verilog/routing/*.v')\n    source_files += glob.glob(f'{proj}/*_Verilog/sub_module/*.v')\n    source_files += glob.glob(f'{proj}/*_Verilog/fpga_top.v')\n    source_files += glob.glob(\n        f'{proj}/*_Task/CustomModules/standard_cell_wrapper.v')\n\n    # Temporary fix to read multiple verilog files\n    with tempfile.NamedTemporaryFile(suffix=\".v\") as fp:\n        for eachV in source_files:\n            with open(eachV, \"r\") as fpv:\n                fp.write(str.encode(\" \".join(fpv.readlines())))\n        fp.seek(0)\n        netlist = sdn.parse(fp.name)\n\n    # Create OpenFPGA object\n    fpga = OpenFPGA(grid=(4, 4), netlist=netlist)\n\n    # Convert wires to bus structure\n    fpga.create_grid_clb_bus()\n    fpga.create_grid_io_bus()\n    fpga.create_sb_bus()\n    fpga.create_cb_bus()\n\n    # Remove undriven nets\n    fpga.remove_undriven_nets()\n    fpga.remove_config_chain()\n\n    # Top level nets to bus\n    for i in chain(fpga.top_module.get_instances(\"grid_clb*\"),\n                   fpga.top_module.get_instances(\"grid_io*\"),\n                   fpga.top_module.get_instances(\"sb_*\")):\n        for p in filter(lambda x: True, i.reference.ports):\n            if p.size > 1 and (i.check_all_scalar_connections(p)):\n                cable_list = []\n                for pin in p.pins[::-1]:\n                    cable_list.append(i.pins[pin].wire.cable)\n                fpga.top_module.combine_cables(\n                    f\"{i.name}_{p.name}\", cable_list)\n\n    # fpga.create_grid_clb_feedthroughs()\n\n    # = = = = = = = = = = = = = = = = = = = = = = = = = = = = = = =\n    #                   Start rendering CBX11\n    # = = = = = = = = = = = = = = = = = = = = = = = = = = = = = = =\n    cbx11 = next(fpga.library.get_definitions(\"cbx_1__1_\"))\n    # Remove configuration elements\n    for instance in list(cbx11.get_instances(\"*mem*\")):\n        cbx11.remove_child(instance)\n\n    fpga.save_netlist(\"cbx_1__1_\", \"./_tmp\")\n\n    # = = = = = = = = = = = = = = = = = = = = = = = = = = = = = = =\n    #              Create include files to render\n    # = = = = = = = = = = = = = = = = = = = = = = = = = = = = = = =\n    # Create include file to render schematic usign yosys\n    cust_proj = f\"{proj}/FPGA44_Task/CustomModules\"\n    veri_proj = f\"{proj}/FPGA44_Verilog\"\n    with open(\"_includes.v\", \"w\") as fp:\n        fp.write('`include \"./_tmp/cbx_1__1_.v\"\\n')\n        fp.write(f'`include \"{cust_proj}/standard_cell_primitives.v\"\\n')\n        fp.write(f'`include \"{veri_proj}/sub_module/muxes.v\"\\n')\n        fp.write(f'`include \"{veri_proj}/sub_module/memories.v\"\\n')\n        fp.write(f'`include \"{veri_proj}/sub_module/inv_buf_passgate.v\"\\n')\n\n\nif __name__ == \"__main__\":\n    main()"
      ]
    }
  ],
  "metadata": {
    "kernelspec": {
      "display_name": "Python 3",
      "language": "python",
      "name": "python3"
    },
    "language_info": {
      "codemirror_mode": {
        "name": "ipython",
        "version": 3
      },
      "file_extension": ".py",
      "mimetype": "text/x-python",
      "name": "python",
      "nbconvert_exporter": "python",
      "pygments_lexer": "ipython3",
      "version": "3.8.10"
    }
  },
  "nbformat": 4,
  "nbformat_minor": 0
}