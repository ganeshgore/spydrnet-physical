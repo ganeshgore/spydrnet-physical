{
  "cells": [
    {
      "cell_type": "code",
      "execution_count": null,
      "metadata": {
        "collapsed": false
      },
      "outputs": [],
      "source": [
        "%matplotlib inline"
      ]
    },
    {
      "cell_type": "markdown",
      "metadata": {},
      "source": [
        "\n# Optimizing module pins\nThis example demonstrate how to optimize the module pins based on the\nconnectivity of the current instances.\n\n\n**Before Optimization**\n\n<img src=\"file://../../../examples/OpenFPGA_basic/_simple_design.svg\" width=\"60%\" align=\"center\">\n\n**After Optimization**\n\n<img src=\"file://../../../examples/OpenFPGA_basic/_simple_design_post_opt_pins.svg\" width=\"60%\" align=\"center\">\n"
      ]
    },
    {
      "cell_type": "code",
      "execution_count": null,
      "metadata": {
        "collapsed": false
      },
      "outputs": [],
      "source": [
        "import logging\n\nimport spydrnet as sdn\nfrom spydrnet_physical.composers.svg.composer import SVGComposer\n\nlogger = logging.getLogger('spydrnet_logs')\nsdn.enable_file_logging(LOG_LEVEL=\"DEBUG\", filename=\"pin_opt\")"
      ]
    },
    {
      "cell_type": "markdown",
      "metadata": {},
      "source": [
        "## Example 1\n\n\n\n"
      ]
    },
    {
      "cell_type": "code",
      "execution_count": null,
      "metadata": {
        "collapsed": false
      },
      "outputs": [],
      "source": [
        "with open(\"_simple_design.v\", \"w\", encoding=\"UTF-8\") as fp:\n    fp.write('''\n    module top(in0, out);\n        input in0;\n        output [1:0]out;\n\n        block1 instance1 (.in0(in0), .in1(in0), .out(out[0]));\n        block1 instance2 (.in0(in0), .in1(in0), .out(out[1]));\n\n    endmodule\n\n    `celldefine\n    module block1(in0, in1, out);\n        input in0;\n        input in1;\n        output out;\n\n    endmodule\n    `endcelldefine\n    ''')\n\n\nwith open(\"_simple_design.v\", \"w\", encoding=\"UTF-8\") as fp:\n    fp.write('''\n    module top(in0, out);\n        input in0;\n        output out;\n\n        wire mid_out;\n\n        block1 instance1 (.in0(in0), .in1(mid_out), .out(out));\n        block2 instance2 (.in0(in0), .in1(mid_out), .in3(mid_out), .out(mid_out));\n\n    endmodule\n\n    `celldefine\n    module block1(in0, in1, out);\n        input in0;\n        input in1;\n        output out;\n\n    endmodule\n    `endcelldefine\n\n    `celldefine\n    module block2(in0, in1, in3, out);\n        input in0;\n        input in1;\n        input in3;\n        output out;\n\n    endmodule\n    `endcelldefine\n    ''')\n\nnetlist = sdn.parse(\"_simple_design.v\")\n\ncomposer = SVGComposer()\ncomposer.run(netlist, file_out=\"_simple_design.svg\")\n\nnext(netlist.get_definitions(\"block2\")).OptPins()\n\ncomposer = SVGComposer()\ncomposer.run(netlist, file_out=\"_simple_design_post_opt_pins.svg\")\nsdn.compose(netlist, '_simple_design_post_opt_pins.v', skip_constraints=True)"
      ]
    }
  ],
  "metadata": {
    "kernelspec": {
      "display_name": "Python 3",
      "language": "python",
      "name": "python3"
    },
    "language_info": {
      "codemirror_mode": {
        "name": "ipython",
        "version": 3
      },
      "file_extension": ".py",
      "mimetype": "text/x-python",
      "name": "python",
      "nbconvert_exporter": "python",
      "pygments_lexer": "ipython3",
      "version": "3.8.10"
    }
  },
  "nbformat": 4,
  "nbformat_minor": 0
}