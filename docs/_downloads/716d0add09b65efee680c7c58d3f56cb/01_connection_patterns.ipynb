{
  "cells": [
    {
      "cell_type": "code",
      "execution_count": null,
      "metadata": {
        "collapsed": false
      },
      "outputs": [],
      "source": [
        "%matplotlib inline"
      ]
    },
    {
      "cell_type": "markdown",
      "metadata": {},
      "source": [
        "\n# Connection Pattern Generation\n\nThis example demonstrate how to genrate different connection pattern\nfor routing global signals. By default this library support basic fishbone\nand HTree patterns, which can be extended to create desired connectivity\nusng transformations like ``rotate``, ``transalate``, ``margin``, ``merge``, \n``scale`` and ``sample``\n\n\n**Output**\n\n<img src=\"file://../../../examples/OpenFPGA_clock_tree/_fishbone_pattern.svg\" width=\"200px\">\n\n<img src=\"file://../../../examples/OpenFPGA_clock_tree/_fishbone_pattern_90.svg\" width=\"200px\">\n\n<img src=\"file://../../../examples/OpenFPGA_clock_tree/_fishbone_pattern_margin.svg\" width=\"200px\">\n\n<img src=\"file://../../../examples/OpenFPGA_clock_tree/_fishbone_pattern_merging.svg\" width=\"200px\">\n\n<img src=\"file://../../../examples/OpenFPGA_clock_tree/_fishbone_pattern_scaling1.svg\" width=\"200px\">\n\n<img src=\"file://../../../examples/OpenFPGA_clock_tree/_fishbone_pattern_scaling2.svg\" width=\"200px\">\n\n<img src=\"file://../../../examples/OpenFPGA_clock_tree/_fishbone_pattern_sampling.svg\" width=\"200px\">\n"
      ]
    },
    {
      "cell_type": "code",
      "execution_count": null,
      "metadata": {
        "collapsed": false
      },
      "outputs": [],
      "source": [
        "from spydrnet_physical.util import ConnectionPattern\n\np_manager = ConnectionPattern(5, 5)\nfishbone_pattern = p_manager.get_fishbone().set_color(\"green\")\nsvg = p_manager.render_pattern(title=\"Fishbone Pattern\")\nsvg.saveas(\"_fishbone_pattern.svg\", pretty=True, indent=4)\n\n# ===============================\n#        Rotate Example\n# ===============================\nfishbone_pattern.rotate(90)\nsvg = p_manager.render_pattern(title=\"Rotation\")\nsvg.saveas(\"_fishbone_pattern_90.svg\", pretty=True, indent=4)\n\n# ===============================\n#        Margin Example\n# ===============================\np_manager.reset()\nfishbone_pattern = p_manager.get_fishbone(x_margin=(1, 1))\nsvg = p_manager.render_pattern(title=\"Margin option\")\nsvg.saveas(\"_fishbone_pattern_margin.svg\", pretty=True, indent=4)\n\n# ===============================\n#  Transalate and Merge Example\n# ===============================\np_manager = ConnectionPattern(5, 5)\nleft_tree = p_manager.connections\nleft_tree = p_manager.get_fishbone(x_margin=(1, 1))\nleft_tree.translate(-1, 0)\n\np_manager = ConnectionPattern(5, 5)\nright_tree = p_manager.connections\nright_tree = p_manager.get_fishbone(x_margin=(1, 2))\nright_tree.translate(2, 0)\nright_tree.merge(left_tree)\nsvg = p_manager.render_pattern(title=\"Merging option\")\nsvg.saveas(\"_fishbone_pattern_merging.svg\", pretty=True, indent=4)\n\n# ===============================\n#        Scaling Example\n# ===============================\np_manager = ConnectionPattern(3, 3)\nleft_tree = p_manager.connections\nleft_tree = p_manager.get_fishbone()\nsvg = p_manager.render_pattern(title=\"Original\")\nsvg.saveas(\"_fishbone_pattern_scaling1.svg\", pretty=True, indent=4)\nleft_tree.scale(2, anchor=(1, 1))\n\np_manager = ConnectionPattern(5, 5)\nright_tree = p_manager.connections\nright_tree.merge(left_tree)\nright_tree.crop_edges()\nsvg = p_manager.render_pattern(title=\"Scale and Merge\")\nsvg.saveas(\"_fishbone_pattern_scaling2.svg\", pretty=True, indent=4)\n\n# ===============================\n#        Sampling Example\n# ===============================\nright_tree.sample_connections()\nsvg = p_manager.render_pattern(title=\"Scale and Sample\")\nsvg.saveas(\"_fishbone_pattern_sampling.svg\", pretty=True, indent=4)"
      ]
    }
  ],
  "metadata": {
    "kernelspec": {
      "display_name": "Python 3",
      "language": "python",
      "name": "python3"
    },
    "language_info": {
      "codemirror_mode": {
        "name": "ipython",
        "version": 3
      },
      "file_extension": ".py",
      "mimetype": "text/x-python",
      "name": "python",
      "nbconvert_exporter": "python",
      "pygments_lexer": "ipython3",
      "version": "3.8.10"
    }
  },
  "nbformat": 4,
  "nbformat_minor": 0
}