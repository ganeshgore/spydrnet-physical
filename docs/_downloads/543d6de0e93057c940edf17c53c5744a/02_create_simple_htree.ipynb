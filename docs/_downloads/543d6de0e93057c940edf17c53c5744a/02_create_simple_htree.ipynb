{
  "cells": [
    {
      "cell_type": "markdown",
      "metadata": {},
      "source": [
        "\n# Create H-Tree Connectivity pattern\n\nThis example demonstrate how to genrate different connection pattern\nfor routing global signals. By default this library support basic fishbone\nand HTree patterns, which can be extended to create desired connectivity\nusng transformations like ``rotate``, ``transalate``, ``margin``, ``merge``,\n``scale`` and ``sample``\n\n\n**Output**\n\n<img src=\"file://../../../examples/OpenFPGA_clock_tree/_htree_pattern.svg\" width=\"500px\" align=\"center\">\n"
      ]
    },
    {
      "cell_type": "code",
      "execution_count": null,
      "metadata": {
        "collapsed": false
      },
      "outputs": [],
      "source": [
        "from spydrnet_physical.util import ConnectionPattern\n\nWIDTH = 33\nWIDTH_F = 33\nHEIGHT = 33\np_manager = ConnectionPattern(WIDTH, HEIGHT)\nhtree_pattern = p_manager.connections\nhtree_pattern.cursor = (int(WIDTH/2)+1, 0)\nhtree_pattern.move_y(steps=int(WIDTH/2)+1)\nhtree_pattern.merge(p_manager.get_htree(WIDTH))\n\nwhile WIDTH > 6:\n    for x in range(int(WIDTH/4)+1, WIDTH_F, int(WIDTH/2)):\n        for y in range(int(WIDTH/4)+1, WIDTH_F, int(WIDTH/2)):\n            htree_pattern.merge(p_manager.get_htree(\n                int(WIDTH/2)).translate(x-int(WIDTH/4), y-int(WIDTH/4)))\n    WIDTH = int(WIDTH/2)+1\n\nsvg = p_manager.render_pattern(title=\"HTree Pattern\")\n\n# Highlight the clock sink point\nfor y in range(2, WIDTH_F, 2):\n    for x in range(2, WIDTH_F, 2):\n        p_manager.svg_main.add(svg.rect(\n            color=\"red\", opacity=\"0.1\",\n            insert=(x*20 - 10, y*20 - 10),\n            size=(20, 20)))\nsvg.saveas(\"_htree_pattern.svg\", pretty=True, indent=4)"
      ]
    }
  ],
  "metadata": {
    "kernelspec": {
      "display_name": "Python 3",
      "language": "python",
      "name": "python3"
    },
    "language_info": {
      "codemirror_mode": {
        "name": "ipython",
        "version": 3
      },
      "file_extension": ".py",
      "mimetype": "text/x-python",
      "name": "python",
      "nbconvert_exporter": "python",
      "pygments_lexer": "ipython3",
      "version": "3.12.7"
    }
  },
  "nbformat": 4,
  "nbformat_minor": 0
}