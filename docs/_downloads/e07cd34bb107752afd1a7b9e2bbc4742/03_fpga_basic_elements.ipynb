{
  "cells": [
    {
      "cell_type": "markdown",
      "metadata": {},
      "source": [
        "\n# Render FPGA Basic Elements\n\nThis example demonstates, how to create OpenFPGA object to perform all\nbasic transformation and then render primitive FPGA elements using yosys\nand [netlistSVG](https://github.com/nturley/netlistsvg) program.\n\n\n.. hdl-diagram:: ../../../examples/OpenFPGA_basic/_includes.v\n   :type: netlistsvg\n   :align: center\n   :module: cbx_1__1_\n"
      ]
    },
    {
      "cell_type": "code",
      "execution_count": null,
      "metadata": {
        "collapsed": false
      },
      "outputs": [],
      "source": [
        "import glob\nimport logging\nfrom itertools import chain\n\nimport spydrnet as sdn\nfrom spydrnet_physical.util import OpenFPGA\n\nlogger = logging.getLogger(\"spydrnet_logs\")\nsdn.enable_file_logging(LOG_LEVEL=\"INFO\")\n\n\ndef main():\n    \"\"\"\n    Main method\n    \"\"\"\n    # = = = = = = = = = = = = = = = = = = = = = = = = = = = = = = = = = = = = =\n    #               Reading homogeneous 4x4 FPGA netlist\n    # = = = = = = = = = = = = = = = = = = = = = = = = = = = = = = = = = = = = =\n    proj = \"../homogeneous_fabric\"\n    source_files = glob.glob(f\"{proj}/*_Verilog/lb/*.v\")\n    source_files += glob.glob(f\"{proj}/*_Verilog/routing/*.v\")\n    source_files += glob.glob(f\"{proj}/*_Verilog/sub_module/*.v\")\n    source_files += glob.glob(f\"{proj}/*_Verilog/fpga_top.v\")\n    source_files += glob.glob(\n        f\"{proj}/*_Task/CustomModules/standard_cell_wrapper.v\")\n\n    # Create OpenFPGA object\n    fpga = OpenFPGA(grid=(4, 4), verilog_files=source_files)\n\n    # Convert wires to bus structure\n    fpga.create_grid_clb_bus()\n    fpga.create_grid_io_bus()\n    fpga.create_sb_bus()\n    fpga.create_cb_bus()\n\n    # Remove undriven nets\n    fpga.remove_undriven_nets()\n    fpga.remove_config_chain()\n\n    # Top level nets to bus\n    for i in chain(\n        fpga.top_module.get_instances(\"grid_clb*\"),\n        fpga.top_module.get_instances(\"grid_io*\"),\n        fpga.top_module.get_instances(\"sb_*\"),\n    ):\n        for p in filter(lambda x: True, i.reference.ports):\n            if p.size > 1 and (i.check_all_scalar_connections(p)):\n                cable_list = []\n                for pin in p.pins[::-1]:\n                    cable_list.append(i.pins[pin].wire.cable)\n                fpga.top_module.combine_cables(\n                    f\"{i.name}_{p.name}\", cable_list)\n\n    # = = = = = = = = = = = = = = = = = = = = = = = = = = = = = = =\n    #                   Start rendering CBX11\n    # = = = = = = = = = = = = = = = = = = = = = = = = = = = = = = =\n    cbx11 = next(fpga.library.get_definitions(\"cbx_1__1_\"))\n    # Remove configuration elements\n    for instance in list(cbx11.get_instances(\"*mem*\")):\n        cbx11.remove_child(instance)\n\n    fpga.save_netlist(\"cbx_1__1_\", \"./_tmp\")\n\n    # = = = = = = = = = = = = = = = = = = = = = = = = = = = = = = =\n    #              Create include files to render\n    # = = = = = = = = = = = = = = = = = = = = = = = = = = = = = = =\n    # Create include file to render schematic usign yosys\n    cust_proj = f\"{proj}/FPGA44_Task/CustomModules\"\n    veri_proj = f\"{proj}/FPGA44_Verilog\"\n    with open(\"_includes.v\", \"w\", encoding=\"UTF-8\") as file_ptr:\n        file_ptr.write('`include \"./_tmp/cbx_1__1_.v\"\\n')\n        file_ptr.write(f'`include \"{cust_proj}/standard_cell_primitives.v\"\\n')\n        file_ptr.write(f'`include \"{veri_proj}/sub_module/muxes.v\"\\n')\n        file_ptr.write(f'`include \"{veri_proj}/sub_module/memories.v\"\\n')\n        file_ptr.write(\n            f'`include \"{veri_proj}/sub_module/inv_buf_passgate.v\"\\n')\n\n\nif __name__ == \"__main__\":\n    main()"
      ]
    }
  ],
  "metadata": {
    "kernelspec": {
      "display_name": "Python 3",
      "language": "python",
      "name": "python3"
    },
    "language_info": {
      "codemirror_mode": {
        "name": "ipython",
        "version": 3
      },
      "file_extension": ".py",
      "mimetype": "text/x-python",
      "name": "python",
      "nbconvert_exporter": "python",
      "pygments_lexer": "ipython3",
      "version": "3.12.7"
    }
  },
  "nbformat": 4,
  "nbformat_minor": 0
}