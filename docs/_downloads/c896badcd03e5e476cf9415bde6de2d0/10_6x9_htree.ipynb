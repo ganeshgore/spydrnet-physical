{
  "cells": [
    {
      "cell_type": "markdown",
      "metadata": {},
      "source": [
        "\n# Grouping ungrouping cells\n\nThis example is for creating Htree for 6x9 fabric. Our main constraints for clocktrees are to connect all the CLBs to the lowest level of Htree to have same clock delays to each cell.\n\n<img src=\"file://../examples/OpenFPGA_clock_tree/_hybrid_connectivity_pattern_graph.svg\" align=\"center\">\n\n\n**Output1** ungrouped module\n\n\n<img src=\"file://../../../examples/OpenFPGA_clock_tree/_6x9_clock_tree.svg\" align=\"center\">\n"
      ]
    },
    {
      "cell_type": "code",
      "execution_count": null,
      "metadata": {
        "collapsed": false
      },
      "outputs": [],
      "source": [
        "from spydrnet_physical.util import ConnectionPattern, ConnectPointList, ConnectPoint\nfrom svgwrite.container import Group\nfrom copy import deepcopy\nimport matplotlib.pyplot as plt\nimport networkx as nx\nfrom networkx.drawing.nx_pydot import to_pydot\n\n#Setting the size of clock tree\nFPGA_WIDTH = 6\nGRID_WIDTH = (FPGA_WIDTH *2)+3\nFPGA_HEIGHT = 9\nGRID_HEIGHT = (FPGA_HEIGHT* 2)+3\n\n#creating bigger Htree\np_manager = ConnectionPattern(GRID_WIDTH, GRID_HEIGHT)\nlevel0_patt = p_manager.connections\nlevel0_patt.merge(p_manager.get_htree(GRID_WIDTH,2,-1,1))\nlevel0_patt.translate(3,0)\nlevel0_patt.cursor = (int(GRID_HEIGHT/2)+1, 0)\nlevel0_patt.move_y(steps=int(GRID_WIDTH/2)+1)\nlevel0_patt.rotate(90)\nlevel0_patt.set_color('blue')\n\n##creating level 1 Htrees\nlevel1_pmanager = ConnectionPattern(GRID_WIDTH, GRID_HEIGHT)\nlevel1_patt = level1_pmanager.connections\nfor x in range (0, GRID_WIDTH, 12):\n    for y in range (0, FPGA_HEIGHT, 6):\n        level1_patt.merge(p_manager.get_htree(int(GRID_HEIGHT/2)).translate(x,y-5).rotate(90))\n        level1_patt.set_color('red')\n\n\n#creating level 2 Htress\n\n# for small Htrees\nlevel2_pmanager = ConnectionPattern(GRID_WIDTH, GRID_HEIGHT)\nlevel2_patt = level2_pmanager.connections\nfor x in range (0, GRID_WIDTH+4, 4):\n    for y in range (0, GRID_WIDTH, 10):\n        if (x!= 8):\n            level2_patt.merge(p_manager.get_htree(int(GRID_HEIGHT/4)).translate(x,y-10).rotate(90))\n\n##for vertical u-shaped structures on left\nfor x in range (5, int(GRID_WIDTH/2)+1, 9):\n    for y in range (0, GRID_HEIGHT-1, 4):\n        if (y!=8):\n            level2_patt.merge(p_manager.get_htree(int(GRID_HEIGHT/4)).translate(x,y))\n\n        \n\nfor y in range(2, GRID_HEIGHT, 2):\n    if (y!=10) & (y!=12):\n        level2_patt.cursor = (7,y)\n        level2_patt.move_x(-1)\n\n    \n\nfor y in range(2, GRID_HEIGHT, 2):\n    if (y!=10) & (y!=12):\n        level2_patt.cursor = (9,y)\n        level2_patt.move_x(1) \n\n       \n\n\n\nremove_points = []\nfor y in range(-1, GRID_HEIGHT-1, 4):\n    remove_points.append((8, y))\n    for point in remove_points:\n        point = level2_patt.search_from_point(point)\n        if point:\n            level2_patt._points.remove(point)\n\n\n\n\n\n\n    \nfor x in range (2, GRID_WIDTH, 2):\n    if (x != 8):\n        level2_patt.cursor = (x,14)\n        level2_patt.move_y(-2)\n        level2_patt.cursor = (x,8)\n        level2_patt.move_y(2)\n\n#for connecting middle vertical points\nfor x in range (2, GRID_HEIGHT, 18):\n    level2_patt.cursor = (7,x)\n    level2_patt.move_x(1)\n\nfor x in range (4, GRID_HEIGHT-1, 14):\n    level2_patt.cursor = (9,x)\n    level2_patt.move_x(-1)\n\n#for io connections\n\n\n\nfor y in range (2, GRID_HEIGHT, 2):\n    level2_patt.cursor = (2,y)\n    level2_patt.move_x(-1)\n    level2_patt.cursor = (GRID_WIDTH-1,y)\n    level2_patt.move_x(1)\n\n\nfor x in range (2, GRID_WIDTH, 2):\n    level2_patt.cursor = (x,2)\n    level2_patt.move_y(-1)\n    level2_patt.cursor = (x,GRID_HEIGHT-1)\n    level2_patt.move_y(1)\nlevel2_patt.set_color('green')\n#\n##merging the levels\nlevel1_patt.merge(level2_patt)\nlevel0_patt.merge(level1_patt)\n\n\ngraph = level0_patt.create_graph()\n\n# TODO Annotate graph with wire length  from source\n\n\ndef leaf_node_weight(x, y):\n    return 4\n\n\nfor node_lbl in graph.nodes:\n    if graph.out_degree(node_lbl) == 0:\n        _, x, y, _ = node_lbl.split(\"_\")\n        node = graph.nodes[node_lbl]\n        node[\"weight\"] = leaf_node_weight(x, y)\n        node[\"color\"] = \"red\"\n        node[\"label\"] = f\"{node_lbl}_{leaf_node_weight(x, y)}\"\n\n\ndef get_leaf_sum(graph, node):\n    total_weight = 0\n    for node_lbl in nx.dfs_preorder_nodes(graph, node):\n        if node_lbl == node:\n            continue\n        node = graph.nodes[node_lbl]\n        if \"weight\" in node:\n            total_weight += int(node[\"weight\"])\n    return total_weight\n\n\nfor node_lbl in nx.dfs_preorder_nodes(graph):\n    if graph.out_degree(node_lbl) > 1:\n        node = graph.nodes[node_lbl]\n        node[\"label\"] = f\"{node_lbl}_[{get_leaf_sum(graph, node_lbl)}]\"\n\n\ngraph = to_pydot(graph)\ngraph.write_dot(\"_hybrid_connectivity_pattern_graph.dot\")\ngraph.write_svg(\"_hybrid_connectivity_pattern_graph.svg\")\ngraph.write_png(\"_hybrid_connectivity_pattern_graph.png\")\n\n\nsvg = p_manager.render_pattern(title=\"6X9 CT\")\nskip_points = [(1, 1), (1, GRID_HEIGHT), (GRID_WIDTH, 1), (GRID_WIDTH, GRID_HEIGHT)]\nsink_pts = p_manager.svg_main.add(Group(id=\"sink_pts\"))\nfor y in list(range(2, GRID_HEIGHT, 2))+[1, GRID_HEIGHT]:\n    for x in list(range(2, GRID_WIDTH, 2))+[1, GRID_WIDTH]:\n        if not (x, y) in skip_points:\n            sink_pts.add(svg.rect(insert=(x*20-10, y*20-10),\n                                  size=(20, 20), opacity=0.2,\n                                  class_=\"sink_point\"))\nsvg.saveas(\"_6x9_clock_tree.svg\", pretty=True, indent=4)"
      ]
    }
  ],
  "metadata": {
    "kernelspec": {
      "display_name": "Python 3",
      "language": "python",
      "name": "python3"
    },
    "language_info": {
      "codemirror_mode": {
        "name": "ipython",
        "version": 3
      },
      "file_extension": ".py",
      "mimetype": "text/x-python",
      "name": "python",
      "nbconvert_exporter": "python",
      "pygments_lexer": "ipython3",
      "version": "3.12.7"
    }
  },
  "nbformat": 4,
  "nbformat_minor": 0
}