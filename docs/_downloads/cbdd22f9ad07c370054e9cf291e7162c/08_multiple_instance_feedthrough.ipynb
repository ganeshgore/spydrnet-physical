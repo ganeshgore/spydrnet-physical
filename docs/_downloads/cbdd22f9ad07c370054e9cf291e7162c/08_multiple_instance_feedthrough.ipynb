{
  "cells": [
    {
      "cell_type": "code",
      "execution_count": null,
      "metadata": {
        "collapsed": false
      },
      "outputs": [],
      "source": [
        "%matplotlib inline"
      ]
    },
    {
      "cell_type": "markdown",
      "metadata": {},
      "source": [
        "\n# Generating feedthrough from multiple instances\n\nThis example demostrates how to generate a feedthrough wire connection for\na given scalar or vector wires.\n\n**Initial Design**\n\n<img src=\"file://../auto_sample_verilog/basic_hierarchy.svg\" align=\"center\">\n"
      ]
    },
    {
      "cell_type": "code",
      "execution_count": null,
      "metadata": {
        "collapsed": false
      },
      "outputs": [],
      "source": [
        "from os import path\nimport spydrnet as sdn\nimport spydrnet_physical as sdnphy\n\n# TODO\nprint(\"NotImplemented\")"
      ]
    }
  ],
  "metadata": {
    "kernelspec": {
      "display_name": "Python 3",
      "language": "python",
      "name": "python3"
    },
    "language_info": {
      "codemirror_mode": {
        "name": "ipython",
        "version": 3
      },
      "file_extension": ".py",
      "mimetype": "text/x-python",
      "name": "python",
      "nbconvert_exporter": "python",
      "pygments_lexer": "ipython3",
      "version": "3.8.10"
    }
  },
  "nbformat": 4,
  "nbformat_minor": 0
}