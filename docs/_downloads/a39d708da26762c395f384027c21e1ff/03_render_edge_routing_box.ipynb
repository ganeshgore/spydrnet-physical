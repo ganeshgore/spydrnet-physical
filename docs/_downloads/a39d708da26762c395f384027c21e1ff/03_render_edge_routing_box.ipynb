{
  "cells": [
    {
      "cell_type": "code",
      "execution_count": null,
      "metadata": {
        "collapsed": false
      },
      "outputs": [],
      "source": [
        "%matplotlib inline"
      ]
    },
    {
      "cell_type": "markdown",
      "metadata": {},
      "source": [
        "\n# Rendering Switch and Connection Boxes\n\nThis example demostrate how a switch box (SB) and connection box (CB)\ncan be rendered in a SVG format.\n"
      ]
    },
    {
      "cell_type": "code",
      "execution_count": null,
      "metadata": {
        "collapsed": false
      },
      "outputs": [],
      "source": [
        "import glob\nimport os\nimport logging\nimport numpy as np\n\nimport spydrnet as sdn\nfrom spydrnet_physical.util import cb_renderer, sb_renderer\n\nlogger = logging.getLogger(\"spydrnet_logs\")\nsdn.enable_file_logging(LOG_LEVEL=\"DEBUG\", filename=\"03_render_edge_routing_box\")\n\nnp.set_printoptions(linewidth=200)\n\n\ndef main():\n    \"\"\"\n    Main routine\n    \"\"\"\n    gsb = \"../homogeneous_fabric/FPGA44_gsb\"\n\n    # = = = = = = = = = = = = = = = = = = = = = = = = = = = = = = = = = =\n    #  This prints horizontal connection box information\n    # = = = = = = = = = = = = = = = = = = = = = = = = = = = = = = = = = =\n    for _, conn_box in enumerate(glob.glob(f\"{gsb}/cbx_*__*_.xml\")):\n        module = os.path.splitext(os.path.basename(conn_box))[0]\n        cb_render = cb_renderer(module, conn_box)\n        print(f\"Printing module : ========== {module} ========== \")\n        cb_render.report_ipins()\n\n    # = = = = = = = = = = = = = = = = = = = = = = = = = = = = = = = = = =\n    #  This prints vertical connection box information\n    # = = = = = = = = = = = = = = = = = = = = = = = = = = = = = = = = = =\n    for _, conn_box in enumerate(glob.glob(f\"{gsb}/cby_*__*_.xml\")):\n        module = os.path.splitext(os.path.basename(conn_box))[0]\n        cb_render = cb_renderer(module, conn_box)\n        print(f\"Printing module : ========== {module} ========== \")\n        cb_render.report_ipins()\n\n    # FIXME:\n    # # = = = = = = = = = = = = = = = = = = = = = = = = = = = = = = = = = =\n    # #  This prints switch box information\n    # # = = = = = = = = = = = = = = = = = = = = = = = = = = = = = = = = = =\n    # for _, conn_box in enumerate(glob.glob(f'{gsb}/sb_*__*_.xml')):\n    #     module = os.path.splitext(os.path.basename(conn_box))[0]\n    #     print(f\"Printing module : ========== {module} ========== \")\n    #     sb_render = sb_renderer(module, conn_box)\n    #     sb_render.report_connectivity(filter_direct=True,\n    #                                   in_pin=[\"chanx_left\", \"chanx_right\",\n    #                                           \"chany_top\", \"chany_bottom\"])\n    #     sb_render.report_connectivity(filter_direct=True,\n    #                                   in_pin=[\"opin_left\", \"opin_right\",\n    #                                           \"opin_top\", \"opin_bottom\"])\n\n\nif __name__ == \"__main__\":\n    main()"
      ]
    }
  ],
  "metadata": {
    "kernelspec": {
      "display_name": "Python 3",
      "language": "python",
      "name": "python3"
    },
    "language_info": {
      "codemirror_mode": {
        "name": "ipython",
        "version": 3
      },
      "file_extension": ".py",
      "mimetype": "text/x-python",
      "name": "python",
      "nbconvert_exporter": "python",
      "pygments_lexer": "ipython3",
      "version": "3.8.10"
    }
  },
  "nbformat": 4,
  "nbformat_minor": 0
}