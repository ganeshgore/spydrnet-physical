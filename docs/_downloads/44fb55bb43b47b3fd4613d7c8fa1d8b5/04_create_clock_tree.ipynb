{
  "cells": [
    {
      "cell_type": "code",
      "execution_count": null,
      "metadata": {
        "collapsed": false
      },
      "outputs": [],
      "source": [
        "%matplotlib inline"
      ]
    },
    {
      "cell_type": "markdown",
      "metadata": {},
      "source": [
        "\n# Create Clock Tree Embedding\n\n\n.. hdl-diagram:: ../../../../examples/OpenFPGA/clock_tree/_square_grid_design.v\n   :type: netlistsvg\n   :align: center\n   :module: top\n\n<img src=\"file://../../../../examples/OpenFPGA/clock_tree/_fishbone_pattern_0.svg\" width=\"300px\" align=\"center\">\n\n<img src=\"file://../../../../examples/OpenFPGA/clock_tree/_clock_tree_floorplan.svg\" width=\"500px\" align=\"center\">\n"
      ]
    },
    {
      "cell_type": "code",
      "execution_count": null,
      "metadata": {
        "collapsed": false
      },
      "outputs": [],
      "source": [
        "from os import path\nimport spydrnet as sdn\nfrom spydrnet_physical.util import ConnectionPattern\nimport spydrnet_physical as sdnphy\nfrom spydrnet_physical.ir.definition import Definition\nfrom pprint import pp, pprint\nimport yaml\nfrom spydrnet_physical.util import FloorPlanViz\n\n\n# Verilog netlist\nnetlist = sdnphy.load_netlist_by_name('square_grid')\ntop_definition = netlist.top_instance.reference\ntop_definition.split_port(\"in\")\ntop_definition.split_port(\"out\")\ntop_definition.create_unconn_wires()\nsdn.compose(netlist, '_square_grid_design.v', skip_constraints=True)\n\nnetlist = sdnphy.load_netlist_by_name('square_grid')\ntop_definition = netlist.top_instance.reference\n\n# Pattern\np_manager = ConnectionPattern(4, 4)\nfishbone_pattern = p_manager.get_fishbone()\nsvg = p_manager.render_pattern(title=\"Merging option\")\nsvg.saveas(\"_fishbone_pattern_0.svg\", pretty=True, indent=4)\n\n\ndef get_top_instance_name(x, y):\n    if 0 in (x, y):\n        return \"top\"\n    return f\"inst_1_{x}{y}\"\n\n\nfishbone_pattern.get_top_instance_name = get_top_instance_name\nclk_cable = top_definition.create_cable(\"clk\", wires=1)\npprint(fishbone_pattern.show_stats(netlist))\nfishbone_pattern.create_ft_ports(netlist, \"clk\", clk_cable)\nfishbone_pattern.create_ft_connection(netlist, clk_cable)\nfishbone_pattern.print_instance_grid_map()\nprint()\nfishbone_pattern.print_reference_grid_map(netlist)\n\ntop_definition.split_port(\"in\")\ntop_definition.split_port(\"out\")\ntop_definition.create_unconn_wires()\nsdn.compose(netlist, '_feedthrough_design.v',\n            skip_constraints=True, write_blackbox=True)\n\n# following section is just dummy it needs to simplify more\ntop_definition.properties[\"WIDTH\"] = \"700\"\ntop_definition.properties[\"HEIGHT\"] = \"700\"\n\nnext(top_definition.get_cables(\"row1\")).split()\nnext(top_definition.get_cables(\"row2\")).split()\nnext(top_definition.get_cables(\"row3\")).split()\nnext(top_definition.get_cables(\"row4\")).split()\n\nnext(top_definition.get_cables(\"clk_ft\")).split()\n\n\nnext(top_definition.get_ports(\"in_3\")).properties[\"SIDE\"] = \"left\"\nnext(top_definition.get_ports(\"in_3\")).properties[\"OFFSET\"] = 200\nnext(top_definition.get_ports(\"in_2\")).properties[\"SIDE\"] = \"left\"\nnext(top_definition.get_ports(\"in_2\")).properties[\"OFFSET\"] = 300\nnext(top_definition.get_ports(\"in_1\")).properties[\"SIDE\"] = \"left\"\nnext(top_definition.get_ports(\"in_1\")).properties[\"OFFSET\"] = 400\nnext(top_definition.get_ports(\"in_0\")).properties[\"SIDE\"] = \"left\"\nnext(top_definition.get_ports(\"in_0\")).properties[\"OFFSET\"] = 500\n\nnext(top_definition.get_ports(\"out_0\")).properties[\"SIDE\"] = \"right\"\nnext(top_definition.get_ports(\"out_0\")).properties[\"OFFSET\"] = 150\nnext(top_definition.get_ports(\"out_1\")).properties[\"SIDE\"] = \"right\"\nnext(top_definition.get_ports(\"out_1\")).properties[\"OFFSET\"] = 200\nnext(top_definition.get_ports(\"out_2\")).properties[\"SIDE\"] = \"right\"\nnext(top_definition.get_ports(\"out_2\")).properties[\"OFFSET\"] = 250\nnext(top_definition.get_ports(\"out_3\")).properties[\"SIDE\"] = \"right\"\nnext(top_definition.get_ports(\"out_3\")).properties[\"OFFSET\"] = 300\n\n\nmodule1 = next(netlist.get_definitions(\"module1\"))\n\nmodule1.properties[\"WIDTH\"] = \"100\"\nmodule1.properties[\"HEIGHT\"] = \"100\"\n\nnext(module1.get_ports(\"in0\")).properties[\"SIDE\"] = \"left\"\nnext(module1.get_ports(\"in0\")).properties[\"OFFSET\"] = 10\nnext(module1.get_ports(\"out0\")).properties[\"SIDE\"] = \"right\"\nnext(module1.get_ports(\"out0\")).properties[\"OFFSET\"] = 40\nnext(module1.get_ports(\"clk_left_in\")).properties[\"SIDE\"] = \"left\"\nnext(module1.get_ports(\"clk_left_in\")).properties[\"OFFSET\"] = 20\nnext(module1.get_ports(\"clk_left_out\")).properties[\"SIDE\"] = \"left\"\nnext(module1.get_ports(\"clk_left_out\")).properties[\"OFFSET\"] = 30\nnext(module1.get_ports(\"clk_right_in\")).properties[\"SIDE\"] = \"right\"\nnext(module1.get_ports(\"clk_right_in\")).properties[\"OFFSET\"] = 30\nnext(module1.get_ports(\"clk_right_out\")).properties[\"SIDE\"] = \"right\"\nnext(module1.get_ports(\"clk_right_out\")).properties[\"OFFSET\"] = 20\n\nnext(module1.get_ports(\"clk_bottom_in\")).properties[\"SIDE\"] = \"bottom\"\nnext(module1.get_ports(\"clk_bottom_in\")).properties[\"OFFSET\"] = 35\nnext(module1.get_ports(\"clk_top_out\")).properties[\"SIDE\"] = \"top\"\nnext(module1.get_ports(\"clk_top_out\")).properties[\"OFFSET\"] = 35\n\nfor x in range(1, 5):\n    for y in range(1, 5):\n        next(netlist.get_instances(\n            f\"inst_1_{x}{y}\")).properties[\"LOC_X\"] = 125*x\n        next(netlist.get_instances(\n            f\"inst_1_{x}{y}\")).properties[\"LOC_Y\"] = 125*y\n\nfp = FloorPlanViz(top_definition)\nfp.compose()\ndwg = fp.get_svg()\ndwg.saveas(\"_clock_tree_floorplan.svg\", pretty=True, indent=4)"
      ]
    }
  ],
  "metadata": {
    "kernelspec": {
      "display_name": "Python 3",
      "language": "python",
      "name": "python3"
    },
    "language_info": {
      "codemirror_mode": {
        "name": "ipython",
        "version": 3
      },
      "file_extension": ".py",
      "mimetype": "text/x-python",
      "name": "python",
      "nbconvert_exporter": "python",
      "pygments_lexer": "ipython3",
      "version": "3.8.10"
    }
  },
  "nbformat": 4,
  "nbformat_minor": 0
}