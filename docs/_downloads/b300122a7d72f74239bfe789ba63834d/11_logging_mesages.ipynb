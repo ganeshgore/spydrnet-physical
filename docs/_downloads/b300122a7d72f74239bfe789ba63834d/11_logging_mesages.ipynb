{
  "cells": [
    {
      "cell_type": "code",
      "execution_count": null,
      "metadata": {
        "collapsed": false
      },
      "outputs": [],
      "source": [
        "%matplotlib inline"
      ]
    },
    {
      "cell_type": "markdown",
      "metadata": {},
      "source": [
        "\n# Logging and debuging\n"
      ]
    },
    {
      "cell_type": "code",
      "execution_count": null,
      "metadata": {
        "collapsed": false
      },
      "outputs": [],
      "source": [
        "import logging\nimport spydrnet as sdn\n\nlogger = logging.getLogger(\"spydrnet_logs\")\n\nlogger.info(\"This is information\")\nlogger.debug(\"This is debug message\")\nlogger.warning(\"This is warning message\")\n\n# Turn on logging in file, and set LOG LEVEL\nsdn.enable_file_logging(LOG_LEVEL=\"INFO\", filename=\"execution_log_file\")\nlogger.info(\"file: This is information\")\nlogger.debug(\"file: This is debug message\")\nlogger.warning(\"file: This is warning message\")\n\n# Dynamically turn on DEBUG for part of code\nlogger.handlers[1].setLevel(logging.DEBUG)\nlogger.info(\"Dynamic: This is information\")\nlogger.debug(\"Dynamic: This is debug message\")\nlogger.warning(\"Dynamic: This is warning message\")\nlogger.handlers[1].setLevel(logging.INFO)"
      ]
    },
    {
      "cell_type": "markdown",
      "metadata": {},
      "source": [
        "**Output log file** (*_execution_log_file_spydrnet.log*)\n\n.. literalinclude:: ../../../examples/basic/_execution_log_file_spydrnet.log\n\n\n"
      ]
    }
  ],
  "metadata": {
    "kernelspec": {
      "display_name": "Python 3",
      "language": "python",
      "name": "python3"
    },
    "language_info": {
      "codemirror_mode": {
        "name": "ipython",
        "version": 3
      },
      "file_extension": ".py",
      "mimetype": "text/x-python",
      "name": "python",
      "nbconvert_exporter": "python",
      "pygments_lexer": "ipython3",
      "version": "3.8.10"
    }
  },
  "nbformat": 4,
  "nbformat_minor": 0
}