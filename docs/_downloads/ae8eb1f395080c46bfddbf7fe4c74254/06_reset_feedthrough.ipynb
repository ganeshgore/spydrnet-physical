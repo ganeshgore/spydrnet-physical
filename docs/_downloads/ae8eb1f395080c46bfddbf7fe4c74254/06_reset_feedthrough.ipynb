{
  "cells": [
    {
      "cell_type": "code",
      "execution_count": null,
      "metadata": {
        "collapsed": false
      },
      "outputs": [],
      "source": [
        "%matplotlib inline"
      ]
    },
    {
      "cell_type": "markdown",
      "metadata": {},
      "source": [
        "\n# Create Reset Feedthrough in fpga_top\n\n<img src=\"file://../../../examples/OpenFPGA_clock_tree/_reset_connections.svg\" width=\"220px\" align=\"center\">\n"
      ]
    },
    {
      "cell_type": "code",
      "execution_count": null,
      "metadata": {
        "collapsed": false
      },
      "outputs": [],
      "source": [
        "import glob\nimport logging\nimport sys\nimport tempfile\nfrom itertools import chain\nfrom pprint import pprint\n\nimport spydrnet as sdn\nimport spydrnet_physical as sdnphy\nfrom spydrnet_physical.util import ConnectionPattern, OpenFPGA\n\nlogger = logging.getLogger(\"spydrnet_logs\")\nsdn.enable_file_logging(LOG_LEVEL=\"INFO\")\n\n# = = = = = = = = = = = = = = = = = = = = = = = = = = = = = = = = = = = =\n# Read FPGA Netlist\n# = = = = = = = = = = = = = = = = = = = = = = = = = = = = = = = = = = = =\nproj = \"../homogeneous_fabric/*_Verilog\"\ntask = \"../homogeneous_fabric/*_Task\"\nsource_files = glob.glob(f\"{proj}/lb/*.v\")\nsource_files += glob.glob(f\"{proj}/routing/*.v\")\nsource_files += glob.glob(f\"{proj}/sub_module/*.v\")\nsource_files += glob.glob(f\"{task}/CustomModules/standard_cell_primitives.v\")\nsource_files += glob.glob(f\"{proj}/fpga_top.v\")\n\n# Create OpenFPGA object\nfpga = OpenFPGA(grid=(4, 4), verilog_files=source_files)\n\n# Convert wires to bus structure\nfpga.create_grid_clb_bus()\nfpga.create_grid_io_bus()\nfpga.create_sb_bus()\nfpga.create_cb_bus()\nfpga.remove_config_chain()\nfpga.remove_undriven_nets()\n\n# Top level nets to bus\nfor i in chain(\n    fpga.top_module.get_instances(\"grid_clb*\"),\n    fpga.top_module.get_instances(\"grid_io*\"),\n    fpga.top_module.get_instances(\"sb_*\"),\n):\n    for p in filter(lambda x: True, i.reference.ports):\n        if p.size > 1 and (i.check_all_scalar_connections(p)):\n            cable_list = []\n            for pin in p.pins[::-1]:\n                cable_list.append(i.pins[pin].wire.cable)\n            fpga.top_module.combine_cables(f\"{i.name}_{p.name}\", cable_list)\n\nfpga.merge_all_grid_ios()\nfpga.remove_direct_interc()\n\ntop_definition = fpga.top_module\n\n# = = = = = = = = = = = = = = = = = = = = = = = = = = = = = = = = = = = =\n#  Generate reset connection pattern\n# 4x4 FPGA grid is considered as a 9x9 grid during pattern generation\n# = = = = = = = = = = = = = = = = = = = = = = = = = = = = = = = = = = = =\np_manager = ConnectionPattern(9, 9)\npoints = p_manager.get_fishbone(9, 9, steps=2)\nreset_conn_patt = p_manager.connections.merge(points)\nsvg = p_manager.render_pattern(title=\"Merging option\")\nsvg.saveas(\"_reset_connections.svg\", pretty=True, indent=4)\n\n\n# = = = = = = = = = = = = = = = = = = = = = = = = = = = = = = = = = = = =\n#  Prepare cordinate mapping function for embedding\n# = = = = = = = = = = = = = = = = = = = = = = = = = = = = = = = = = = = =\n\n\ndef get_top_instance_name(x, y):\n    if 0 in (x, y):\n        return \"top\"\n    module = {\n        True: \"sb\",\n        (x % 2 == 0) and (y % 2 == 0): \"grid_clb\",\n        (x % 2 == 1) and (y % 2 == 0): \"cby\",\n        (x % 2 == 0) and (y % 2 == 1): \"cbx\",\n    }[True]\n    return f\"{module}_{int(x/2)}__{int(y/2)}_\"\n\n\n# Check mapping byt ptinting 2D grid\nfor y in range(9, 0, -1):\n    for x in range(1, 9 + 1):\n        print(f\"{get_top_instance_name(x, y):15}\", end=\" \")\n    print(\"\")\n\n# Embedded the connectivity\n\nsdn.compose(\n    fpga.netlist,\n    \"_fpga_top_initial.v\",\n    definition_list=[\"fpga_top\"],\n    skip_constraints=True,\n    write_blackbox=False,\n)\n\n# reset_cable = top_definition.create_cable(\"reset_wire\", wires=1)\nreset_cable = next(top_definition.get_cables(\"reset\"))\nreset_conn_patt.get_top_instance_name = get_top_instance_name\npprint(reset_conn_patt.show_stats(fpga.netlist))\nreset_conn_patt.create_ft_ports(fpga.netlist, \"reset\", reset_cable)\nreset_conn_patt.create_ft_connection(fpga.netlist, reset_cable)\nsdn.compose(\n    fpga.netlist,\n    \"_fpga_top.v\",\n    definition_list=[\"fpga_top\"],\n    skip_constraints=True,\n    write_blackbox=False,\n)"
      ]
    }
  ],
  "metadata": {
    "kernelspec": {
      "display_name": "Python 3",
      "language": "python",
      "name": "python3"
    },
    "language_info": {
      "codemirror_mode": {
        "name": "ipython",
        "version": 3
      },
      "file_extension": ".py",
      "mimetype": "text/x-python",
      "name": "python",
      "nbconvert_exporter": "python",
      "pygments_lexer": "ipython3",
      "version": "3.8.10"
    }
  },
  "nbformat": 4,
  "nbformat_minor": 0
}