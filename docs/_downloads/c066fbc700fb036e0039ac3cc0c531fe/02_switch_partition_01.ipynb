{
  "cells": [
    {
      "cell_type": "code",
      "execution_count": null,
      "metadata": {
        "collapsed": false
      },
      "outputs": [],
      "source": [
        "%matplotlib inline"
      ]
    },
    {
      "cell_type": "markdown",
      "metadata": {},
      "source": [
        "\n# Partition Conn Box 01\n\nThis example demonstrate how pre-tech mapped netlist of connection box \ncan be partition based on mux connection patterns. \n\n1. Calculate difference beetween top and bottom switches on each channels \n2. Sort each channel based on difference beetween opposite connections\n3. Partition channels where difference crosses 0\n4. In case of multiple point with 0 difference split them equally in both \npartition\n\n\n**Vertical Connection Box**\n\n<img src=\"file://../../../../examples/OpenFPGA/partition/_cbx_1__2_0.svg\" width=\"800px\">\n\n<img src=\"file://../../../../examples/OpenFPGA/partition/_cbx_1__2_1.svg\" width=\"800px\">\n\n**Horizontal Connection Box**\n\n<img src=\"file://../../../../examples/OpenFPGA/partition/_cbx_1__1_0.svg\" width=\"150px\">\n\n<img src=\"file://../../../../examples/OpenFPGA/partition/_cbx_1__1_1.svg\" width=\"150px\">\n"
      ]
    },
    {
      "cell_type": "code",
      "execution_count": null,
      "metadata": {
        "collapsed": false
      },
      "outputs": [],
      "source": [
        "import glob\nimport logging\nfrom os import path\nimport numpy as np\n\nimport spydrnet as sdn\nfrom spydrnet_physical.util import RoutingRender\n\nlogger = logging.getLogger('spydrnet_logs')\nsdn.enable_file_logging(LOG_LEVEL='DEBUG')\n\nscale = 50\nSPACING = 150\n\nnp.set_printoptions(linewidth=200)\n\n\ndef sort_input_channels(switch_mat, get_bias=False):\n    seq = []\n    # Add Channel number, diffference and boolean flag to np array\n    for i in range(switch_mat.shape[1]):\n        diff = (switch_mat[:, i] == \"b\").sum() + \\\n            (switch_mat[:, i] == \"r\").sum() - \\\n            (switch_mat[:, i] == \"t\").sum() - \\\n            (switch_mat[:, i] == \"l\").sum()\n        seq.append((i, diff, diff > 0))\n    seq = sorted(seq, key=lambda x: x[1])\n    # Find cut locattion\n    cur = [e[2] for e in seq].index(True)\n    cur -= int([e[1] for e in seq].count(0) * 0.5)\n    # Extract channels\n    seq = [e[0] for e in seq]\n    if get_bias:\n        return (seq[:cur], seq[cur:], [e[1] for e in seq])\n    return (seq[:cur], seq[cur:])\n\n\ndef main():\n    proj = '../homogeneous_fabric'\n    sb = glob.glob(f'{proj}/*_Verilog/routing/sb_1__1_.v')[0]\n    module = path.splitext(path.basename(sb))[0]\n\n    # This creates switch-box rendering class\n    sb_render = RoutingRender(module, f\"{proj}/FPGA44_gsb/{module}.xml\")\n\n    # Print vertical connection box (CBY) information and split\n    print(\" =========== CBY =========== \")\n    sw_left = sb_render.report_ipins(\"left\", show=False)\n    sw_left[sw_left == 'x'] = \"l\"\n    sw_right = sb_render.report_ipins(\"right\", show=False)\n    sw_right[sw_right == 'x'] = \"r\"\n    sw = np.vstack([sw_left, sw_right])\n    left_chan, right_chan = sort_input_channels(sw)\n    print(f\"left_chan {sorted(left_chan)}\")\n    print(f\"right_chan {sorted(right_chan)}\")\n    sb_render.render_ipin(sw)\n    sb_render.render_ipin(sw[:, left_chan])\n    sb_render.render_ipin(sw[:, right_chan])\n    sb_render.render_switch_pattern()\n    sb_render.render_connection_box('left', filename=\"_cbx_1__1_0.svg\")\n    sb_render.render_connection_box('top', filename=\"_cbx_1__2_0.svg\")\n\n    def left_pinmap(x): return (left_chan +\n                                [None, None, None, None] +\n                                right_chan).index(x)\n\n    # Print vertical connection box (CBX) information and split\n    print(\" =========== CBX =========== \")\n    sw_top = sb_render.report_ipins(\"top\", show=False)\n    sw_top[sw_top == 'x'] = \"t\"\n    sw_bottom = sb_render.report_ipins(\"bottom\", show=False)\n    sw_bottom[sw_bottom == 'x'] = \"b\"\n    sw = np.vstack([sw_top, sw_bottom])\n    top_chan, bottom_chan = sort_input_channels(sw)\n    print(f\"top_chan {sorted(top_chan)}\")\n    print(f\"bottom_chan {sorted(bottom_chan)}\")\n    sb_render.render_ipin(sw)\n    sb_render.render_ipin(sw[:, top_chan])\n    sb_render.render_ipin(sw[:, bottom_chan])\n\n    def top_pinmap(x): return (bottom_chan +\n                               [None, None, None, None] +\n                               top_chan).index(x)\n\n    sb_render.render_connection_box('left', pinmap=left_pinmap,\n                                    filename=\"_cbx_1__1_1.svg\")\n    sb_render.render_connection_box('top', pinmap=top_pinmap,\n                                    filename=\"_cbx_1__2_1.svg\")\n\n\nif __name__ == \"__main__\":\n    main()"
      ]
    }
  ],
  "metadata": {
    "kernelspec": {
      "display_name": "Python 3",
      "language": "python",
      "name": "python3"
    },
    "language_info": {
      "codemirror_mode": {
        "name": "ipython",
        "version": 3
      },
      "file_extension": ".py",
      "mimetype": "text/x-python",
      "name": "python",
      "nbconvert_exporter": "python",
      "pygments_lexer": "ipython3",
      "version": "3.8.10"
    }
  },
  "nbformat": 4,
  "nbformat_minor": 0
}