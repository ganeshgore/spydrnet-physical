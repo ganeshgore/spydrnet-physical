{
  "cells": [
    {
      "cell_type": "code",
      "execution_count": null,
      "metadata": {
        "collapsed": false
      },
      "outputs": [],
      "source": [
        "%matplotlib inline"
      ]
    },
    {
      "cell_type": "markdown",
      "metadata": {},
      "source": [
        "\n# RenderFPGA Pre Generation Grid\n\nThis class generates the 2D matrix of the FPGA grid.\n\n\n**layout section of Architecture file**\n\n<img src=\"file://../../../examples/OpenFPGA_basic/_small_layout_render.svg\" width=\"60%\" align=\"center\">\n\n<img src=\"file://../../../examples/OpenFPGA_basic/_ultimate_layout_render.svg\" width=\"90%\" align=\"center\">\n"
      ]
    },
    {
      "cell_type": "code",
      "execution_count": null,
      "metadata": {
        "collapsed": false
      },
      "outputs": [],
      "source": [
        "import logging\n\nimport spydrnet as sdn\nfrom spydrnet_physical.util import FPGAGridGen\n\nlogger = logging.getLogger('spydrnet_logs')\nsdn.enable_file_logging(LOG_LEVEL='INFO')\n\n\ndef main():\n    fpga = FPGAGridGen(design_name=\"example_design\",\n                       arch_file=\"./support_files/vpr_arch_render_demo.xml\",\n                       release_root=\"_release\",\n                       layout=\"small\")\n    fpga.enumerate_grid()\n\n    fpga.render_layout(filename=\"_small_layout_render.svg\")\n\n    fpga = FPGAGridGen(design_name=\"example_design\",\n                       arch_file=\"./support_files/vpr_arch_render_demo.xml\",\n                       release_root=\"_release\",\n                       layout=\"ultimate\")\n    fpga.enumerate_grid()\n\n    fpga.render_layout(filename=\"_ultimate_layout_render.svg\")\n    print(fpga.get_instance(\"cbx_1__0_\"))\n\n\nif __name__ == \"__main__\":\n    main()"
      ]
    }
  ],
  "metadata": {
    "kernelspec": {
      "display_name": "Python 3",
      "language": "python",
      "name": "python3"
    },
    "language_info": {
      "codemirror_mode": {
        "name": "ipython",
        "version": 3
      },
      "file_extension": ".py",
      "mimetype": "text/x-python",
      "name": "python",
      "nbconvert_exporter": "python",
      "pygments_lexer": "ipython3",
      "version": "3.8.10"
    }
  },
  "nbformat": 4,
  "nbformat_minor": 0
}