{
  "cells": [
    {
      "cell_type": "code",
      "execution_count": null,
      "metadata": {
        "collapsed": false
      },
      "outputs": [],
      "source": [
        "%matplotlib inline"
      ]
    },
    {
      "cell_type": "markdown",
      "metadata": {},
      "source": [
        "\n# RenderFPGA Pre Generation Grid\n\nThis example demonstrated how to perform design planning/ floorplanning\neven before generating **OpenFPGA netlist**.\n\nThis rendering scheme is usefull to visualise global signal and\nclock signal planning\n\n<div class=\"alert alert-info\"><h4>Note</h4><p>at this stage we dont have information of unique modules and its\n   instances, hence during this rendering every instance is derived from same\n   shapes</p></div>\n\n\n**Default FPGA grid generation**\n\n<img src=\"file://../../../examples/OpenFPGA_basic/_small_layout_render.svg\" width=\"60%\" align=\"center\">\n"
      ]
    },
    {
      "cell_type": "code",
      "execution_count": null,
      "metadata": {
        "collapsed": false
      },
      "outputs": [],
      "source": [
        "import logging\n\nimport spydrnet as sdn\nfrom spydrnet_physical.util import FPGAGridGen\n\nlogger = logging.getLogger(\"spydrnet_logs\")\nsdn.enable_file_logging(LOG_LEVEL=\"INFO\")"
      ]
    },
    {
      "cell_type": "markdown",
      "metadata": {},
      "source": [
        "**Create simple FPGA grid**\n\n\n\n"
      ]
    },
    {
      "cell_type": "code",
      "execution_count": null,
      "metadata": {
        "collapsed": false
      },
      "outputs": [],
      "source": [
        "fpga = FPGAGridGen(\n    design_name=\"example_design\",\n    arch_file=\"../support_files/vpr_arch_render_demo.xml\",\n    layout=\"scalablehetero\",\n)\nfpga.enumerate_grid()\nfpga.default_parameters[\"cbx\"][0] = 6\nfpga.default_parameters[\"cby\"][1] = 6\ndwg = fpga.render_layout(\n    filename=\"_small_layout_render.svg\", grid_io=False, markers=False\n)"
      ]
    },
    {
      "cell_type": "markdown",
      "metadata": {},
      "source": [
        "**Modify the dimensions**\nThis example adds rectangular shape to all the modules in te design\n\n<img src=\"file://../../../examples/OpenFPGA_basic/_ultimate_layout_render.svg\" width=\"60%\" align=\"center\">\n\n"
      ]
    },
    {
      "cell_type": "code",
      "execution_count": null,
      "metadata": {
        "collapsed": false
      },
      "outputs": [],
      "source": [
        "# fpga = FPGAGridGen(\n#     design_name=\"example_design\",\n#     arch_file=\"../support_files/vpr_arch_render_demo.xml\",\n#     layout=\"complex\",\n# )\n# fpga.enumerate_grid()\n# fpga.default_parameters[\"cbx\"][0] = 10\n# fpga.default_parameters[\"cby\"][1] = 10\n# dwg = fpga.render_layout(grid_io=True)\n# fpga.add_style(\"symbol[id='mcu'] * { fill:#ECCCB2;}\")\n# dwg.saveas(\"_ultimate_layout_render.svg\", pretty=True, indent=4)\n\n# # %%\n# # **Modify the structure**\n# #\n# # .. image:: ../../../examples/OpenFPGA_basic/_ultimate_layout_render_sized.svg\n# #    :width: 60%\n# #    :align: center\n\n# # fpga.get_symbol_of_instance(\"cbx_1__2_\")\n# # fpga.get_symbol(\"mcu\")\n# # surrounding_routing = [\"mcu_1__1_\"]\n# # surrounding_routing += [\"cbx_1__2_\", \"sb_1__2_\", \"cbx_2__2_\"]\n# # surrounding_routing += [\"cbx_1__0_\", \"sb_1__0_\", \"cbx_2__0_\"]\n# # fpga.merge_symbol(surrounding_routing, \"new_mcu_module\")\n\n# # fpga.add_style(\"symbol[id='new_mcu_module'] * { fill:#a8dd00; opacity: 0.5}\")\n# # dwg.saveas(\"_ultimate_layout_render_sized.svg\", pretty=True, indent=4)"
      ]
    }
  ],
  "metadata": {
    "kernelspec": {
      "display_name": "Python 3",
      "language": "python",
      "name": "python3"
    },
    "language_info": {
      "codemirror_mode": {
        "name": "ipython",
        "version": 3
      },
      "file_extension": ".py",
      "mimetype": "text/x-python",
      "name": "python",
      "nbconvert_exporter": "python",
      "pygments_lexer": "ipython3",
      "version": "3.8.10"
    }
  },
  "nbformat": 4,
  "nbformat_minor": 0
}