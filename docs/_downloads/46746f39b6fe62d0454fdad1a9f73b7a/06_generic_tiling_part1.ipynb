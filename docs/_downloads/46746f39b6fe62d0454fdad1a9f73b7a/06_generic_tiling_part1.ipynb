{
  "cells": [
    {
      "cell_type": "markdown",
      "metadata": {},
      "source": [
        "\n# Generic Tiling Part02 - Creating tile\n\nThis example creates the CB and  SB subtiles based on the partition\ndata obtained after ``metis`` partitioning.\n"
      ]
    },
    {
      "cell_type": "code",
      "execution_count": null,
      "metadata": {
        "collapsed": false
      },
      "outputs": [],
      "source": [
        "import glob\n\nimport logging\nfrom pathlib import Path\nimport tempfile\nfrom itertools import chain\nfrom os import path\nfrom pprint import pprint\n\nimport spydrnet as sdn\nfrom spydrnet_physical.util import OpenFPGA\nfrom spydrnet_physical.util.get_names import get_names\n\n\nlogger = logging.getLogger(\"spydrnet_logs\")\nsdn.enable_file_logging(LOG_LEVEL=\"INFO\")\n\n\ndef main():\n    proj = \"../homogeneous_fabric\"\n    source_files = glob.glob(f\"{proj}/*_Verilog/lb/*.v\")\n    source_files += glob.glob(f\"{proj}/*_Verilog/routing/*.v\")\n    source_files += glob.glob(f\"{proj}/*_Verilog/sub_module/*.v\")\n    source_files += glob.glob(f\"{proj}/*_Verilog/fpga_top.v\")\n\n    # Create OpenFPGA object\n    fpga = OpenFPGA(grid=(4, 4), verilog_files=source_files)\n    fpga.design_top_stat()\n\n    # Convert wires to bus structure\n    fpga.create_grid_clb_bus()\n    fpga.create_grid_io_bus()\n    fpga.create_sb_bus()\n    fpga.create_cb_bus()\n    fpga.merge_all_grid_ios()\n\n    # Remove undriven nets\n    fpga.remove_undriven_nets()\n    fpga.remove_config_chain()\n\n    # Convert top level independent nets to bus\n    for i in chain(\n        fpga.top_module.get_instances(\"grid_clb*\"),\n        fpga.top_module.get_instances(\"grid_io*\"),\n        fpga.top_module.get_instances(\"sb_*\"),\n    ):\n        for p in filter(lambda x: True, i.reference.ports):\n            if p.size > 1 and (i.check_all_scalar_connections(p)):\n                cable_list = []\n                for pin in p.pins[::-1]:\n                    cable_list.append(i.pins[pin].wire.cable)\n                cable = fpga.top_module.combine_cables(f\"{i.name}_{p.name}\", cable_list)\n                cable.is_downto = False\n\n    # Before Creating Tiles\n    fpga.design_top_stat()\n\n    merge_routing_modules(fpga)\n\n    # for module in list(netlist.get_definitions(\"*b_1__1*\")):\n    #     # Flatten the netlist\n    #     for instance in list(module.get_instances('*_ipin_*')):\n    #         module.flatten_instance(instance)\n    #     for instance in list(module.get_instances('*_track_*')):\n    #         module.flatten_instance(instance)\n\n    #     parts_files = glob.glob(f\"./tiles_data/{module.name}_part_*.json\")\n    #     for part, each_file in enumerate(parts_files):\n    #         instance_list = json.load(open(each_file))\n    #         module.merge_instance([next(module.get_instances(i)) for i in instance_list],\n    #                               new_definition_name=f'{module.name}_{part}',\n    #                               new_instance_name=f'{module.name}_{part}_1')\n\n    #     for eachInst in module.references:\n    #         print(f\"Flatterning {eachInst.name}\")\n    #         fpga.top_module.flatten_instance(eachInst)\n\n    # for module in list(netlist.get_definitions(\"cbx_1__0_\")):\n    #     # Flatten the netlist\n    #     for instance in list(module.get_instances('*_ipin_*')):\n    #         module.flatten_instance(instance)\n    #     print(get_names(module.get_instances()))\n\n    # After Tile creation\n    fpga.design_top_stat()\n\n    # Save netlist\n    base_dir = \"_output_generic_tiles\"\n    Path(base_dir).mkdir(parents=True, exist_ok=True)\n    fpga.save_netlist(\"sb*\", path.join(base_dir, \"routing\"))\n    fpga.save_netlist(\"cb*\", path.join(base_dir, \"routing\"))\n    fpga.save_netlist(\"grid*\", path.join(base_dir, \"lb\"))\n    fpga.save_netlist(\"*tile*\", path.join(base_dir, \"tiles\"))\n    fpga.save_netlist(\"fpga_top\", path.join(base_dir))\n\n\ndef merge_routing_modules(fpga: OpenFPGA):\n    instance_list = []\n    for each in fpga.top_module.get_instances(\"sb*\"):\n        if each.reference.name == \"sb_1__1_\":\n            x, y = each.name.replace(\"_\", \" \").split()[-2:]\n            i_list = [\n                each,\n            ]\n            try:\n                i_list.append(next(fpga.top_module.get_instances(f\"cbx_{x}__{y}_\")))\n                i_list.append(next(fpga.top_module.get_instances(f\"cby_{x}__{y}_\")))\n            except:\n                continue\n            instance_list.append((i_list, \"new\" + each.name))\n    fpga._top_module.merge_multiple_instance(\n        instance_list, new_definition_name=\"sb_1__1_new\"\n    )\n    tile = next(fpga._library.get_definitions(\"sb_1__1_new\"))\n    tile.OptPins()\n\n\nif __name__ == \"__main__\":\n    main()"
      ]
    }
  ],
  "metadata": {
    "kernelspec": {
      "display_name": "Python 3",
      "language": "python",
      "name": "python3"
    },
    "language_info": {
      "codemirror_mode": {
        "name": "ipython",
        "version": 3
      },
      "file_extension": ".py",
      "mimetype": "text/x-python",
      "name": "python",
      "nbconvert_exporter": "python",
      "pygments_lexer": "ipython3",
      "version": "3.12.7"
    }
  },
  "nbformat": 4,
  "nbformat_minor": 0
}