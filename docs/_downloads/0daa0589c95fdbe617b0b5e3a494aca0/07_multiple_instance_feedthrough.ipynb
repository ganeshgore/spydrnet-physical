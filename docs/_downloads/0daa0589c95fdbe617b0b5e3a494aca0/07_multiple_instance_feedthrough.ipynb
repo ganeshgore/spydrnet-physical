{
  "cells": [
    {
      "cell_type": "markdown",
      "metadata": {},
      "source": [
        "\n# Generating feedthrough from multiple instances\n\nThis example demonstrates how to generate feedthrough from multiple instances.\nIf multiple instances belong to the same reference module it should reuser\nthe feedthrough instead of creating independent feedthrough to pass through each instance.\n\nThis example creates new wire ``A`` and create feedthrough port and connection\nfrom  ``inst_1_0`` and  ``inst_1_1`` in sequence.\n\n\n**Before feedthrough**\n\n<img src=\"file://../../../examples/basic/_basic_hierarchy_design.svg\" align=\"center\">\n\n**After feedthrough**\n\n<img src=\"file://../../../examples/basic/_Feedthrough_basic_hierarchy_design.svg\" align=\"center\">\n"
      ]
    },
    {
      "cell_type": "code",
      "execution_count": null,
      "metadata": {
        "collapsed": false
      },
      "outputs": [],
      "source": [
        "import logging\nimport spydrnet as sdn\nimport spydrnet_physical as sdnphy\nfrom spydrnet_physical.composers.html.composer import HTMLComposer\nfrom spydrnet_physical.composers.svg.composer import SVGComposer\n\nlogger = logging.getLogger('spydrnet_logs')\nsdn.enable_file_logging(LOG_LEVEL='INFO')\n\n# logger.warning(\"NotImplemented\")\n\n\nnetlist = sdnphy.load_netlist_by_name('basic_hierarchy')\ntop = netlist.top_instance.reference\n\ncable = top.create_cable(name='A', wires=1)\ntop.create_port(name='A', direction=sdn.IN, pins=1)\n\ncable_out = top.create_cable(name='Aout', wires=1)\ntop.create_port(name='Aout', direction=sdn.OUT, pins=1)\ncable_out.assign_cable(cable)\n\ncomposer = HTMLComposer()\ncomposer.run(netlist, file_out=\"_basic_hierarchy_design.html\")\ncomposer = SVGComposer()\ncomposer.run(netlist, file_out=\"_basic_hierarchy_design.svg\")\n\n\ninst1 = next(top.get_instances('inst_1_0'))\ninst2 = next(top.get_instances('inst_1_1'))\n\ninst_list = (cable, [inst1, inst2])\n\ntop.create_feedthrough_multiple(inst_list)\ntop.create_unconn_wires()\n\ncomposer = HTMLComposer()\ncomposer.run(netlist, file_out=\"_Feedthrough_basic_hierarchy_design.html\")\ncomposer = SVGComposer()\ncomposer.expand(modules=[\"module1\"])\ncomposer.run(netlist, file_out=\"_Feedthrough_basic_hierarchy_design.svg\",\n             netlistsvg=\"netlistsvg-hierarchy\")\nsdn.compose(netlist, '_basic_hierarchy_after_multiple_feedthrough.v',\n            skip_constraints=True)"
      ]
    }
  ],
  "metadata": {
    "kernelspec": {
      "display_name": "Python 3",
      "language": "python",
      "name": "python3"
    },
    "language_info": {
      "codemirror_mode": {
        "name": "ipython",
        "version": 3
      },
      "file_extension": ".py",
      "mimetype": "text/x-python",
      "name": "python",
      "nbconvert_exporter": "python",
      "pygments_lexer": "ipython3",
      "version": "3.12.7"
    }
  },
  "nbformat": 4,
  "nbformat_minor": 0
}