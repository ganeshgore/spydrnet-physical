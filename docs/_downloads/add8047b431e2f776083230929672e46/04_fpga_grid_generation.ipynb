{
  "cells": [
    {
      "cell_type": "code",
      "execution_count": null,
      "metadata": {
        "collapsed": false
      },
      "outputs": [],
      "source": [
        "%matplotlib inline"
      ]
    },
    {
      "cell_type": "markdown",
      "metadata": {},
      "source": [
        "\n# FPGA Layout grid generation\n\nThis class generates the 2D matrix of the FPGA grid.\n\n\n**layout section of Architecture file**\n\n.. rst-class:: hidden\n\n.. program-output:: bash -c \"mkdir -p auto_prog_output && xmllint --format --xpath '//layout' ../../examples/OpenFPGA_basic/support_files/vpr_arch_render_demo.xml > ./auto_prog_output/arch_layout_snnipet.xml\"\n\n\n.. literalinclude:: ../auto_prog_output/arch_layout_snnipet.xml\n    :language: xml\n\n\n**Expected Output**:\n\n**_complete_fpga_grid**\nThis prints complete logic block grid, if the logic block has width or height larger than\na unit LB width it is represeted by arrows (left and top arrows only)\n\n**Grid**\n\n.. literalinclude:: ../../../examples/OpenFPGA_basic/_fpga_grid.txt\n\n**Full Grid**\n\n.. literalinclude:: ../../../examples/OpenFPGA_basic/_fpga_full_grid.txt\n\n**_complete_grid_metrics**\n\n.. literalinclude:: ../../../examples/OpenFPGA_basic/_complete_grid_metrics.txt\n\n**_complete_metrics**\n\n.. literalinclude:: ../../../examples/OpenFPGA_basic/_complete_metrics.txt\n"
      ]
    },
    {
      "cell_type": "code",
      "execution_count": null,
      "metadata": {
        "collapsed": false
      },
      "outputs": [],
      "source": [
        "import logging\n\nimport spydrnet as sdn\nfrom spydrnet_physical.util import FPGAGridGen\n\nlogger = logging.getLogger(\"spydrnet_logs\")\nsdn.enable_file_logging(LOG_LEVEL=\"INFO\")\n\n\ndef main():\n    \"\"\"\n    Main method\n    \"\"\"\n    fpga = FPGAGridGen(\n        design_name=\"example_design\",\n        arch_file=\"./support_files/vpr_arch_render_demo.xml\",\n        release_root=\"_release\",\n        layout=\"small\",\n    )\n    fpga.enumerate_grid()\n    # Print CLB Grid\n    output = fpga.print_grid()\n\n    # grid_output\n    with open(\"_fpga_grid.txt\", \"w\", encoding=\"UTF-8\") as fp:\n        fp.write(output)\n\n    # full grid_output\n    output = fpga.print_grid(grid=\"full_grid\")\n    with open(\"_fpga_full_grid.txt\", \"w\", encoding=\"UTF-8\") as fp:\n        fp.write(output)\n\n    # Complete Matrics\n    with open(\"_complete_grid_metrics.txt\", \"w\", encoding=\"UTF-8\") as fp:\n        for y in range(fpga.height - 1, -1, -1):\n            for x in range(fpga.width):\n                fp.write(f\"[{' '.join(map(str, fpga.get_block(x, y))):^18}]\")\n            fp.write(\"\\n\")\n\n    # Complete metrics\n    with open(\"_complete_metrics.txt\", \"w\", encoding=\"UTF-8\") as fp:\n        for y in range(2 * (fpga.height - 1), -1, -1):\n            for x in range((fpga.width * 2) - 1):\n                fp.write(f\" {fpga.get_top_instance(x, y):^12} \")\n            fp.write(\"\\n\")\n\n\nif __name__ == \"__main__\":\n    main()"
      ]
    }
  ],
  "metadata": {
    "kernelspec": {
      "display_name": "Python 3",
      "language": "python",
      "name": "python3"
    },
    "language_info": {
      "codemirror_mode": {
        "name": "ipython",
        "version": 3
      },
      "file_extension": ".py",
      "mimetype": "text/x-python",
      "name": "python",
      "nbconvert_exporter": "python",
      "pygments_lexer": "ipython3",
      "version": "3.8.10"
    }
  },
  "nbformat": 4,
  "nbformat_minor": 0
}