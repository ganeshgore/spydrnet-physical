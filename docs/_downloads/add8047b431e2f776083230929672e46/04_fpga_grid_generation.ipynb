{
  "cells": [
    {
      "cell_type": "code",
      "execution_count": null,
      "metadata": {
        "collapsed": false
      },
      "outputs": [],
      "source": [
        "%matplotlib inline"
      ]
    },
    {
      "cell_type": "markdown",
      "metadata": {},
      "source": [
        "\n# FPGA Layout grid generation\n\nThis class generates the 2D matrix of the FPGA grid.\n\n\n**layout section of Architecture file**\n\n\n    .. program-output:: bash -c \"xmllint --format --xpath '//layout' ../examples/OpenFPGA/basic/support_files/vpr_arch_render_demo.xml > ./auto_prog_output/arch_layout_snnipet.xml\"\n\n\n    .. literalinclude:: ../../auto_prog_output/arch_layout_snnipet.xml\n    :language: xml\n\n\n**Expected Output**:\n\n.. code-block:: text\n\n    EMPTY     io_top     io_top     io_top     io_top     io_top     io_top     EMPTY\n    io_left     clb        clb        clb        clb        clb        clb      io_right\n    io_left     clb        clb        clb        clb        clb        clb      io_right\n    io_left    ram9k                 ram9k                 ram9k                io_right\n    io_left     clb        clb        clb        clb        clb        clb      io_right\n    io_left     dsp                   dsp                   dsp                 io_right\n    io_left     clb        clb        clb        clb        clb        clb      io_right\n    EMPTY   io_bottom  io_bottom  io_bottom  io_bottom  io_bottom  io_bottom    EMPTY\n\n\n.. literalinclude:: ../../../../examples/OpenFPGA/basic/_complete_grid_metrics.txt\n\n\n.. literalinclude:: ../../../../examples/OpenFPGA/basic/_complete_metrics.txt\n"
      ]
    },
    {
      "cell_type": "code",
      "execution_count": null,
      "metadata": {
        "collapsed": false
      },
      "outputs": [],
      "source": [
        "import logging\n\nimport spydrnet as sdn\nfrom spydrnet_physical.util import FPGAGridGen\n\nlogger = logging.getLogger('spydrnet_logs')\nsdn.enable_file_logging(LOG_LEVEL='INFO')\n\n\ndef main():\n    fpga = FPGAGridGen(design_name=\"example_design\",\n                       arch_file=\"./support_files/vpr_arch_render_demo.xml\",\n                       release_root=\"_release\",\n                       layout=\"dp\")\n    fpga.enumerate_grid()\n    # Print CLB Grid\n    fpga.print_grid()\n\n    # Complete Matrics\n    with open(\"_complete_grid_metrics.txt\", \"w\") as fp:\n        for y in range(fpga.height-1, -1, -1):\n            for x in range(fpga.width):\n                fp.write(\"{0:^18}\".format(\"[%s]\" % \" \".join(\n                    map(str, fpga.get_block(x, y)))))\n            fp.write(\"\\n\")\n\n    # Complete metrics\n    with open(\"_complete_metrics.txt\", \"w\") as fp:\n        for y in range(2*(fpga.height-1), -1, -1):\n            for x in range((fpga.width*2)-1):\n                fp.write(\" {0:^12} \".format(fpga.get_top_instance(x, y)))\n            fp.write(\"\\n\")\n\n\nif __name__ == \"__main__\":\n    main()"
      ]
    }
  ],
  "metadata": {
    "kernelspec": {
      "display_name": "Python 3",
      "language": "python",
      "name": "python3"
    },
    "language_info": {
      "codemirror_mode": {
        "name": "ipython",
        "version": 3
      },
      "file_extension": ".py",
      "mimetype": "text/x-python",
      "name": "python",
      "nbconvert_exporter": "python",
      "pygments_lexer": "ipython3",
      "version": "3.8.10"
    }
  },
  "nbformat": 4,
  "nbformat_minor": 0
}