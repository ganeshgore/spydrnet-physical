{
  "cells": [
    {
      "cell_type": "code",
      "execution_count": null,
      "metadata": {
        "collapsed": false
      },
      "outputs": [],
      "source": [
        "%matplotlib inline"
      ]
    },
    {
      "cell_type": "markdown",
      "metadata": {},
      "source": [
        "\n# Clock tree insertion Example Architecture 2\n\n16x24 rectangular homogeneous fabric design\n\n<img src=\"file://../../../../examples/OpenFPGA/clock_tree/_clock_tree_example_arch_02.svg\" width=\"220px\">\n"
      ]
    },
    {
      "cell_type": "code",
      "execution_count": null,
      "metadata": {
        "collapsed": false
      },
      "outputs": [],
      "source": [
        "import spydrnet as sdn\nfrom svgwrite.container import Group\nfrom spydrnet_physical.util import ConnectionPattern\n\n\nWIDTH = 49\nHEIGHT = 33\np_manager = ConnectionPattern(WIDTH, HEIGHT)\ncombine_pattern = p_manager.connections\ncombine_pattern.cursor = (int(WIDTH/2), 0)\ncombine_pattern.move_y()\n# = = = = = = = = = = = = = = = = = = = = = = = = = = = = = = = = = = = =\n#  Create clock connectivity pattern\n# = = = = = = = = = = = = = = = = = = = = = = = = = = = = = = = = = = = =\n\n\n# = = = = = = = = = = = = = = = = = = = = = = = = = = = = = = = = = = = =\nsvg = p_manager.render_pattern(title=f\"{WIDTH}x{HEIGHT} design\")\nskip_points = [(1, 1), (1, HEIGHT), (WIDTH, 1), (WIDTH, HEIGHT)]\nsink_pts = p_manager.svg_main.add(Group(id=\"sink_pts\"))\nfor y in list(range(2, HEIGHT, 2))+[1, HEIGHT]:\n    for x in list(range(2, WIDTH, 2))+[1, WIDTH]:\n        if not (x, y) in skip_points:\n            sink_pts.add(svg.rect(insert=(x*20-10, y*20-10),\n                                  size=(20, 20), opacity=0.2,\n                                  class_=\"sink_point\"))\nsvg.saveas(\"_clock_tree_example_arch_02.svg\", pretty=True, indent=4)"
      ]
    }
  ],
  "metadata": {
    "kernelspec": {
      "display_name": "Python 3",
      "language": "python",
      "name": "python3"
    },
    "language_info": {
      "codemirror_mode": {
        "name": "ipython",
        "version": 3
      },
      "file_extension": ".py",
      "mimetype": "text/x-python",
      "name": "python",
      "nbconvert_exporter": "python",
      "pygments_lexer": "ipython3",
      "version": "3.8.10"
    }
  },
  "nbformat": 4,
  "nbformat_minor": 0
}