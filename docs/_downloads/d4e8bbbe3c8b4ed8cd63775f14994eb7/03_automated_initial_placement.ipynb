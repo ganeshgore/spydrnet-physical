{
  "cells": [
    {
      "cell_type": "code",
      "execution_count": null,
      "metadata": {
        "collapsed": false
      },
      "outputs": [],
      "source": [
        "%matplotlib inline"
      ]
    },
    {
      "cell_type": "markdown",
      "metadata": {},
      "source": [
        "\n# Auto floorplan homogeneous design\n\nThis example demonstate how to render FPGA Tile using ``FloorPlanViz`` class\nUser can provide external script to render tiles, by default the rendering is\nbased on ``initial_placement`` class.\n\nThis script can be used for shaping and placement of the modules before place and route.\n\n<img src=\"file://../../../examples/OpenFPGA_basic/_fpga_auto_initial_placement.svg\" width=\"100%\" align=\"center\">\n"
      ]
    },
    {
      "cell_type": "code",
      "execution_count": null,
      "metadata": {
        "collapsed": false
      },
      "outputs": [],
      "source": [
        "import glob\nimport logging\n\nimport spydrnet as sdn\nfrom spydrnet_physical.util import OpenFPGA, initial_hetero_placement\nfrom spydrnet_physical.util import FPGAGridGen, FloorPlanViz\n\nlogger = logging.getLogger(\"spydrnet_logs\")\nsdn.enable_file_logging(LOG_LEVEL=\"INFO\")\n\nSTYLE_SHEET = \"\"\"\n    .over_util {fill:#b22222 !important}\n    text{font-family: Lato; font-size: 8px}\n\"\"\"\n\nCPP = 2\nSC_HEIGHT = 10\n\n\ndef main():\n    \"\"\"\n    Main method\n    \"\"\"\n    proj = \"../homogeneous_fabric\"\n    source_files = glob.glob(f\"{proj}/*_Verilog/lb/*.v\")\n    source_files += glob.glob(f\"{proj}/*_Verilog/routing/*.v\")\n    source_files += glob.glob(f\"{proj}/*_Verilog/sub_module/*.v\")\n    source_files += glob.glob(f\"{proj}/*_Verilog/fpga_top.v\")\n\n    # Create OpenFPGA object\n    fpga = OpenFPGA(grid=(4, 4), verilog_files=source_files)\n\n    # Convert wires to bus structure\n    fpga.annotate_area_information(\"./support_files/fpga_top_area.rpt\")\n\n    # Convert wires to bus structure\n    fpga.create_grid_clb_bus()\n    fpga.create_grid_io_bus()\n    fpga.create_sb_bus()\n    fpga.create_cb_bus()\n    fpga.merge_all_grid_ios()\n\n    # = = = = = = = = = = = = = = = = = = = = = = = = = = = = = =\n    #           Floorplan visualization\n    # = = = = = = = = = = = = = = = = = = = = = = = = = = = = = =\n    fpga_grid = FPGAGridGen(\n        design_name=\"FPGA4x4\",\n        layout=\"4x4\",\n        arch_file=f\"{proj}/FPGA44_Task/arch/k6_N10_tileable.xml\",\n        release_root=None,\n    )\n    fpga_grid.enumerate_grid()\n    fpga.load_grid(fpga_grid)\n    fpga.register_placement_creator(\n        initial_hetero_placement, areaFile=f\"{proj}/area_info.txt\"\n    )\n    fpga.create_placement()\n    fpga.show_placement_data(\"*_0__*\")\n    fpga.design_top_stat()\n\n    # # = = = = = = = = = = = = = = = = = = = = = = = = = = = = = =\n    # #           Adjust Floorplan\n    # # = = = = = = = = = = = = = = = = = = = = = = = = = = = = = =\n    fpga.update_module_label()\n\n    fp = FloorPlanViz(fpga.top_module)\n    fp.compose(skip_connections=True, skip_pins=True)\n    fp.custom_style_sheet = STYLE_SHEET\n    dwg = fp.get_svg()\n    dwg.add(fpga.placement_creator.design_grid.render_grid(return_group=True))\n\n    pattern = dwg.pattern(size=(4 * CPP, 2 * SC_HEIGHT), patternUnits=\"userSpaceOnUse\")\n    pattern.add(dwg.circle(center=(2, 2), r=1, fill=\"black\"))\n    pattern.add(dwg.circle(center=(2, SC_HEIGHT + 2), r=1, fill=\"red\"))\n    dwg.defs.add(pattern)\n    dwg.defs.elements[0].elements[0].attribs[\"fill\"] = pattern.get_funciri()\n\n    dwg.saveas(\"_fpga_auto_initial_placement.svg\", pretty=True, indent=4)\n\n\nif __name__ == \"__main__\":\n    main()"
      ]
    }
  ],
  "metadata": {
    "kernelspec": {
      "display_name": "Python 3",
      "language": "python",
      "name": "python3"
    },
    "language_info": {
      "codemirror_mode": {
        "name": "ipython",
        "version": 3
      },
      "file_extension": ".py",
      "mimetype": "text/x-python",
      "name": "python",
      "nbconvert_exporter": "python",
      "pygments_lexer": "ipython3",
      "version": "3.8.10"
    }
  },
  "nbformat": 4,
  "nbformat_minor": 0
}