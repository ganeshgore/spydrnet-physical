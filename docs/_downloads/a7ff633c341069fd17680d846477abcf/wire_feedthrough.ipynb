{
  "cells": [
    {
      "cell_type": "code",
      "execution_count": null,
      "metadata": {
        "collapsed": false
      },
      "outputs": [],
      "source": [
        "%matplotlib inline"
      ]
    },
    {
      "cell_type": "markdown",
      "metadata": {},
      "source": [
        "\n# Generating feedthrough from single instance\n\nThis example demostrates how to generate a feedthrough wire connection for\na given scalar or vector wires.\n\n**Initial Design**\n\n<img src=\"file://../auto_sample_verilog/basic_hierarchy.svg\" align=\"center\">\n\n\n**Output1** ``wire0`` feedthough from ``inst_2_1``\n\n.. hdl-diagram:: ../../../examples/basic/_output_wire.v\n   :type: netlistsvg\n   :align: center\n   :module: top\n\n**Output2** ``bus_in`` feedthrough from ``inst_1_0``\n\n.. hdl-diagram:: ../../../examples/basic/_output_bus.v\n   :type: netlistsvg\n   :align: center\n   :module: top\n"
      ]
    },
    {
      "cell_type": "code",
      "execution_count": null,
      "metadata": {
        "collapsed": false
      },
      "outputs": [],
      "source": [
        "import spydrnet as sdn\nimport spydrnet_physical as sdnphy\n\nnetlist = sdnphy.load_netlist_by_name(\"basic_hierarchy\")\n\ntop = netlist.top_instance.reference\ncable0 = next(top.get_cables(\"in3\"))\ninst2 = next(top.get_instances(\"inst_1_0\"))\n\n\ntop.create_feedthrough(inst2, cable0)\ntop.create_unconn_wires()\nsdn.compose(netlist, \"_output_wire.v\", skip_constraints=True)\n\n\n# Reset design\nnetlist = sdnphy.load_netlist_by_name(\"basic_hierarchy\")\n\ntop = netlist.top_instance.reference\nbus_in = next(top.get_cables(\"bus_in\"))\ninst1 = next(top.get_instances(\"inst_2_0\"))\n\ncables = top.create_feedthrough(inst1, bus_in)\ntop.create_unconn_wires()\nsdn.compose(netlist, \"_output_bus.v\", skip_constraints=True)"
      ]
    }
  ],
  "metadata": {
    "kernelspec": {
      "display_name": "Python 3",
      "language": "python",
      "name": "python3"
    },
    "language_info": {
      "codemirror_mode": {
        "name": "ipython",
        "version": 3
      },
      "file_extension": ".py",
      "mimetype": "text/x-python",
      "name": "python",
      "nbconvert_exporter": "python",
      "pygments_lexer": "ipython3",
      "version": "3.8.10"
    }
  },
  "nbformat": 4,
  "nbformat_minor": 0
}