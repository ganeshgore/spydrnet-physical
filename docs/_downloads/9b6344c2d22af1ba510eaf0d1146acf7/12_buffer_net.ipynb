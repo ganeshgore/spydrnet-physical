{
  "cells": [
    {
      "cell_type": "markdown",
      "metadata": {},
      "source": [
        "\n# Buffering net\n\nThis example demonstrate how to buffer a net with single\n``fan_in`` and single ``fan_out``\n\n\n**Before buffering**\n\n<img src=\"file://../auto_sample_verilog/nested_hierarchy.svg\" align=\"center\">\n\n**After buffering**\n\n<img src=\"file://../../../examples/basic/_buffered_netlist.svg\" align=\"center\">\n"
      ]
    },
    {
      "cell_type": "code",
      "execution_count": null,
      "metadata": {
        "collapsed": false
      },
      "outputs": [],
      "source": [
        "import logging\n\nimport spydrnet as sdn\nimport spydrnet_physical as sdnphy\nfrom spydrnet_physical.composers.svg.composer import SVGComposer\n\nlogger = logging.getLogger(\"spydrnet_logs\")\nsdn.enable_file_logging(LOG_LEVEL=\"INFO\")\n\nnetlist = sdnphy.load_netlist_by_name(\"nested_hierarchy\")\ntop = netlist.top_instance.reference\n\n# Create buffer dummy module\nlibrary = top.library\nbuffer = library.create_definition(\"buffer_x1\")\nbuffer.create_port(\"A\", pins=1, direction=sdn.IN)\nbuffer.create_port(\"Y\", pins=1, direction=sdn.OUT)\na_cable = buffer.create_cable(\"A\", wires=1)\ny_cable = buffer.create_cable(\"Y\", wires=1)\na_cable.assign_cable(y_cable)\n\n# Add Buffer on Wire0\ninst = next(top.get_instances(\"inst_1_0\"))\nout_wire = inst.get_port_cables(\"out\")[0]\ntop.add_buffer(out_wire, buffer, instance_name=\"buff0\")\n\n# Add Buffer on Output Nets\nout_wire = next(top.get_cables(\"out0\"))\ntop.add_buffer(out_wire, buffer, instance_name=\"OBuf\")\n\n# # Add Buffer on Passthrough buffer\n# out_wire = next(top.get_cables(\"out_ft\"))\n# top.add_buffer(out_wire, buffer, instance_name=\"ft_bufer\")\n\n# Add Buffer on Passthrough buffer\nout_wire = next(top.get_cables(\"out_ft\"))\ntop.add_buffer(out_wire.wires[0], buffer, instance_name=\"ft_bufer\")\n\n# Add Buffer on Input Nets\ntry:\n    out_wire = next(top.get_cables(\"in0\"))\n    top.add_buffer(out_wire, buffer, instance_name=\"IBuf\")\nexcept NotImplementedError:\n    pass\n\n# Write netlist and render SVG\nsdn.compose(netlist, \"_buffered_nested_hierarchy.v\", skip_constraints=True)\ncomposer = SVGComposer()\ncomposer.run(netlist, file_out=\"_buffered_netlist.svg\", top_module=\"top\")"
      ]
    }
  ],
  "metadata": {
    "kernelspec": {
      "display_name": "Python 3",
      "language": "python",
      "name": "python3"
    },
    "language_info": {
      "codemirror_mode": {
        "name": "ipython",
        "version": 3
      },
      "file_extension": ".py",
      "mimetype": "text/x-python",
      "name": "python",
      "nbconvert_exporter": "python",
      "pygments_lexer": "ipython3",
      "version": "3.12.7"
    }
  },
  "nbformat": 4,
  "nbformat_minor": 0
}