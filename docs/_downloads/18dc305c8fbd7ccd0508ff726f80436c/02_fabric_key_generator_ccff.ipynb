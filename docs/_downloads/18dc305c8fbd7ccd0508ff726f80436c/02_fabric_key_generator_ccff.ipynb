{
  "cells": [
    {
      "cell_type": "code",
      "execution_count": null,
      "metadata": {
        "collapsed": false
      },
      "outputs": [],
      "source": [
        "%matplotlib inline"
      ]
    },
    {
      "cell_type": "markdown",
      "metadata": {},
      "source": [
        "\n# Fabric key generation for homogeneous fabric\n\nThis example shows how to generate fabric key for given architecture\n\n**Fabric key on homogeneous fabric**\n\n<img src=\"file://../../../examples/OpenFPGA_config/_small_layout_ccff_fabric_render.svg\" width=\"80%\" align=\"center\">\n"
      ]
    },
    {
      "cell_type": "code",
      "execution_count": null,
      "metadata": {
        "collapsed": false
      },
      "outputs": [],
      "source": [
        "import logging\n\nimport spydrnet as sdn\nfrom spydrnet_physical.util import FPGAGridGen, FabricKeyGenCCFF\n\nlogger = logging.getLogger('spydrnet_logs')\nsdn.enable_file_logging(LOG_LEVEL='INFO')\n\nfpga = FPGAGridGen(design_name=\"example_design\",\n                   arch_file=\"../OpenFPGA_basic/support_files/vpr_arch_render_demo.xml\",\n                   release_root=\"_release\",\n                   layout=\"homogeneous\")\nfpga.enumerate_grid()\nfpga.render_layout(filename=\"_small_layout_ccff_fabric_render.svg\",\n                   grid_io=True)\n\nfabric_key = FabricKeyGenCCFF(fpga)\nfabric_key.create_fabric_key()\n\nfabric_key.render_svg(filename=\"_small_layout_ccff_fabric_render.svg\")\nfabric_key.save_fabric_key(filename=\"_serpentine_fabric_key.xml\")"
      ]
    }
  ],
  "metadata": {
    "kernelspec": {
      "display_name": "Python 3",
      "language": "python",
      "name": "python3"
    },
    "language_info": {
      "codemirror_mode": {
        "name": "ipython",
        "version": 3
      },
      "file_extension": ".py",
      "mimetype": "text/x-python",
      "name": "python",
      "nbconvert_exporter": "python",
      "pygments_lexer": "ipython3",
      "version": "3.8.10"
    }
  },
  "nbformat": 4,
  "nbformat_minor": 0
}