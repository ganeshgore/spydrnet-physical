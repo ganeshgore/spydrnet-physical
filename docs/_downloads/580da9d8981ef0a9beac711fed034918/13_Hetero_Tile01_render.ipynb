{
  "cells": [
    {
      "cell_type": "code",
      "execution_count": null,
      "metadata": {
        "collapsed": false
      },
      "outputs": [],
      "source": [
        "%matplotlib inline"
      ]
    },
    {
      "cell_type": "markdown",
      "metadata": {},
      "source": [
        "\n# Floorplanning Classic Tiles for hetergeneous design\n\nThis example demonstate how to render FPGA Tile using ``FloorPlanViz`` class\nUser can provide external script to render tiles, by default the rendering is\nbased on ``initial_hetero_placement`` class.\n\nThis script can be used for shaping and placement of the modules before place and route.\n\n<img src=\"file://../../../examples/OpenFPGA_tiling/_fpga_auto_initial_heterogeneous_placement.svg\" width=\"70%\" align=\"center\">\n"
      ]
    },
    {
      "cell_type": "code",
      "execution_count": null,
      "metadata": {
        "collapsed": false
      },
      "outputs": [],
      "source": [
        "import glob\nimport logging\nimport os\nimport tempfile\nfrom itertools import chain\nimport seaborn as sns\n\nimport spydrnet as sdn\nfrom copy import deepcopy\nfrom spydrnet_physical.util import (FloorPlanViz, FPGAGridGen, Tile02,\n                                    GridFloorplanGen, OpenFPGA,\n                                    initial_hetero_placement)\n\nlogger = logging.getLogger('spydrnet_logs')\nsdn.enable_file_logging(LOG_LEVEL='INFO')\n\nPROP = \"VERILOG.InlineConstraints\"\n\n\nCBX_COLOR = '#d9d9f3'\nCBY_COLOR = '#a8d0db'\nSB_COLOR = '#ceefe4'\nGRID_COLOR = '#ddd0b1'\n\n\nSTYLE_SHEET = '''\n    .over_util {fill:#b22222 !important}\n    text{font-family: Lato; font-size: 8px}\n'''\n\nCPP = 2\nSC_HEIGHT = 10\n\n\ndef main():\n    proj = \"../hetrogeneous_fabric\"\n    source_files = glob.glob(f'{proj}/*_Verilog/lb/*.v')\n    source_files += glob.glob(f'{proj}/*_Verilog/routing/*.v')\n    source_files += glob.glob(f'{proj}/*_Verilog/sub_module/*.v')\n    source_files += glob.glob(f'{proj}/*_Verilog/fpga_top.v')\n\n    # Temporary fix to read multiple verilog files\n    with tempfile.NamedTemporaryFile(suffix=\".v\") as fp:\n        for eachV in source_files:\n            with open(eachV, \"r\") as fpv:\n                fp.write(str.encode(\" \".join(fpv.readlines())))\n        fp.seek(0)\n        netlist = sdn.parse(fp.name)\n\n    fpga = OpenFPGA(grid=(8, 8), netlist=netlist)\n\n    # Convert wires to bus structure\n    fpga.create_grid_clb_bus()\n    fpga.create_grid_io_bus()\n    fpga.create_sb_bus()\n    fpga.create_cb_bus()\n    fpga.merge_all_grid_ios()\n\n    # Convert top level independent nets to bus\n    for i in chain(fpga.top_module.get_instances(\"grid_clb*\"),\n                   fpga.top_module.get_instances(\"grid_io*\"),\n                   fpga.top_module.get_instances(\"sb_*\")):\n        for p in filter(lambda x: True, i.reference.ports):\n            if p.size > 1 and (i.check_all_scalar_connections(p)):\n                cable_list = []\n                for pin in p.pins[::-1]:\n                    cable_list.append(i.pins[pin].wire.cable)\n                cable = fpga.top_module.combine_cables(\n                    f\"{i.name}_{p.name}\", cable_list)\n                cable.is_downto = False\n\n    inst = fpga.design_top_stat()\n\n    # = = = = = = = = = = = = = = = = = = = = = = = = = = = = = =\n    #           Floorplan visualization\n    # = = = = = = = = = = = = = = = = = = = = = = = = = = = = = =\n    fpga_grid = FPGAGridGen(design_name='FPGA8x8', layout=\"8x8\",\n                            arch_file=f\"{proj}/FPGA88_hetero_Task/arch/k6_N10_tileable.xml\",\n                            release_root=None)\n    fpga_grid.enumerate_grid()\n    fpga.load_grid(fpga_grid)\n    fpga.register_placement_creator(initial_hetero_placement,\n                                    areaFile={\n                                        \"grid_clb\": [2500, 24*8, 24],\n                                        \"cbx_1__1_\": [2500*0.6, 0, 0]})\n    # print(set(inst.keys()))\n    # print(set(fpga.placement_creator.module_shapes.keys()))\n    shapes = fpga.placement_creator.module_shapes\n    s_param = fpga.placement_creator.s_param\n    print(set(inst.keys())-set(shapes.keys()))\n\n    shapes['cbx_2__0_'] = shapes['cbx_1__0_']\n    shapes['cbx_2__2_'] = shapes['cbx_1__1_']\n    shapes['cbx_2__8_'] = shapes['cbx_1__8_']\n\n    shapes['cby_2__1_'] = shapes['cby_3__1_'] = deepcopy(shapes['cby_1__1_'])\n\n    shapes['sb_2__0_'] = shapes['sb_3__0_'] = deepcopy(shapes['sb_1__0_'])\n    shapes['sb_2__8_'] = shapes['sb_3__8_'] = deepcopy(shapes['sb_1__8_'])\n    shapes['sb_2__2_'] = deepcopy(shapes['sb_1__1_'])\n    shapes['sb_3__1_'] = deepcopy(shapes['sb_1__1_'])\n    shapes['sb_2__1_'] = deepcopy(shapes['sb_1__1_'])\n    shapes['sb_1__2_'] = deepcopy(shapes['sb_1__1_'])\n\n    shapes['sb_8__2_'] = deepcopy(shapes['sb_8__1_'])\n    shapes['grid_mult_8'] = deepcopy(shapes['grid_clb'])\n\n    shapes['grid_mult_8'][\"POINTS\"][1] += s_param[\"clb_h\"] + s_param[\"cbx11_h\"]\n    shapes['sb_1__1_'][\"POINTS\"][4] = 0\n    p = shapes['sb_2__1_'][\"PLACEMENT\"]\n    shapes['sb_2__1_'][\"PLACEMENT\"] = (p[0] + shapes['sb_2__1_'][\"POINTS\"][1],\n                                       p[1])\n    shapes['sb_2__1_'][\"POINTS\"][1] = 0\n\n    p = shapes['sb_8__1_'][\"PLACEMENT\"]\n    shapes['sb_8__1_'][\"PLACEMENT\"] = (p[0] + shapes['sb_8__1_'][\"POINTS\"][1],\n                                       p[1])\n    shapes['sb_8__1_'][\"POINTS\"][1] = 0\n\n    fpga.create_placement()\n    fpga.show_placement_data(\"*_0__*\")\n    fpga.design_top_stat()\n\n    # Create Tile-02 structure\n    fpga.register_tile_generator(Tile02)\n    fpga.create_tiles()\n\n    palette = sns.color_palette('pastel', 15).as_hex()\n    for indx, tile in enumerate(fpga.top_module.get_definitions(\"*tile*\")):\n        tile.data[PROP][\"COLOR\"] = palette[indx]\n\n    fpga.design_top_stat()\n\n    # # = = = = = = = = = = = = = = = = = = = = = = = = = = = = = =\n    # #           Adjust Floorplan\n    # # = = = = = = = = = = = = = = = = = = = = = = = = = = = = = =\n    fpga.update_module_label()\n\n    fp = FloorPlanViz(fpga.top_module)\n    fp.compose(skip_connections=True, skip_pins=True)\n    fp.custom_style_sheet = STYLE_SHEET\n    dwg = fp.get_svg()\n    dwg.add(fpga.placement_creator.design_grid.render_grid(return_group=True))\n\n    pattern = dwg.pattern(size=(4*CPP, 2*SC_HEIGHT),\n                          patternUnits=\"userSpaceOnUse\")\n    pattern.add(dwg.circle(center=(2, 2), r=1, fill=\"black\"))\n    pattern.add(dwg.circle(center=(2, SC_HEIGHT+2), r=1, fill=\"red\"))\n    dwg.defs.add(pattern)\n    dwg.defs.elements[0].elements[0].attribs[\"fill\"] = pattern.get_funciri()\n\n    dwg.saveas(\"_fpga_auto_initial_heterogeneous_placement.svg\",\n               pretty=True, indent=4)\n\n\nif __name__ == \"__main__\":\n    main()"
      ]
    }
  ],
  "metadata": {
    "kernelspec": {
      "display_name": "Python 3",
      "language": "python",
      "name": "python3"
    },
    "language_info": {
      "codemirror_mode": {
        "name": "ipython",
        "version": 3
      },
      "file_extension": ".py",
      "mimetype": "text/x-python",
      "name": "python",
      "nbconvert_exporter": "python",
      "pygments_lexer": "ipython3",
      "version": "3.8.10"
    }
  },
  "nbformat": 4,
  "nbformat_minor": 0
}