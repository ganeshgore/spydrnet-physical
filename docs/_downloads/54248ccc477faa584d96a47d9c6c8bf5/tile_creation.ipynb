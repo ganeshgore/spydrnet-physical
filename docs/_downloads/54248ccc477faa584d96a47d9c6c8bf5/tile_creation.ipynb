{
  "cells": [
    {
      "cell_type": "code",
      "execution_count": null,
      "metadata": {
        "collapsed": false
      },
      "outputs": [],
      "source": [
        "%matplotlib inline"
      ]
    },
    {
      "cell_type": "markdown",
      "metadata": {},
      "source": [
        "\n# Creating FPGA Tiles from OpenFPGA verilog\n\nThis example demonstate how to create a tile strcuture from\nVerilog netlist obtained from OpenFPGA\n"
      ]
    },
    {
      "cell_type": "code",
      "execution_count": null,
      "metadata": {
        "collapsed": false
      },
      "outputs": [],
      "source": [
        "import glob\nimport tempfile\nfrom itertools import chain\nfrom os import path\nfrom pprint import pprint\n\nimport spydrnet as sdn\nimport spydrnet_physical as sdnphy\nfrom spydrnet_physical.util import OpenFPGA_Tile01\n\n\ndef main():\n    source_files = glob.glob('homogeneous_fabric/*_Verilog/lb/*.v')\n    source_files += glob.glob('homogeneous_fabric/*_Verilog/routinlg/*.v')\n    source_files += glob.glob('homogeneous_fabric/*_Verilog/sub_module/*.v')\n    source_files += glob.glob('homogeneous_fabric/*_Verilog/fpga_top.v')\n\n    # Temporary fix to read multiple verilog files\n    with tempfile.NamedTemporaryFile(suffix=\".v\") as fp:\n        for eachV in source_files:\n            with open(eachV, \"r\") as fpv:\n                fp.write(str.encode(\" \".join(fpv.readlines())))\n        fp.seek(0)\n        netlist = sdn.parse(fp.name)\n\n    fpga = OpenFPGA_Tile01(grid=(4, 4), netlist=netlist)\n    fpga.design_top_stat()\n\n    # Convert wires to bus structure\n    fpga.create_grid_clb_bus()\n    fpga.create_grid_io_bus()\n    fpga.create_sb_bus()\n    fpga.create_cb_bus()\n\n    # Remove undriven nets\n    for cable in fpga.top_module.get_cables(\"*undriven*\"):\n        fpga.top_module.remove_cable(cable)\n\n    # Top level nets to bus\n    for i in chain(fpga.top_module.get_instances(\"grid_clb*\"),\n                   fpga.top_module.get_instances(\"grid_io*\"),\n                   fpga.top_module.get_instances(\"sb_*\")):\n        for p in filter(lambda x: True, i.reference.ports):\n            if p.size > 1 and (i.check_all_scalar_connections(p)):\n                cable_list = []\n                for pin in p.pins[::-1]:\n                    cable_list.append(i.pins[pin].wire.cable)\n                fpga.top_module.combine_cables(\n                    f\"{i.name}_{p.name}\", cable_list)\n\n    fpga.create_grid_clb_feedthroughs()\n\n    # Save netlist\n    base_dir = (\".\", \"homogeneous_fabric\", \"_output\")\n    fpga.save_netlist(\"tile_*\", path.join(*base_dir, \"tiles\"))\n    fpga.save_netlist(\"grid*\", path.join(*base_dir, \"lb\"))\n    fpga.save_netlist(\"*b_*\", path.join(*base_dir, \"routing\"))\n    fpga.save_netlist(\"fpga_top\", path.join(*base_dir))\n\n\nif __name__ == \"__main__\":\n    main()"
      ]
    }
  ],
  "metadata": {
    "kernelspec": {
      "display_name": "Python 3",
      "language": "python",
      "name": "python3"
    },
    "language_info": {
      "codemirror_mode": {
        "name": "ipython",
        "version": 3
      },
      "file_extension": ".py",
      "mimetype": "text/x-python",
      "name": "python",
      "nbconvert_exporter": "python",
      "pygments_lexer": "ipython3",
      "version": "3.8.10"
    }
  },
  "nbformat": 4,
  "nbformat_minor": 0
}