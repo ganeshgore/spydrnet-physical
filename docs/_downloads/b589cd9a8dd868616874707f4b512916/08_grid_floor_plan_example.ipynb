{
  "cells": [
    {
      "cell_type": "markdown",
      "metadata": {},
      "source": [
        "\n# Grid Floorplan Generator\n\nThis example demostrates how the grided floorplan is generated using\n``GridFloorplanGen`` class\n\n\n<img src=\"file://../../../examples/OpenFPGA_basic/_grid_floorplan.svg\" width=\"70%\" align=\"center\">\n"
      ]
    },
    {
      "cell_type": "code",
      "execution_count": null,
      "metadata": {
        "collapsed": false
      },
      "outputs": [],
      "source": [
        "from spydrnet_physical.util import GridFloorplanGen\n\n\ndef main():\n    \"\"\"\n    Main method\n    \"\"\"\n    grid_plan = GridFloorplanGen(8, 8)\n    grid_plan.offset_x = 50\n    grid_plan.offset_y = 50\n    grid_plan.set_column_width(1, 200)\n    grid_plan.set_column_width(-1, 200)\n    grid_plan.set_row_height(1, 200)\n    grid_plan.set_row_height(-1, 200)\n    dwg = grid_plan.render_grid()\n    dwg.saveas(\"_grid_floorplan.svg\", pretty=True, indent=4)\n\n\nif __name__ == \"__main__\":\n    main()"
      ]
    }
  ],
  "metadata": {
    "kernelspec": {
      "display_name": "Python 3",
      "language": "python",
      "name": "python3"
    },
    "language_info": {
      "codemirror_mode": {
        "name": "ipython",
        "version": 3
      },
      "file_extension": ".py",
      "mimetype": "text/x-python",
      "name": "python",
      "nbconvert_exporter": "python",
      "pygments_lexer": "ipython3",
      "version": "3.12.7"
    }
  },
  "nbformat": 4,
  "nbformat_minor": 0
}