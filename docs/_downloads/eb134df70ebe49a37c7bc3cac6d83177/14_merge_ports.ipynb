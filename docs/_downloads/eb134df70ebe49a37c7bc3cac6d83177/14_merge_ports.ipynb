{
  "cells": [
    {
      "cell_type": "markdown",
      "metadata": {},
      "source": [
        "\n# Merging one or more ports\n\nThis example demonstrate how to merge two instance in the design to create a new\nmerged definition\n"
      ]
    },
    {
      "cell_type": "code",
      "execution_count": null,
      "metadata": {
        "collapsed": false
      },
      "outputs": [],
      "source": [
        "import spydrnet as sdn\nfrom spydrnet_physical.util import get_names\nfrom itertools import chain\n\nwith open(\"_temp_merge_ports.v\", \"w\", encoding=\"UTF-8\") as tmp:\n    tmp.write(\n        \"\"\"\n    module top();\n        wire [4:0] mode;\n\n        module1 inst1 (.wire1(mode[4]), .wire2(mode[3]), .wire3(mode[2:0]));\n    endmodule\n\n    module module1(wire1, wire2, wire3);\n        input wire1;\n        input wire2;\n        input [2:0]wire3;\n\n    endmodule\n    \"\"\"\n    )\n\n\ndef merge_ports(self, new_port_name, port_sequence, reverse=False):\n    new_port = self.create_port(new_port_name)\n    new_cable = self.create_cable(new_port_name)\n\n    for port in list(port_sequence):\n        print(f\"Adding wires from {port.name}\")\n        for pin in list(port.pins):\n            wire = pin.wire\n            port._pins.remove(pin)\n            pin._port = None\n            new_port.add_pin(pin)\n\n            wire._cable = None\n            new_cable.add_wire(wire)\n        self.remove_cable(next(self.get_cables(port.name)))\n        self.remove_port(port)\n        print(f\"Total pins {len(new_port.pins)}\")\n        print(f\"Total wires  {len(new_port.pins)}\")\n        new_port.direction = port.direction\n\n    return new_port\n\n\nnetlist = sdn.parse(\"_temp_merge_ports.v\")\ntop = netlist.top_instance\nmodule = next(netlist.get_definitions(\"top\"))\nmodule1 = next(netlist.get_definitions(\"module1\"))\nprint(get_names(module1.get_ports()))\nmerge_ports(module1,\n    \"merged_port\",\n    chain(\n        module1.get_ports(\"wire3*\"),\n        module1.get_ports(\"wire2*\"),\n        module1.get_ports(\"wire1*\"),\n    ),\n)\nprint(get_names(module1.get_ports()))\n\nsdn.compose(\n    netlist, \"_temp_merge_ports_rewrite.v\", skip_constraints=True, write_blackbox=False\n)"
      ]
    }
  ],
  "metadata": {
    "kernelspec": {
      "display_name": "Python 3",
      "language": "python",
      "name": "python3"
    },
    "language_info": {
      "codemirror_mode": {
        "name": "ipython",
        "version": 3
      },
      "file_extension": ".py",
      "mimetype": "text/x-python",
      "name": "python",
      "nbconvert_exporter": "python",
      "pygments_lexer": "ipython3",
      "version": "3.12.7"
    }
  },
  "nbformat": 4,
  "nbformat_minor": 0
}