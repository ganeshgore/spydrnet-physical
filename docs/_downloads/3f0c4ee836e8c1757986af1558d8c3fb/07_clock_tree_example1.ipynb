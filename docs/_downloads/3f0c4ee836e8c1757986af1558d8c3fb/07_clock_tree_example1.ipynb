{
  "cells": [
    {
      "cell_type": "code",
      "execution_count": null,
      "metadata": {
        "collapsed": false
      },
      "outputs": [],
      "source": [
        "%matplotlib inline"
      ]
    },
    {
      "cell_type": "markdown",
      "metadata": {},
      "source": [
        "\n# Clock tree insertion Example Architecture 1\n\n16x16 Square homogeneous fabric design\n\n<img src=\"file://../../../../examples/OpenFPGA/clock_tree/_clock_tree_example_arch_01.svg\" width=\"220px\">\n"
      ]
    },
    {
      "cell_type": "code",
      "execution_count": null,
      "metadata": {
        "collapsed": false
      },
      "outputs": [],
      "source": [
        "#from turtle import color\n#from turtle import color\n#from ast import pattern\n#from platform import release\n\nimport spydrnet as sdn\nfrom svgwrite.container import Group\nfrom spydrnet_physical.util import ConnectionPattern\nfrom copy import deepcopy\n\n\nWIDTH = 33\nHEIGHT = 33\nWIDTH_F = 33\n\nlevel0_pmanager = ConnectionPattern(WIDTH,HEIGHT)\nlevel0_patt = level0_pmanager.connections\nlevel1_pmanager = ConnectionPattern(WIDTH,HEIGHT)\nlevel1_patt = level1_pmanager.connections\nlevel2_pmanager = ConnectionPattern(WIDTH,HEIGHT)\nlevel2_patt = level2_pmanager.connections\nlevel3_pmanager = ConnectionPattern(WIDTH,HEIGHT)\nlevel3_patt = level3_pmanager.connections\n\np_manager = ConnectionPattern(WIDTH, HEIGHT)\nhyb_pat = p_manager.connections\n\nlevel3_patt.cursor = (int(WIDTH/2)+1, 0)\nlevel3_patt.move_y(steps = int(WIDTH/2)+1)\nlevel3_patt.merge(p_manager.get_htree(WIDTH))\nlevel3_patt.set_color('red')\n#combine_pattern.translate(1, 1)\n\n#combine_pattern.rotate (90)\nlevel3_patt.pull_connection_up(level3_patt.points[0])\nwhile WIDTH_F > 7:\n    tree_manager = ConnectionPattern (WIDTH, HEIGHT)\n    tree_patt = tree_manager.connections\n    for x in range(int(WIDTH_F/4)+1, WIDTH, int(WIDTH_F/2)):#(5, 33, 9)\n        for y in range (int(WIDTH_F/4)+1, WIDTH, int(WIDTH_F/2)):\n            tree_patt.merge(p_manager.get_htree(int(WIDTH_F/2)).\n            translate(x-int(WIDTH_F/4), y-int(WIDTH_F/4)))\n    if WIDTH_F == 33:\n        tree_patt.set_color('black')\n        level2_patt.merge(tree_patt)\n    elif WIDTH_F == 17:\n        tree_patt.set_color('blue')\n        level1_patt.merge(tree_patt)\n    else:\n        tree_patt.set_color('green')\n        level0_patt.merge(tree_patt)\n    WIDTH_F = int(WIDTH_F/2)+1 #17, 9, 5\n       \n\nfor y in range(2, WIDTH, 30):\n    if y == 2:\n        level0_patt.cursor = (2,y)\n        level0_patt.hold_cursor()\n        level0_patt.move_x(-1, color='orange').move_y(-1, color='orange')\n    elif y == 32:\n        level0_patt.release_cursor()\n        level0_patt.cursor = (32, y)\n        level0_patt.hold_cursor()        \n        level0_patt.move_x(1, color='orange').move_y(1, color='orange')\n\nfor x in range(2, WIDTH, 30):\n    if x == 2:\n        level0_patt.cursor = (x,32)\n        level0_patt.hold_cursor()\n        level0_patt.move_x(-1, color='orange').move_y(1, color='orange')\n    elif x == 32:\n        level0_patt.release_cursor()\n        level0_patt.cursor = (x, 2)\n        level0_patt.hold_cursor()        \n        level0_patt.move_x(1, color='orange').move_y(-1, color='orange')\n\nfor x in range (4, WIDTH-2, 2):\n    level0_patt.cursor = (x, 2)\n    level0_patt.move_y(-1, color = 'orange')\n\nfor y in range (4, WIDTH-2, 2):\n    level0_patt.cursor = (2, y)\n    level0_patt.move_x(-1, color = 'orange')\n\nfor x in range (4, WIDTH-2, 2):\n    level0_patt.cursor = (x, 32)\n    level0_patt.move_y(1, color = 'orange')\n\nfor y in range (4, WIDTH-2, 2):\n    level0_patt.cursor = (32, y)\n    level0_patt.move_x(1, color = 'orange')\n\nfor x in range (3, WIDTH, 4):\n    for y in range (3, HEIGHT, 4):\n        pt = level1_patt.search_to_point((x,y))\n        if pt:\n            level1_patt.push_connection_down(pt)\n            level0_patt.points.append(deepcopy(pt))\n            level0_patt.pull_connection_up(level0_patt.points[-1])\n\nfor x in range (5, WIDTH, 8):\n    for y in range (5, HEIGHT, 8):\n        pt = level2_patt.search_to_point((x,y))\n        if pt:\n            level2_patt.push_connection_down(pt)\n            level1_patt.points.append(deepcopy(pt))\n            level1_patt.pull_connection_up(level1_patt.points[-1])\n\nfor x in range (9, WIDTH, 16):\n    for y in range (9, HEIGHT, 16):\n        pt = level3_patt.search_to_point((x,y))\n        if pt:\n            level3_patt.push_connection_down(pt)\n            level2_patt.points.append(deepcopy(pt))\n            level2_patt.pull_connection_up(level2_patt.points[-1])\n\n#level1_patt.translate (-2,-2)\nlevel3_patt.crop_edges()\nlevel2_patt.crop_edges()\nlevel1_patt.crop_edges()\nlevel0_patt.crop_edges()\n\nlevel3_patt.trim_borders()\nlevel2_patt.trim_borders()\nlevel1_patt.trim_borders()\nlevel0_patt.trim_borders()\n\nhyb_pat.merge (level0_patt)\nhyb_pat.merge (level1_patt)\nhyb_pat.merge (level2_patt)\nhyb_pat.merge (level3_patt)\n\n#combine_pattern.merge(lev2_patt)\n    \n\n#combine_pattern.set_color('black')\n#lev2_patt.set_color('red')\n# = = = = = = = = = = = = = = = = = = = = = = = = = = = = = = = = = = = =\n#  Create clock connectivity pattern\n# = = = = = = = = = = = = = = = = = = = = = = = = = = = = = = = = = = = =\n\n\n# = = = = = = = = = = = = = = = = = = = = = = = = = = = = = = = = = = = =\nsvg = p_manager.render_pattern(title=f\"{WIDTH}x{HEIGHT} design\")\nskip_points = [(1, 1), (1, HEIGHT), (WIDTH, 1), (WIDTH, HEIGHT)]\nsink_pts = p_manager.svg_main.add(Group(id=\"sink_pts\"))\nfor y in list(range(2, HEIGHT, 2))+[1, HEIGHT]:\n    for x in list(range(2, WIDTH, 2))+[1, WIDTH]:\n        if not (x, y) in skip_points:\n            sink_pts.add(svg.rect(insert=(x*20-10, y*20-10),\n                                  size=(20, 20), opacity=0.2,\n                                  class_=\"sink_point\"))\nsvg.saveas(\"_clock_tree_example_arch_01.svg\", pretty=True, indent=4)"
      ]
    }
  ],
  "metadata": {
    "kernelspec": {
      "display_name": "Python 3",
      "language": "python",
      "name": "python3"
    },
    "language_info": {
      "codemirror_mode": {
        "name": "ipython",
        "version": 3
      },
      "file_extension": ".py",
      "mimetype": "text/x-python",
      "name": "python",
      "nbconvert_exporter": "python",
      "pygments_lexer": "ipython3",
      "version": "3.8.10"
    }
  },
  "nbformat": 4,
  "nbformat_minor": 0
}