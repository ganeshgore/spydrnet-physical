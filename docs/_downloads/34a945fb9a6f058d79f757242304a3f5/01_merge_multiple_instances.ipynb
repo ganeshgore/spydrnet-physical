{
  "cells": [
    {
      "cell_type": "markdown",
      "metadata": {},
      "source": [
        "\n# Merging group of multiple instances\n\nThis example demonstrate how to merge group of instances in the design.\n\nFollowing example has four instances, ``inst_1_0`` and ``inst_1_1`` are instance of ``module1``\nand ``inst_2_0`` and ``inst_2_1`` are instance of ``module2``.\n\nThis example merges ``inst_1_0`` and ``inst_2_0``, ``inst_1_1`` and ``inst_2_1`` and replace with instance (``inst_3_0`` and ``inst_3_1``) of newly created defintion ``module3``\n\n**Before merging**\n\n<img src=\"file://../../../examples/sdnphy_mib/_basic_inst_design.svg\" align=\"center\">\n\n**After merging**\n\n<img src=\"file://../../../examples/sdnphy_mib/_merged_mul_inst_design.svg\" align=\"center\">\n"
      ]
    },
    {
      "cell_type": "code",
      "execution_count": null,
      "metadata": {
        "collapsed": false
      },
      "outputs": [],
      "source": [
        "import spydrnet as sdn\nimport spydrnet_physical as sdnphy\nfrom spydrnet_physical.composers.html.composer import HTMLComposer\nfrom spydrnet_physical.composers.svg.composer import SVGComposer\n\nnetlist = sdnphy.load_netlist_by_name('basic_hierarchy')\n\ntop = netlist.top_instance.reference\ninst1 = next(top.get_instances('inst_1_0'))\ninst2 = next(top.get_instances('inst_2_0'))\ninst3 = next(top.get_instances('inst_1_1'))\ninst4 = next(top.get_instances('inst_2_1'))\n\ninst_tup_list = ([inst1, inst2], \"inst_3_0\"), \\\n                ([inst3, inst4], \"inst_3_1\")\n\ncomposer = HTMLComposer()\ncomposer.run(netlist, file_out=\"_basic_inst_design.html\")\ncomposer = SVGComposer()\ncomposer.run(netlist, file_out=\"_basic_inst_design.svg\")\n\ntop.merge_multiple_instance(inst_tup_list, new_definition_name=\"module3\")\n\nsdn.compose(netlist, '_merged_mul_inst_design.v', skip_constraints=True)\n\ncomposer = HTMLComposer()\ncomposer.run(netlist, file_out=\"_merged_mul_inst_design.html\")\n\ncomposer = SVGComposer()\ncomposer.run(netlist, file_out=\"_merged_mul_inst_design.svg\")"
      ]
    }
  ],
  "metadata": {
    "kernelspec": {
      "display_name": "Python 3",
      "language": "python",
      "name": "python3"
    },
    "language_info": {
      "codemirror_mode": {
        "name": "ipython",
        "version": 3
      },
      "file_extension": ".py",
      "mimetype": "text/x-python",
      "name": "python",
      "nbconvert_exporter": "python",
      "pygments_lexer": "ipython3",
      "version": "3.12.7"
    }
  },
  "nbformat": 4,
  "nbformat_minor": 0
}