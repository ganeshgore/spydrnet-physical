{
  "cells": [
    {
      "cell_type": "code",
      "execution_count": null,
      "metadata": {
        "collapsed": false
      },
      "outputs": [],
      "source": [
        "%matplotlib inline"
      ]
    },
    {
      "cell_type": "markdown",
      "metadata": {},
      "source": [
        "\n# Genrating feedthrough from single instance\n\nThis example demostrates how to generate a feedthrough wire connection for\na given scalar or vector wires.\n\n\n.. hdl-diagram:: ../../../../examples/basic/_output_wire.v\n   :type: netlistsvg\n   :align: center\n"
      ]
    },
    {
      "cell_type": "code",
      "execution_count": null,
      "metadata": {
        "collapsed": false
      },
      "outputs": [],
      "source": [
        "from os import path\nimport spydrnet as sdn\nimport spydrnet_physical as sdnphy\n\nnetlist = sdnphy.load_netlist_by_name('basic_hierarchy')\n\ntop = netlist.top_instance.reference\ncable0 = next(top.get_cables(\"wire0\"))\ninst2 = next(top.get_instances(\"inst_2_1\"))\n\ntop.create_feedthrough(inst2, cable0)\nsdn.compose(netlist, '_output_wire.v')\n\n\n# bus_in = next(top.get_cables(\"bus_in\"))\n# inst1 = next(top.get_instances(\"inst_1_0\"))\n\n# top.create_feedthrough(inst1, bus_in)\n# sdn.compose(netlist, '_output_bus.v')"
      ]
    }
  ],
  "metadata": {
    "kernelspec": {
      "display_name": "Python 3",
      "language": "python",
      "name": "python3"
    },
    "language_info": {
      "codemirror_mode": {
        "name": "ipython",
        "version": 3
      },
      "file_extension": ".py",
      "mimetype": "text/x-python",
      "name": "python",
      "nbconvert_exporter": "python",
      "pygments_lexer": "ipython3",
      "version": "3.8.10"
    }
  },
  "nbformat": 4,
  "nbformat_minor": 0
}