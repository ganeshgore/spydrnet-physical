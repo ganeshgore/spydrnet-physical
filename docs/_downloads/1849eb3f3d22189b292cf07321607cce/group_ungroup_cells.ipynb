{
  "cells": [
    {
      "cell_type": "code",
      "execution_count": null,
      "metadata": {
        "collapsed": false
      },
      "outputs": [],
      "source": [
        "%matplotlib inline"
      ]
    },
    {
      "cell_type": "markdown",
      "metadata": {},
      "source": [
        "\n# Grouping ungrouping cells\n\nThis example demostrates how to generate a feedthrough wire connection for\na given scalar or vector wires.\n\n<img src=\"file://../auto_sample_verilog/nested_hierarchy.svg\" align=\"center\">\n\n\n**Output1** ungrouped module\n\n\n<img src=\"file://../../../examples/basic/_ungrouped_design.svg\" align=\"center\">\n"
      ]
    },
    {
      "cell_type": "code",
      "execution_count": null,
      "metadata": {
        "collapsed": false
      },
      "outputs": [],
      "source": [
        "import logging\n\nimport spydrnet as sdn\nimport spydrnet_physical as sdnphy\nfrom spydrnet_physical.composers.svg.composer import SVGComposer\n\nlogger = logging.getLogger(\"spydrnet_logs\")\nsdn.enable_file_logging(LOG_LEVEL=\"INFO\")\n\nnetlist = sdnphy.load_netlist_by_name(\"nested_hierarchy\")\ntop = netlist.top_instance.reference\n\n# Flatten inst_1_0\ninst = next(top.get_instances(\"inst_1_0\"))\ntop.flatten_instance(inst)\n\n# Flatten inst_1_1\ninst = next(top.get_instances(\"inst_1_1\"))\ntop.flatten_instance(inst)\ntop.create_unconn_wires()\n\ncomposer = SVGComposer()\ncomposer.run(netlist, file_out=\"_ungrouped_design.svg\")"
      ]
    }
  ],
  "metadata": {
    "kernelspec": {
      "display_name": "Python 3",
      "language": "python",
      "name": "python3"
    },
    "language_info": {
      "codemirror_mode": {
        "name": "ipython",
        "version": 3
      },
      "file_extension": ".py",
      "mimetype": "text/x-python",
      "name": "python",
      "nbconvert_exporter": "python",
      "pygments_lexer": "ipython3",
      "version": "3.8.10"
    }
  },
  "nbformat": 4,
  "nbformat_minor": 0
}