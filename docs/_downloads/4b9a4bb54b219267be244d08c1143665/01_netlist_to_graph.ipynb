{
  "cells": [
    {
      "cell_type": "code",
      "execution_count": null,
      "metadata": {
        "collapsed": false
      },
      "outputs": [],
      "source": [
        "%matplotlib inline"
      ]
    },
    {
      "cell_type": "markdown",
      "metadata": {},
      "source": [
        "\n# Netlist to graph (networkx)\n\nThis example demonstrate how to convert a netlist to a netowrkx graph.\n\nBy default each node is assigned weight 1 and each edge is assigned weight \nbased on how many wires it represents. In case of bus connected single edge\nwith weight equal to length of bus is assigned.\n\n**Graph representation**\n\n<img src=\"file://../../../examples/OpenFPGA_tiling/_nx_graph.svg\" align=\"center\" width=\"40% \">\n"
      ]
    },
    {
      "cell_type": "code",
      "execution_count": null,
      "metadata": {
        "collapsed": false
      },
      "outputs": [],
      "source": [
        "import matplotlib.pyplot as plt\nimport networkx as nx\nimport spydrnet as sdn\nimport spydrnet_physical as sdnphy\nfrom networkx.drawing.nx_pydot import to_pydot\n\nnetlist = sdnphy.load_netlist_by_name('basic_hierarchy')\n\ntop: sdn.Netlist = netlist.top_instance.reference\ngraph = top.get_connectivity_network()\nnodes = graph.nodes\ngraph_dot = to_pydot(graph)\ngraph_dot.write_svg('_nx_graph.svg')\n\nprint(\" ========== Nodes ==========\")\nprint(\"\\n\".join([f\"{node:2} {nodes[node]['label']:15} {nodes[node]}\"\n                 for node in nodes]))\nprint(\" ========== Edges ==========\")\nprint(\"\\n\".join(nx.generate_edgelist(graph, data=True)))"
      ]
    },
    {
      "cell_type": "markdown",
      "metadata": {},
      "source": [
        "**Regenerated graph with ports splits into individual nodes**\n\n<img src=\"file://../../../examples/OpenFPGA_tiling/_nx_graph_split.svg\" align=\"center\" width=\"50%\">\n\n"
      ]
    },
    {
      "cell_type": "code",
      "execution_count": null,
      "metadata": {
        "collapsed": false
      },
      "outputs": [],
      "source": [
        "graph = top.get_connectivity_network(split_ports=True)\nnodes = graph.nodes\ngraph_dot = to_pydot(graph)\ngraph_dot.write_svg('_nx_graph_split.svg')\n\nprint(\" ========== Nodes ==========\")\nprint(\"\\n\".join([f\"{node:2} {nodes[node]['label']:15} {nodes[node]}\"\n                 for node in nodes]))\nprint(\" ========== Edges ==========\")\nprint(\"\\n\".join(nx.generate_edgelist(graph, data=True)))"
      ]
    }
  ],
  "metadata": {
    "kernelspec": {
      "display_name": "Python 3",
      "language": "python",
      "name": "python3"
    },
    "language_info": {
      "codemirror_mode": {
        "name": "ipython",
        "version": 3
      },
      "file_extension": ".py",
      "mimetype": "text/x-python",
      "name": "python",
      "nbconvert_exporter": "python",
      "pygments_lexer": "ipython3",
      "version": "3.8.10"
    }
  },
  "nbformat": 4,
  "nbformat_minor": 0
}