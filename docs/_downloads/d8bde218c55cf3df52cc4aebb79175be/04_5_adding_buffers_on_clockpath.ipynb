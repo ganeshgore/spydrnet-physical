{
  "cells": [
    {
      "cell_type": "code",
      "execution_count": null,
      "metadata": {
        "collapsed": false
      },
      "outputs": [],
      "source": [
        "%matplotlib inline"
      ]
    },
    {
      "cell_type": "markdown",
      "metadata": {},
      "source": [
        "\n# Create Clock Tree Embedding\n\n**Original grided netlist**\n\n.. hdl-diagram:: ../../../examples/OpenFPGA_clock_tree/_square_grid_design.v\n   :type: netlistsvg\n   :align: center\n   :module: top\n\n**Connection pattern**\n\n<img src=\"file://../../../examples/OpenFPGA_clock_tree/_fishbone_pattern_0.svg\" width=\"300px\" align=\"center\">\n\n**Schematic after embedding clock tree**\n\n.. hdl-diagram:: ../../../examples/OpenFPGA_clock_tree/_post_clock_embedding.v\n   :type: netlistsvg\n   :align: center\n   :module: top\n\n\n**Floorplan after embedding clock tree**\n\n<img src=\"file://../../../examples/OpenFPGA_clock_tree/_clock_tree_floorplan.svg\" width=\"500px\" align=\"center\">\n"
      ]
    },
    {
      "cell_type": "code",
      "execution_count": null,
      "metadata": {
        "collapsed": false
      },
      "outputs": [],
      "source": [
        "import spydrnet as sdn\nimport spydrnet_physical as sdnphy\nfrom spydrnet_physical.util import ConnectionPattern\n\nprint(\"WIP\")\n\n# # Verilog netlist\n# netlist = sdnphy.load_netlist_by_name('square_grid')\n# top_definition = netlist.top_instance.reference\n# top_definition.split_port(\"in\")\n# top_definition.split_port(\"out\")\n# top_definition.create_unconn_wires()\n\n\n# netlist = sdnphy.load_netlist_by_name('square_grid')\n# top_definition = netlist.top_instance.reference\n\n# # Pattern\n# p_manager = ConnectionPattern(4, 4)\n# fishbone_pattern = p_manager.get_fishbone()\n# fishbone_pattern.points[4].buffer = True\n\n# svg = p_manager.render_pattern(title=\"Merging option\")\n# svg.saveas(\"_buffered_clock_tree.svg\", pretty=True, indent=4)\n\n\n# def get_top_instance_name(x, y):\n#     '''\n#     Maps cordinates to instance name\n#     '''\n#     if 0 in (x, y):\n#         return \"top\"\n#     return f\"inst_1_{x}{y}\"\n\n\n# fishbone_pattern.get_top_instance_name = get_top_instance_name\n# clk_cable = top_definition.create_cable(\"clk\", wires=1)\n\n# fishbone_pattern.create_ft_ports(netlist, \"clk\", clk_cable)\n# fishbone_pattern.create_ft_connection(netlist, clk_cable)\n# print(\"\\nInstance Map\")\n# fishbone_pattern.print_instance_grid_map()\n# print(\"\\nModule Map\")\n# fishbone_pattern.print_reference_grid_map(netlist)\n\n# netlist.compose(\"_buffered_tree.v\", skip_constraints=True, sort_all=True)"
      ]
    }
  ],
  "metadata": {
    "kernelspec": {
      "display_name": "Python 3",
      "language": "python",
      "name": "python3"
    },
    "language_info": {
      "codemirror_mode": {
        "name": "ipython",
        "version": 3
      },
      "file_extension": ".py",
      "mimetype": "text/x-python",
      "name": "python",
      "nbconvert_exporter": "python",
      "pygments_lexer": "ipython3",
      "version": "3.8.10"
    }
  },
  "nbformat": 4,
  "nbformat_minor": 0
}