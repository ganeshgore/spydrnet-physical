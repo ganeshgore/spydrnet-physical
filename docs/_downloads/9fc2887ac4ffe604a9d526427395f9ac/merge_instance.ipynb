{
  "cells": [
    {
      "cell_type": "markdown",
      "metadata": {},
      "source": [
        "\n# Merging two instances in the design\n\nThis example demonstrate how to merge two instance in the design to create a new\nmerged definition\n\n<img src=\"file://../auto_sample_verilog/nested_hierarchy.svg\" align=\"center\">\n\n**Output1** Merged design Instance\n\n<img src=\"file://../../../examples/basic/_merged_design.svg\" align=\"center\">\n"
      ]
    },
    {
      "cell_type": "code",
      "execution_count": null,
      "metadata": {
        "collapsed": false
      },
      "outputs": [],
      "source": [
        "import logging\n\nimport spydrnet as sdn\nimport spydrnet_physical as sdnphy\nfrom spydrnet_physical.composers.svg.composer import SVGComposer\n\nlogger = logging.getLogger(\"spydrnet_logs\")\nsdn.enable_file_logging(LOG_LEVEL=\"INFO\")\n\nnetlist = sdnphy.load_netlist_by_name(\"nested_hierarchy\")\ntop = netlist.top_instance.reference\ninst1 = next(top.get_instances(\"inst_1_0\"))\ninst2 = next(top.get_instances(\"inst_1_1\"))\n\ntop.merge_instance(\n    [inst1, inst2],\n    new_definition_name=\"merged_module\",\n    new_instance_name=\"merged_module_instance_0\",\n)\n\ntop.create_unconn_wires()\n\ncomposer = SVGComposer()\ncomposer.run(netlist, file_out=\"_merged_design.svg\")"
      ]
    }
  ],
  "metadata": {
    "kernelspec": {
      "display_name": "Python 3",
      "language": "python",
      "name": "python3"
    },
    "language_info": {
      "codemirror_mode": {
        "name": "ipython",
        "version": 3
      },
      "file_extension": ".py",
      "mimetype": "text/x-python",
      "name": "python",
      "nbconvert_exporter": "python",
      "pygments_lexer": "ipython3",
      "version": "3.12.7"
    }
  },
  "nbformat": 4,
  "nbformat_minor": 0
}