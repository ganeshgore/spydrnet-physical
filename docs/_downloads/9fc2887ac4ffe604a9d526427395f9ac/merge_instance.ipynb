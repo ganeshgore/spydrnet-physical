{
  "cells": [
    {
      "cell_type": "code",
      "execution_count": null,
      "metadata": {
        "collapsed": false
      },
      "outputs": [],
      "source": [
        "%matplotlib inline"
      ]
    },
    {
      "cell_type": "markdown",
      "metadata": {},
      "source": [
        "\n# Merging two instances in the design\n\nThis example demonstrate how to merge two instance in the design to create a new\nmerged definition\n\n.. hdl-diagram:: ../../../examples/basic/_initial_design_merge.v\n   :type: netlistsvg\n   :align: center\n   :module: top\n\n\n**Output1** Merged design Instance \n\n.. hdl-diagram:: ../../../examples/basic/_merged_design.v\n   :type: netlistsvg\n   :align: center\n   :module: top\n"
      ]
    },
    {
      "cell_type": "code",
      "execution_count": null,
      "metadata": {
        "collapsed": false
      },
      "outputs": [],
      "source": [
        "from os import path\nimport spydrnet as sdn\nimport spydrnet_physical as sdnphy\nimport logging\nlogger = logging.getLogger('spydrnet_logs')\nsdn.enable_file_logging(LOG_LEVEL='INFO')\n\nnetlist = sdnphy.load_netlist_by_name('nested_hierarchy')\nsdn.compose(netlist, '_initial_design_merge.v', skip_constraints=True)\n\nnetlist = sdnphy.load_netlist_by_name('nested_hierarchy')\ntop = netlist.top_instance.reference\ninst1 = next(top.get_instances(\"inst_1_0\"))\ninst2 = next(top.get_instances(\"inst_1_1\"))\n\ntop.merge_instance([inst1, inst2],\n                   new_definition_name=\"merged_module\",\n                   new_instance_name=\"merged_module_instance_0\")\n\ntop.create_unconn_wires()\nsdn.compose(netlist, '_merged_design.v', skip_constraints=True)"
      ]
    }
  ],
  "metadata": {
    "kernelspec": {
      "display_name": "Python 3",
      "language": "python",
      "name": "python3"
    },
    "language_info": {
      "codemirror_mode": {
        "name": "ipython",
        "version": 3
      },
      "file_extension": ".py",
      "mimetype": "text/x-python",
      "name": "python",
      "nbconvert_exporter": "python",
      "pygments_lexer": "ipython3",
      "version": "3.8.10"
    }
  },
  "nbformat": 4,
  "nbformat_minor": 0
}