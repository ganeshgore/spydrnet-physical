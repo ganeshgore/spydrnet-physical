{
  "cells": [
    {
      "cell_type": "markdown",
      "metadata": {},
      "source": [
        "\n# Unified routing tile structure\n\nThis example demonstate how to render FPGA Tile using ``FloorPlanViz`` class\nUser can provide external script to render tiles, by default the rendering is\nbased on ``initial_placement`` class.\n\nThis script can be used for shaping and placement of the modules before place and route.\n\n\n**Need to update this remove initial_placement and replace with initial_hetero_placement**\n\n# .. image:: ../../../examples/OpenFPGA_tiling/_unified_routing_tile_floorplan.svg\n#    :width: 70%\n#    :align: center\n"
      ]
    },
    {
      "cell_type": "code",
      "execution_count": null,
      "metadata": {
        "collapsed": false
      },
      "outputs": [],
      "source": [
        "import glob\nimport math\nimport logging\nfrom itertools import chain\n\nimport spydrnet as sdn\nfrom spydrnet_physical.util import (\n    FloorPlanViz,\n    FPGAGridGen,\n    GridFloorplanGen,\n    OpenFPGA,\n    initial_placement,\n)\n\nlogger = logging.getLogger(\"spydrnet_logs\")\nsdn.enable_file_logging(LOG_LEVEL=\"INFO\")\n\nPROP = \"VERILOG.InlineConstraints\"\n\n\nCBX_COLOR = \"#d9d9f3\"\nCBY_COLOR = \"#a8d0db\"\nSB_COLOR = \"#ceefe4\"\nGRID_COLOR = \"#ddd0b1\"\n\n\ndef main():\n    \"\"\"\n    Main method\n    \"\"\"\n    print(\"Needs update\")\n    pass\n    # proj = \"../homogeneous_fabric\"\n    # source_files = glob.glob(f\"{proj}/*_Verilog/lb/*.v\")\n    # source_files += glob.glob(f\"{proj}/*_Verilog/routing/*.v\")\n    # source_files += glob.glob(f\"{proj}/*_Verilog/sub_module/*.v\")\n    # source_files += glob.glob(f\"{proj}/*_Verilog/fpga_top.v\")\n\n    # # Create OpenFPGA object\n    # fpga = OpenFPGA(grid=(4, 4), verilog_files=source_files)\n\n    # # Convert wires to bus structure\n    # fpga.create_grid_clb_bus()\n    # fpga.create_grid_io_bus()\n    # fpga.create_sb_bus()\n    # fpga.create_cb_bus()\n    # fpga.merge_all_grid_ios()\n\n    # # Convert top level independent nets to bus\n    # for i in chain(\n    #     fpga.top_module.get_instances(\"grid_clb*\"),\n    #     fpga.top_module.get_instances(\"grid_io*\"),\n    #     fpga.top_module.get_instances(\"sb_*\"),\n    # ):\n    #     for p in filter(lambda x: True, i.reference.ports):\n    #         if p.size > 1 and (i.check_all_scalar_connections(p)):\n    #             cable_list = []\n    #             for pin in p.pins[::-1]:\n    #                 cable_list.append(i.pins[pin].wire.cable)\n    #             cable = fpga.top_module.combine_cables(f\"{i.name}_{p.name}\", cable_list)\n    #             cable.is_downto = False\n\n    # # = = = = = = = = = = = = = = = = = = = = = = = = = = = = = =\n    # #           Floorplan visualization\n    # # = = = = = = = = = = = = = = = = = = = = = = = = = = = = = =\n    # fpga.register_placement_creator(initial_placement, areaFile=f\"{proj}/area_info.txt\")\n    # fpga_grid = FPGAGridGen(\n    #     design_name=\"FPGA4x4\",\n    #     layout=\"4x4\",\n    #     arch_file=f\"{proj}/FPGA44_Task/arch/k6_N10_tileable.xml\",\n    #     release_root=None,\n    # )\n    # fpga_grid.enumerate_grid()\n    # fpga.load_grid(fpga_grid)\n    # fpga.create_placement()\n\n    # p = fpga.placement_creator\n\n    # # Create grid plan\n    # grid_plan = GridFloorplanGen(9, 9, grid_x=200, grid_y=180)\n\n    # grid_plan.offset_x = 10\n    # grid_plan.offset_y = 10\n\n    # for i in range(2, 9 + 1, 2):\n    #     grid_plan.set_column_width(i, p.CLB_W * 4)\n\n    # for i in range(2, 9 + 1, 2):\n    #     grid_plan.set_row_height(i, p.CLB_H * 4)\n\n    # for i in range(1, 9 + 1, 2):\n    #     grid_plan.set_column_width(i, (p.CLB_GRID_X - p.CLB_W) * 4)\n\n    # for i in range(1, 9 + 1, 2):\n    #     grid_plan.set_row_height(i, (p.CLB_GRID_Y - p.CLB_H) * 4)\n\n    # # dwg = grid_plan.render_grid()\n    # # dwg.saveas(\"_fpga_grid_floorplan.svg\", pretty=True, indent=4)\n\n    # for xi in range(1, 10):\n    #     for yi in range(1, 10):\n    #         X_OFFSET, Y_OFFSET = 0, 0\n    #         inst_name = fpga_grid.get_top_instance(xi, yi)\n    #         points = grid_plan.get_x_y(xi - 1, yi - 1)\n    #         inst = next(fpga.top_module.get_instances(f\"*{inst_name}\"))\n    #         if \"cbx\" in inst_name:\n    #             X_OFFSET, Y_OFFSET = 2 * (p.CLB_W - p.CBX_W), 0\n    #         elif \"cby\" in inst_name:\n    #             X_OFFSET, Y_OFFSET = 0, 2 * (p.CLB_H - p.CBY_H)\n    #         elif \"sb\" in inst_name:\n    #             PTS = inst.reference.properties[\"POINTS\"]\n    #             X_OFFSET, Y_OFFSET = PTS[1] * -1, PTS[-1] * -1\n    #         inst.properties[\"LOC_X\"] = math.floor(points[0] + X_OFFSET)\n    #         inst.properties[\"LOC_Y\"] = math.floor(points[1] + Y_OFFSET)\n\n    # fpga.top_module.properties[\"WIDTH\"] = grid_plan.width + 20\n    # fpga.top_module.properties[\"HEIGHT\"] = grid_plan.height + 20\n    # # = = = = = = = = = = = = = = = = = = = = = = = = = = = = = =\n    # #           Adjust Floorplan\n    # # = = = = = = = = = = = = = = = = = = = = = = = = = = = = = =\n    # for cbx in fpga.top_module.get_definitions(\"cbx_*\"):\n    #     cbx.properties[\"COLOR\"] = CBX_COLOR\n\n    # for cby in fpga.top_module.get_definitions(\"cby_*\"):\n    #     cby.properties[\"COLOR\"] = CBY_COLOR\n\n    # for sb in fpga.top_module.get_definitions(\"sb_*\"):\n    #     sb.properties[\"COLOR\"] = SB_COLOR\n\n    # clb: sdn.Definition = next(fpga.top_module.get_definitions(\"grid_clb\"))\n    # clb.properties[\"COLOR\"] = GRID_COLOR\n\n    # # = = = = = = = = = = = = = = = = = = = = = = = = = = = = = =\n    # #           Create Tiles\n    # # = = = = = = = = = = = = = = = = = = = = = = = = = = = = = =\n    # tp = fpga.top_module\n    # inst_list = {}\n    # for each in list(tp.get_instances(\"sb_*\")):\n    #     inst_col = []\n    #     _, x, _, y, _ = each.name.split(\"_\")\n    #     inst = next(tp.get_instances(f\"cbx_{x}__{y}_\"), None)\n    #     if inst:\n    #         inst_col.append(inst)\n    #     inst = next(tp.get_instances(f\"cby_{x}__{int(y)+1}_\"), None)\n    #     if inst:\n    #         inst_col.append(inst)\n    #     if inst_col:\n    #         inst_col = [each] + inst_col\n    #         inst_list[each.reference.name] = inst_list.get(each.reference.name, [])\n    #         inst_list[each.reference.name].append((inst_col, f\"rb_{x}__{y}_\"))\n\n    # for module, merge_inst in inst_list.items():\n    #     module_name = module.replace(\"sb\", \"rb\")\n    #     fpga.top_module.merge_multiple_instance(\n    #         merge_inst, new_definition_name=module_name\n    #     )\n\n    # for sb in fpga.top_module.get_definitions(\"rb_*\"):\n    #     sb.properties[\"COLOR\"] = SB_COLOR\n    # # = = = = = = = = = = = = = = = = = = = = = = = = = = = = = =\n    # fpga.show_placement_data(\"rb_*\")\n    # # fpga.design_top_stat()\n\n    # fp = FloorPlanViz(fpga.top_module)\n    # fp.compose(skip_connections=True, skip_pins=True)\n    # dwg = fp.get_svg()\n    # dwg.add(grid_plan.render_grid(return_group=True))\n    # dwg.saveas(\"_unified_routing_tile_floorplan.svg\", pretty=True, indent=4)\n\n\nif __name__ == \"__main__\":\n    main()"
      ]
    }
  ],
  "metadata": {
    "kernelspec": {
      "display_name": "Python 3",
      "language": "python",
      "name": "python3"
    },
    "language_info": {
      "codemirror_mode": {
        "name": "ipython",
        "version": 3
      },
      "file_extension": ".py",
      "mimetype": "text/x-python",
      "name": "python",
      "nbconvert_exporter": "python",
      "pygments_lexer": "ipython3",
      "version": "3.12.7"
    }
  },
  "nbformat": 4,
  "nbformat_minor": 0
}