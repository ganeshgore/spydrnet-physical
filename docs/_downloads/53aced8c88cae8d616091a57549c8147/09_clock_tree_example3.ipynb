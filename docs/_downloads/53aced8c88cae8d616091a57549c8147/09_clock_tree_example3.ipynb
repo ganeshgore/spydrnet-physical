{
  "cells": [
    {
      "cell_type": "markdown",
      "metadata": {},
      "source": [
        "\n# Clock tree insertion Example Architecture 3\n\n9x12 odd row/column homogeneous fabric design\n\n<img src=\"file://../../../examples/OpenFPGA_clock_tree/_clock_tree_example_arch_03.svg\" width=\"500px\" align=\"center\">\n"
      ]
    },
    {
      "cell_type": "code",
      "execution_count": null,
      "metadata": {
        "collapsed": false
      },
      "outputs": [],
      "source": [
        "import spydrnet as sdn\nfrom svgwrite.container import Group\nfrom spydrnet_physical.util import ConnectionPattern, ConnectPoint, ConnectPointList\nfrom copy import deepcopy\n\n# it is a 9x12 clb fabric\n# I created only 2 levels one is combine level and the other is level 1\nWIDTH = 19\nHEIGHT = 25\n\n# = = = = = = = = = = = = = = = = = = = = = = = = = = = = = = = = = = = =\n#  Create clock connectivity pattern\n# = = = = = = = = = = = = = = = = = = = = = = = = = = = = = = = = = = = =\n\np_manager = ConnectionPattern(WIDTH, HEIGHT)\ncombine_pattern = p_manager.connections\ncombine_pattern.merge(p_manager.get_htree(WIDTH))\ncombine_pattern.translate(0, 3)\ncombine_pattern.cursor = (int(WIDTH/2)+1, 0)\ncombine_pattern.move_y(steps=HEIGHT)\n\n\nxind = 0\nyind = 3\nlevel1_pmanager = ConnectionPattern(WIDTH, HEIGHT)\nlevel1_patt = level1_pmanager.connections\nfor x in range(int(WIDTH/4)+1, WIDTH, int(WIDTH/2)+1):\n    for y in range(int(HEIGHT/4)+2, HEIGHT, int(HEIGHT/2)-2):\n        level1_patt.merge(p_manager.get_htree(\n            int(WIDTH/2)).translate(xind, yind))\n        yind = yind + 10\n    yind = 3\n    xind = xind + 10\n\npts = ConnectPointList(3, 3)\npts.cursor = (1, 1)\npts.hold_cursor()\npts.move_x(1).move_x(-1).move_cursor_x()\npts.move_y(steps=2).move_cursor_x(-2)\npts.move_y(steps=2)\n\n# for creating a small 'U' on the level 1 Htree\nfor x in [3, 7, 13, 17]:\n    for y in [6, 10, 16, 20]:\n        if y == 6 or y == 16:\n            pts2_copy = deepcopy(pts)\n            pts2_copy.flip('v')\n            level1_patt.merge(pts2_copy.translate(x-1, y+1))\n        else:\n            pts_copy = deepcopy(pts)\n            level1_patt.merge(pts_copy.translate(x-1, y-1))\n\npts3 = ConnectPointList(2, 4)\npts3.cursor = (1, 1)\npts3.move_y(steps=3, color='black')\n\n# for top CLB and CB connection(extension of the small 'U')\nfor x in [2, 4, 6, 8, 12, 14, 16, 18]:\n    for y in [22]:\n        pts3_copy = deepcopy(pts3)\n        level1_patt.merge(pts3_copy.translate(x-1, y-1))\n\n# for bottom CLB and CB connection(extension of the small 'U')\nfor x in [2, 4, 6, 8, 12, 14, 16, 18]:\n    for y in [4]:\n        pts4_copy = deepcopy(pts3)\n        pts4_copy.flip('v')\n        level1_patt.merge(pts4_copy.translate(x-1, y+1))\n\n# For connections to the left CBs\nfor y in range(2, HEIGHT, 2):\n    level1_patt.cursor = (2, y)\n    level1_patt.move_x(-1)\n# For connections to the right CBs\nfor y in range(2, HEIGHT, 2):\n    level1_patt.cursor = (18, y)\n    level1_patt.move_x(1)\n\n# for a single connection on the left side, in the middle of the level 1 htree (on all 4 trees)\nfor x in [3, 13]:\n    for y in [8, 18]:\n        level1_patt.cursor = (x, y)\n        level1_patt.move_x(-1)\n# for a single connection on the right side, in the middle of the level 1 htree (on all 4 trees)\nfor x in [7, 17]:\n    for y in [8, 18]:\n        level1_patt.cursor = (x, y)\n        level1_patt.move_x(1)\n\n# For pushing up and down connections through levels\nfor x in range(2):\n    for y in range(2):\n        ydir = -1 if y else 1\n        pt = ConnectPoint(5+(x*(int(WIDTH/2)+1)), 8+(y*(int(WIDTH/2)+1)) +\n                          ydir, 5+(x*(int(WIDTH/2)+1)), 8+(y*(int(WIDTH/2)+1)))\n        combine_pattern.points.append(deepcopy(pt))\n        combine_pattern.push_connection_down(combine_pattern.points[-1])\n        level1_patt.points.append(deepcopy(pt))\n        level1_patt.pull_connection_up(level1_patt.points[-1])\n\n# for x in range(5, WIDTH, 10):\n#    for y in range (8, HEIGHT, 10):\n#        pt = combine_pattern.search_to_point((x,y))\n#        if pt:\n#            combine_pattern.push_connection_down(pt)\n#            level1_patt.points.append(deepcopy(pt))\n#            level1_patt.pull_connection_up(level1_patt.points[-1])\n\ncombine_pattern.set_color('red')\nlevel1_patt.set_color('blue')\n\ncombine_pattern.merge(level1_patt)\n# = = = = = = = = = = = = = = = = = = = = = = = = = = = = = = = = = = = =\nsvg = p_manager.render_pattern(title=\"-\")\nskip_points = [(1, 1), (1, HEIGHT), (WIDTH, 1), (WIDTH, HEIGHT)]\nsink_pts = p_manager.svg_main.add(Group(id=\"sink_pts\"))\nfor y in list(range(2, HEIGHT, 2))+[1, HEIGHT]:\n    for x in list(range(2, WIDTH, 2))+[1, WIDTH]:\n        if not (x, y) in skip_points:\n            sink_pts.add(svg.rect(insert=(x*20-10, y*20-10),\n                                  size=(20, 20), opacity=0.2,\n                                  class_=\"sink_point\"))\nsvg.saveas(\"_clock_tree_example_arch_03.svg\", pretty=True, indent=4)"
      ]
    }
  ],
  "metadata": {
    "kernelspec": {
      "display_name": "Python 3",
      "language": "python",
      "name": "python3"
    },
    "language_info": {
      "codemirror_mode": {
        "name": "ipython",
        "version": 3
      },
      "file_extension": ".py",
      "mimetype": "text/x-python",
      "name": "python",
      "nbconvert_exporter": "python",
      "pygments_lexer": "ipython3",
      "version": "3.12.7"
    }
  },
  "nbformat": 4,
  "nbformat_minor": 0
}