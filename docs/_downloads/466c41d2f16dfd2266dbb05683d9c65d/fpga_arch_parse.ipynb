{
  "cells": [
    {
      "cell_type": "code",
      "execution_count": null,
      "metadata": {
        "collapsed": false
      },
      "outputs": [],
      "source": [
        "%matplotlib inline"
      ]
    },
    {
      "cell_type": "markdown",
      "metadata": {},
      "source": [
        "\n# OpenFPGA architecture Parsing\n"
      ]
    },
    {
      "cell_type": "code",
      "execution_count": null,
      "metadata": {
        "collapsed": false
      },
      "outputs": [],
      "source": [
        "import os\nfrom spydrnet_physical.util import OpenFPGA_Arch\n\nvpr_arch = os.path.join('..', 'homogeneous_fabric', 'FPGA44_Task',\n                        'arch', 'k6_N10_tileable.xml')\nopenfpga_arch = os.path.join('..', 'homogeneous_fabric', 'FPGA44_Task',\n                             'arch', 'k6_N10_openfpga.xml')\nfpga_arch = OpenFPGA_Arch(vpr_arch, openfpga_arch)\n\nprint(fpga_arch.get_layout())\nprint(fpga_arch.pb_types)"
      ]
    }
  ],
  "metadata": {
    "kernelspec": {
      "display_name": "Python 3",
      "language": "python",
      "name": "python3"
    },
    "language_info": {
      "codemirror_mode": {
        "name": "ipython",
        "version": 3
      },
      "file_extension": ".py",
      "mimetype": "text/x-python",
      "name": "python",
      "nbconvert_exporter": "python",
      "pygments_lexer": "ipython3",
      "version": "3.8.10"
    }
  },
  "nbformat": 4,
  "nbformat_minor": 0
}