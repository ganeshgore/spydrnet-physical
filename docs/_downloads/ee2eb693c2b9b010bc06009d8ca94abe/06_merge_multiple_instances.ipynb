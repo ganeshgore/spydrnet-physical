{
  "cells": [
    {
      "cell_type": "code",
      "execution_count": null,
      "metadata": {
        "collapsed": false
      },
      "outputs": [],
      "source": [
        "%matplotlib inline"
      ]
    },
    {
      "cell_type": "markdown",
      "metadata": {},
      "source": [
        "\n# Merging group of instances\n\nThis example demonstrate how to merge group of instances in the design\n\n**Before Merging**\n\n<img src=\"file://../../../examples/basic/_basic_inst_design.svg\" align=\"center\">\n\n**After Merging**\n\n<img src=\"file://../../../examples/basic/_Merged_mul_inst_design.svg\" align=\"center\">\n"
      ]
    },
    {
      "cell_type": "code",
      "execution_count": null,
      "metadata": {
        "collapsed": false
      },
      "outputs": [],
      "source": [
        "from os import path\nimport spydrnet as sdn\nimport spydrnet_physical as sdnphy\nfrom spydrnet_physical.composers.html.composer import HTMLComposer\nfrom spydrnet_physical.composers.svg.composer import SVGComposer\n\nnetlist = sdnphy.load_netlist_by_name('basic_hierarchy')\n\ntop = netlist.top_instance.reference\ninst1 = next(top.get_instances('inst_1_0'))\ninst2 = next(top.get_instances('inst_2_0'))\ninst3= next(top.get_instances('inst_1_1'))\ninst4 = next(top.get_instances('inst_2_1'))\n\ninst_tup_list = ([inst1, inst2], \"merged_inst1\"), ([inst3, inst4], \"merged_inst2\")\n\ncomposer = HTMLComposer()\ncomposer.run(netlist, file_out=\"_basic_inst_design.html\")\ncomposer = SVGComposer()\ncomposer.run(netlist, file_out=\"_basic_inst_design.svg\")\n\ntop.merge_multiple_instance(inst_tup_list, new_definition_name = \"merged_insts\")\n\nsdn.compose(netlist, '_merged_mul_inst_design.v', skip_constraints=True)\n\ncomposer = HTMLComposer()\ncomposer.run(netlist, file_out=\"_Merged_mul_inst_design.html\")\n\ncomposer = SVGComposer()\ncomposer.run(netlist, file_out=\"_Merged_mul_inst_design.svg\")"
      ]
    }
  ],
  "metadata": {
    "kernelspec": {
      "display_name": "Python 3",
      "language": "python",
      "name": "python3"
    },
    "language_info": {
      "codemirror_mode": {
        "name": "ipython",
        "version": 3
      },
      "file_extension": ".py",
      "mimetype": "text/x-python",
      "name": "python",
      "nbconvert_exporter": "python",
      "pygments_lexer": "ipython3",
      "version": "3.8.10"
    }
  },
  "nbformat": 4,
  "nbformat_minor": 0
}