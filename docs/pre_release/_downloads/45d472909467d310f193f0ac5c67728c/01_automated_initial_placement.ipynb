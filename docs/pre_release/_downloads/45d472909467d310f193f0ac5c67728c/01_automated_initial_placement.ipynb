{
  "cells": [
    {
      "cell_type": "code",
      "execution_count": null,
      "metadata": {
        "collapsed": false
      },
      "outputs": [],
      "source": [
        "%matplotlib inline"
      ]
    },
    {
      "cell_type": "markdown",
      "metadata": {},
      "source": [
        "\n# Auto floorplan homogeneous design\n\nThis example demonstate how to render FPGA Tile using ``FloorPlanViz`` class\nUser can provide external script to render tiles, by default the rendering is\nbased on ``initial_placement`` class.\n\nThis script can be used for shaping and placement of the modules before place and route.\n\n<img src=\"file://../../../examples/OpenFPGA_Floorplanning/_fpga_auto_initial_placement.svg\" width=\"100%\" align=\"center\">\n"
      ]
    },
    {
      "cell_type": "code",
      "execution_count": null,
      "metadata": {
        "collapsed": false
      },
      "outputs": [],
      "source": [
        "import glob\nimport math\nimport logging\n\nimport spydrnet as sdn\nfrom spydrnet_physical.util import OpenFPGA, initial_hetero_placement\nfrom spydrnet_physical.util import FPGAGridGen, FloorPlanViz\n\nlogger = logging.getLogger(\"spydrnet_logs\")\nsdn.enable_file_logging(LOG_LEVEL=\"INFO\")\n\nSTYLE_SHEET = \"\"\"\n    .over_util {fill:#b22222 !important}\n    text{font-family: Lato; font-style: italic; font-size: 250px;}\n\"\"\"\n\nSCALE = 100\nCPP = math.floor(0.46 * SCALE)\nSC_HEIGHT = math.floor(2.72 * SCALE)\n\nPROP = \"VERILOG.InlineConstraints\"\n\n\ndef main():\n    \"\"\"\n    Main method\n    \"\"\"\n    proj = \"../homogeneous_fabric\"\n    source_files = glob.glob(f\"{proj}/*_Verilog/lb/*.v\")\n    source_files += glob.glob(f\"{proj}/*_Verilog/routing/*.v\")\n    source_files += glob.glob(f\"{proj}/*_Verilog/sub_module/*.v\")\n    source_files += glob.glob(f\"{proj}/*_Verilog/fpga_top.v\")\n\n    # Create OpenFPGA object\n    fpga = OpenFPGA(grid=(4, 4), verilog_files=source_files)\n\n    # Convert wires to bus structure\n    fpga.create_grid_clb_bus()\n    fpga.create_grid_io_bus()\n    fpga.create_sb_bus()\n    fpga.create_cb_bus()\n    fpga.merge_all_grid_ios()\n\n    # = = = = = = = = = = = = = = = = = = = = = = = = = = = = = =\n    #           Floorplan visualization\n    # = = = = = = = = = = = = = = = = = = = = = = = = = = = = = =\n    fpga_grid = FPGAGridGen(\n        design_name=\"FPGA4x4\",\n        layout=\"4x4\",\n        arch_file=f\"{proj}/FPGA44_Task/arch/k6_N10_tileable.xml\",\n        release_root=None,\n    )\n\n    fpga.SC_HEIGHT = SC_HEIGHT\n    fpga.CPP = CPP\n    fpga.SC_GRID = CPP * SC_HEIGHT\n\n    fpga_grid.enumerate_grid()\n    fpga.load_grid(fpga_grid)\n    fpga.annotate_area_information(f\"{proj}/area_info.txt\", skipline=1)\n\n    fpga.register_placement_creator(initial_hetero_placement)\n    fpga.show_utilization_data()\n\n    # Uncomment this to set module dimensions\n    # ====================================================================\n    # m = {}\n    # m[\"clb_w\"], m[\"clb_h\"] = 360, 8\n    # m[\"cbx11_w\"], m[\"cbx11_h\"] = 280, 4\n    # m[\"bottom_cbx_w\"], m[\"bottom_cbx_h\"] = 280, 4\n    # m[\"top_cbx_w\"], m[\"top_cbx_h\"] = 280, 4\n\n    # m[\"cby11_w\"], m[\"cby11_h\"] = 50, 6\n    # m[\"left_cby_w\"], m[\"left_cby_h\"] = 50, 6\n    # m[\"right_cby_w\"], m[\"right_cby_h\"] = 50, 6\n    # fpga.placement_creator.update_shaping_param(m)\n    # ====================================================================\n\n    fpga.placement_creator.derive_sb_paramters()\n    fpga.placement_creator.create_shapes()\n\n    # # = = = = = = = = = = = = = = = = = = = = = = = = = = = = = =\n    # #           Adding Margin\n    # # = = = = = = = = = = = = = = = = = = = = = = = = = = = = = =\n    shapes = fpga.placement_creator.module_shapes\n\n    for module in [\"grid_clb\"]:\n        shapes[module][\"POINTS\"][0] -= 16\n        shapes[module][\"POINTS\"][1] -= 2\n        shapes[module][\"PLACEMENT\"][0] += 8\n        shapes[module][\"PLACEMENT\"][1] += 1\n\n    for module in [\"cbx_1__0_\", \"cbx_1__1_\", \"cbx_1__4_\"]:\n        shapes[module][\"POINTS\"][0] -= 16\n        shapes[module][\"PLACEMENT\"][0] += 8\n\n    for module in [\"cby_0__1_\", \"cby_1__1_\", \"cby_4__1_\"]:\n        shapes[module][\"POINTS\"][1] -= 2\n        shapes[module][\"PLACEMENT\"][1] += 1\n\n    fpga.create_placement()\n    fpga.show_placement_data(filename=\"_homogeneous_placement.txt\")\n    fpga.show_utilization_data()\n    fpga.design_top_stat()\n    fpga.save_shaping_data(\"*\")\n\n    fpga.update_module_label()\n    fpga.show_utilization_data()\n\n    fpga.update_module_label(\n        get_label=lambda x: f\"{int(x.data[PROP]['WIDTH'])/CPP:.1f}\" +\n                            f\"x{int(x.data[PROP]['HEIGHT'])/SC_HEIGHT:.1f}\" +\n                            f\"[{x.utilization:.2%}]\")\n    fpga.show_utilization_data()\n\n    # # = = = = = = = = = = = = = = = = = = = = = = = = = = = = = =\n    # #           Adjust Floorplan\n    # # = = = = = = = = = = = = = = = = = = = = = = = = = = = = = =\n\n    fp = FloorPlanViz(fpga.top_module)\n    fp.compose(skip_connections=True, skip_pins=True)\n    fp.custom_style_sheet = STYLE_SHEET\n    dwg = fp.get_svg()\n    dwg.add(fpga.placement_creator.design_grid.render_grid(return_group=True))\n\n    pattern = dwg.pattern(size=(2 * CPP, 2 * SC_HEIGHT),\n                          patternUnits=\"userSpaceOnUse\")\n    pattern.add(dwg.circle(center=(4, 4), r=4, fill=\"black\"))\n    pattern.add(dwg.circle(center=(4, SC_HEIGHT + 4), r=4, fill=\"red\"))\n    dwg.defs.add(pattern)\n    dwg.defs.elements[0].elements[0].attribs[\"fill\"] = pattern.get_funciri()\n\n    dwg.saveas(\"_fpga_auto_initial_placement.svg\", pretty=True, indent=4)\n\n\nif __name__ == \"__main__\":\n    main()"
      ]
    },
    {
      "cell_type": "markdown",
      "metadata": {},
      "source": [
        "**Placement information**\n\n.. literalinclude:: ../../../examples/OpenFPGA_Floorplanning/_homogeneous_placement.txt\n\n"
      ]
    }
  ],
  "metadata": {
    "kernelspec": {
      "display_name": "Python 3",
      "language": "python",
      "name": "python3"
    },
    "language_info": {
      "codemirror_mode": {
        "name": "ipython",
        "version": 3
      },
      "file_extension": ".py",
      "mimetype": "text/x-python",
      "name": "python",
      "nbconvert_exporter": "python",
      "pygments_lexer": "ipython3",
      "version": "3.8.10"
    }
  },
  "nbformat": 4,
  "nbformat_minor": 0
}