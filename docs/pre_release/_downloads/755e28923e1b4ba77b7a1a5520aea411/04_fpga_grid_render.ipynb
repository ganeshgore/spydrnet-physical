{
  "cells": [
    {
      "cell_type": "code",
      "execution_count": null,
      "metadata": {
        "collapsed": false
      },
      "outputs": [],
      "source": [
        "%matplotlib inline"
      ]
    },
    {
      "cell_type": "markdown",
      "metadata": {},
      "source": [
        "\n# RenderFPGA Pre Generation Grid\n\nThis class generates the 2D matrix of the FPGA grid.\n\n\n**layout section of Architecture file**\n\n<img src=\"file://../../../examples/OpenFPGA_basic/_small_layout_render.svg\" width=\"60%\" align=\"center\">\n\n<img src=\"file://../../../examples/OpenFPGA_basic/_ultimate_layout_render.svg\" width=\"90%\" align=\"center\">\n\n<img src=\"file://../../../examples/OpenFPGA_basic/_ultimate_layout_render_sized.svg\" width=\"90%\" align=\"center\">\n\n.. Note:: Merging with non reactilinear instances is still giving wrong output\n"
      ]
    },
    {
      "cell_type": "code",
      "execution_count": null,
      "metadata": {
        "collapsed": false
      },
      "outputs": [],
      "source": [
        "import logging\n\nimport spydrnet as sdn\nfrom spydrnet_physical.util import FPGAGridGen\n\nlogger = logging.getLogger(\"spydrnet_logs\")\nsdn.enable_file_logging(LOG_LEVEL=\"INFO\")\n\n\ndef main():\n    fpga = FPGAGridGen(\n        design_name=\"example_design\",\n        arch_file=\"../support_files/vpr_arch_render_demo.xml\",\n        release_root=\"_release\",\n        layout=\"small\",\n    )\n    fpga.enumerate_grid()\n\n    dwg = fpga.render_layout(filename=\"_small_layout_render.svg\", markers=True)\n\n    # Demonstrates how to modify the dimensions\n    fpga = FPGAGridGen(\n        design_name=\"example_design\",\n        arch_file=\"../support_files/vpr_arch_render_demo.xml\",\n        release_root=\"_release\",\n        layout=\"ultimate\",\n    )\n    fpga.enumerate_grid()\n    fpga.default_parameters[\"cbx\"][0] = 10\n    fpga.default_parameters[\"cby\"][1] = 10\n    dwg = fpga.render_layout(filename=\"_ultimate_layout_render.svg\", grid_io=True)\n\n    # Demonstrates how tomodify the structure\n    fpga = FPGAGridGen(\n        design_name=\"example_design\",\n        arch_file=\"../support_files/vpr_arch_render_demo.xml\",\n        release_root=\"_release\",\n        layout=\"ultimate\",\n    )\n    fpga.enumerate_grid()\n    fpga.default_parameters[\"cbx\"][0] = 10\n    fpga.default_parameters[\"cby\"][1] = 10\n    dwg = fpga.render_layout(filename=\"_ultimate_layout_render_sized.svg\", grid_io=True)\n\n    fpga.get_instance(\"cbx_1__0_\")[\"xlink:href\"][1:]\n    fpga.get_symbol_of_instance(\"cbx_1__0_\")\n    fpga.get_symbol(\"ram9k\")\n    fpga.add_style(\"symbol[id='ram9k'] * { fill:#a8dd00;}\")\n    # Need Some more effforts\n    fpga.merge_symbol([\"cbx_1__0_\", \"clb_1__1_\", \"cbx_1__1_\"], \"new_symbol\")\n    fpga.merge_symbol(\n        [\n            \"ram9k_3__5_\",\n            \"sb_3__4_\",\n            \"sb_3__5_\",\n            \"cbx_3__4_\",\n            \"cbx_3__5_\",\n            \"cbx_4__4_\",\n            \"cbx_4__5_\",\n        ],\n        \"new_symbol_2\",\n    )\n    fpga.add_style(\"symbol[id='new_symbol'] * { fill:#a8dd00;}\")\n    fpga.add_style(\"symbol[id='new_symbol_2'] * { fill:#599fff;}\")\n    dwg.save(pretty=True, indent=4)\n\n\nif __name__ == \"__main__\":\n    main()"
      ]
    }
  ],
  "metadata": {
    "kernelspec": {
      "display_name": "Python 3",
      "language": "python",
      "name": "python3"
    },
    "language_info": {
      "codemirror_mode": {
        "name": "ipython",
        "version": 3
      },
      "file_extension": ".py",
      "mimetype": "text/x-python",
      "name": "python",
      "nbconvert_exporter": "python",
      "pygments_lexer": "ipython3",
      "version": "3.8.10"
    }
  },
  "nbformat": 4,
  "nbformat_minor": 0
}