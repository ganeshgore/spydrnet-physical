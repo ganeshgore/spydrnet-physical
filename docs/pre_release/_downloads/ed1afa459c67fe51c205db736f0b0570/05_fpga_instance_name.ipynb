{
  "cells": [
    {
      "cell_type": "code",
      "execution_count": null,
      "metadata": {
        "collapsed": false
      },
      "outputs": [],
      "source": [
        "%matplotlib inline"
      ]
    },
    {
      "cell_type": "markdown",
      "metadata": {},
      "source": [
        "\n# FPGA Instance to Layout mapping \n"
      ]
    },
    {
      "cell_type": "code",
      "execution_count": null,
      "metadata": {
        "collapsed": false
      },
      "outputs": [],
      "source": [
        "import glob\nimport logging\nimport tempfile\n\nimport spydrnet as sdn\nfrom spydrnet_physical.util import OpenFPGA, FPGAGridGen\n\nlogger = logging.getLogger('spydrnet_logs')\nsdn.enable_file_logging(LOG_LEVEL='INFO')\n\n\ndef main():\n    proj = \"../homogeneous_fabric\"\n    source_files = glob.glob(f'{proj}/*_Verilog/lb/*.v')\n    source_files += glob.glob(f'{proj}/*_Verilog/routing/*.v')\n    source_files += glob.glob(f'{proj}/*_Verilog/sub_module/*.v')\n    source_files += glob.glob(f'{proj}/*_Verilog/fpga_top.v')\n\n    # Temporary fix to read multiple verilog files\n    with tempfile.NamedTemporaryFile(suffix=\".v\") as fp:\n        for eachV in source_files:\n            with open(eachV, \"r\") as fpv:\n                fp.write(str.encode(\" \".join(fpv.readlines())))\n        fp.seek(0)\n        netlist = sdn.parse(fp.name)\n\n    fpga = OpenFPGA(grid=(4, 4), netlist=netlist)\n\n    fpga_grid = FPGAGridGen(design_name='FPGA4x4', layout=\"4x4\",\n                            arch_file=f\"{proj}/FPGA44_Task/arch/k6_N10_tileable.xml\",\n                            release_root=None)\n    fpga_grid.enumerate_grid()\n    fpga.load_grid(fpga_grid)\n\n    for y in range(10, -1, -1):\n        for x in range(0, 11):\n            print(f\"{fpga.get_top_instance(x, y):10}\", end=\"\")\n        print(\"\")\n\n\nif __name__ == \"__main__\":\n    main()"
      ]
    }
  ],
  "metadata": {
    "kernelspec": {
      "display_name": "Python 3",
      "language": "python",
      "name": "python3"
    },
    "language_info": {
      "codemirror_mode": {
        "name": "ipython",
        "version": 3
      },
      "file_extension": ".py",
      "mimetype": "text/x-python",
      "name": "python",
      "nbconvert_exporter": "python",
      "pygments_lexer": "ipython3",
      "version": "3.8.10"
    }
  },
  "nbformat": 4,
  "nbformat_minor": 0
}