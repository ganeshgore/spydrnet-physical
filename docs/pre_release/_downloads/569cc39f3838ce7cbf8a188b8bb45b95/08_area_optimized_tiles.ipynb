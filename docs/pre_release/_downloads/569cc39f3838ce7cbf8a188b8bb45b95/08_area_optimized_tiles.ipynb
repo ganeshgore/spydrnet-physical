{
  "cells": [
    {
      "cell_type": "code",
      "execution_count": null,
      "metadata": {
        "collapsed": false
      },
      "outputs": [],
      "source": [
        "%matplotlib inline"
      ]
    },
    {
      "cell_type": "markdown",
      "metadata": {},
      "source": [
        "\n# Generating and Floorplanning Area-optimized FPGA Tiles\n\nThis example demonstate how to create a tile strcuture from\nVerilog netlist obtained from OpenFPGA\n\n<img src=\"file://../../../examples/OpenFPGA_tiling/_tile01_floorplan.svg\" height=\"400px\">\n"
      ]
    },
    {
      "cell_type": "code",
      "execution_count": null,
      "metadata": {
        "collapsed": false
      },
      "outputs": [],
      "source": [
        "import glob\nimport logging\nfrom pathlib import Path\nimport tempfile\nfrom itertools import chain\nfrom os import path\n\nimport spydrnet as sdn\nfrom spydrnet_physical.util import (FloorPlanViz, Tile01,\n                                    GridFloorplanGen, OpenFPGA)\n\n\nlogger = logging.getLogger('spydrnet_logs')\nsdn.enable_file_logging(LOG_LEVEL='INFO')\n\nPROP = \"VERILOG.InlineConstraints\"\n\n\ndef main():\n    proj = '../homogeneous_fabric'\n    source_files = glob.glob(f'{proj}/*_Verilog/lb/*.v')\n    source_files += glob.glob(f'{proj}/*_Verilog/routing/*.v')\n    source_files += glob.glob(f'{proj}/*_Verilog/sub_module/*.v')\n    source_files += glob.glob(f'{proj}/*_Verilog/fpga_top.v')\n\n    # Temporary fix to read multiple verilog files\n    with tempfile.NamedTemporaryFile(suffix=\".v\") as fp:\n        for eachV in source_files:\n            with open(eachV, \"r\") as fpv:\n                fp.write(str.encode(\" \".join(fpv.readlines())))\n        fp.seek(0)\n        netlist = sdn.parse(fp.name)\n\n    fpga = OpenFPGA(grid=(4, 4), netlist=netlist)\n    fpga.design_top_stat()\n\n    # Convert wires to bus structure\n    fpga.create_grid_clb_bus()\n    fpga.create_grid_io_bus()\n    fpga.create_sb_bus()\n    fpga.create_cb_bus()\n\n    # Remove undriven nets\n    fpga.remove_undriven_nets()\n    fpga.remove_config_chain()\n\n    # Convert top level independent nets to bus\n    for i in chain(fpga.top_module.get_instances(\"grid_clb*\"),\n                   fpga.top_module.get_instances(\"grid_io*\"),\n                   fpga.top_module.get_instances(\"sb_*\")):\n        for p in filter(lambda x: True, i.reference.ports):\n            if p.size > 1 and (i.check_all_scalar_connections(p)):\n                cable_list = []\n                for pin in p.pins[::-1]:\n                    cable_list.append(i.pins[pin].wire.cable)\n                cable = fpga.top_module.combine_cables(\n                    f\"{i.name}_{p.name}\", cable_list)\n                cable.is_downto = False\n\n    # Before Creating Tiles\n    fpga.design_top_stat()\n\n    # Merge grid IOs\n    fpga.merge_all_grid_ios()\n    # Create area-optimized tiles\n    fpga.register_tile_generator(Tile01)\n    fpga.create_tiles()\n\n    # After Creating Tiles\n    fpga.design_top_stat()"
      ]
    },
    {
      "cell_type": "markdown",
      "metadata": {},
      "source": [
        "Following section is for rendering only\n\n\n"
      ]
    },
    {
      "cell_type": "code",
      "execution_count": null,
      "metadata": {
        "collapsed": false
      },
      "outputs": [],
      "source": [
        "# = = = = = = = = = = = = = = = = = = = = = = = = = = = = = =\n    #           Floorplan visualization\n    # = = = = = = = = = = = = = = = = = = = = = = = = = = = = = =\n    # Create grid plan\n    grid_plan = GridFloorplanGen(4, 4, grid_x=220, grid_y=220)\n\n    grid_plan.offset_x = 10\n    grid_plan.offset_y = 10\n\n    for module in fpga.top_module.get_definitions(\"*tile*\"):\n        module.data[PROP][\"WIDTH\"] = 200\n        module.data[PROP][\"HEIGHT\"] = 200\n        module.data[PROP][\"COLOR\"] = \"#E6BA95\"\n\n    for xi in range(4, 0, -1):\n        for yi in range(4, 0, -1):\n            X_OFFSET, Y_OFFSET = 10, 10\n            points = grid_plan.get_x_y(xi-1, yi-1)\n            try:\n                inst = next(fpga.top_module.get_instances(f\"*_{xi}__{yi}_*\"))\n                refname = inst.reference.name\n            except StopIteration:\n                continue\n\n            inst.data[PROP]['LOC_X'] = points[0] + X_OFFSET\n            inst.data[PROP]['LOC_Y'] = points[1] + Y_OFFSET\n\n    fpga.top_module.data[PROP][\"WIDTH\"] = grid_plan.width + 20\n    fpga.top_module.data[PROP][\"HEIGHT\"] = grid_plan.height + 20\n\n    fpga.save_shaping_data(\"*\", scale=0.01, filename=\"_tile01_shaping.txt\")\n\n    # = = = = = = = = = = = = = = = = = = = = = = = = = = = = = =\n    #                   Visualize floorplan\n    # = = = = = = = = = = = = = = = = = = = = = = = = = = = = = =\n    fp = FloorPlanViz(fpga.top_module)\n    fp.compose(skip_connections=True, skip_pins=True)\n    dwg = fp.get_svg()\n    dwg.add(grid_plan.render_grid(return_group=True))\n    dwg.saveas(\"_tile01_floorplan.svg\", pretty=True, indent=4)\n\n    # Save netlist\n    base_dir = \"_output_tile01\"\n    Path(base_dir).mkdir(parents=True, exist_ok=True)\n    fpga.save_netlist(\"sb*\", path.join(base_dir, \"routing\"))\n    fpga.save_netlist(\"cb*\", path.join(base_dir, \"routing\"))\n    fpga.save_netlist(\"grid*\", path.join(base_dir, \"lb\"))\n    fpga.save_netlist(\"*tile*\", path.join(base_dir, \"tiles\"))\n    fpga.save_netlist(\"fpga_top\", path.join(base_dir))\n\n\nif __name__ == \"__main__\":\n    main()"
      ]
    },
    {
      "cell_type": "markdown",
      "metadata": {},
      "source": [
        "## Output Shaping File\n\n.. literalinclude:: ../../../examples/OpenFPGA_tiling/_tile01_shaping.txt\n\n\n\n"
      ]
    }
  ],
  "metadata": {
    "kernelspec": {
      "display_name": "Python 3",
      "language": "python",
      "name": "python3"
    },
    "language_info": {
      "codemirror_mode": {
        "name": "ipython",
        "version": 3
      },
      "file_extension": ".py",
      "mimetype": "text/x-python",
      "name": "python",
      "nbconvert_exporter": "python",
      "pygments_lexer": "ipython3",
      "version": "3.8.10"
    }
  },
  "nbformat": 4,
  "nbformat_minor": 0
}