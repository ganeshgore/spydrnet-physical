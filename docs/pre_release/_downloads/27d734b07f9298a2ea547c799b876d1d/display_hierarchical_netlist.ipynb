{
  "cells": [
    {
      "cell_type": "code",
      "execution_count": null,
      "metadata": {
        "collapsed": false
      },
      "outputs": [],
      "source": [
        "%matplotlib inline"
      ]
    },
    {
      "cell_type": "markdown",
      "metadata": {},
      "source": [
        "\n# Visualise Hierarchical Netlist\n\nThis example demostrates how to generate a feedthrough wire connection for\na given scalar or vector wires.\n\n\n<img src=\"file://../../../examples/basic/_initial_design.html\" width=\"0px\" class=\"hidden\">\n\n.. raw:: html\n\n    <iframe width=\"100%\" height=\"400\" scrolling=\"no\" frameBorder=\"1\"\n    src=\"/_images/_initial_design.html\"></iframe>\n\n\n`Open schematic in separate window </_images/_initial_design.html>`_\n\nThe renderer is used from this project `Nic30/d3-hwschematic <https://github.com/Nic30/d3-hwschematic>`_\n"
      ]
    },
    {
      "cell_type": "code",
      "execution_count": null,
      "metadata": {
        "collapsed": false
      },
      "outputs": [],
      "source": [
        "from os import path\nimport spydrnet as sdn\nimport spydrnet_physical as sdnphy\nfrom spydrnet_physical.composers.html.composer import HTMLComposer\n\nnetlist = sdnphy.load_netlist_by_name('basic_hierarchy')\n\ntop = netlist.top_instance.reference\nsdn.compose(netlist, '_initial_design.v', skip_constraints=True)\n\ncomposer = HTMLComposer()\ncomposer.run(netlist, file_out=\"_initial_design.html\")"
      ]
    }
  ],
  "metadata": {
    "kernelspec": {
      "display_name": "Python 3",
      "language": "python",
      "name": "python3"
    },
    "language_info": {
      "codemirror_mode": {
        "name": "ipython",
        "version": 3
      },
      "file_extension": ".py",
      "mimetype": "text/x-python",
      "name": "python",
      "nbconvert_exporter": "python",
      "pygments_lexer": "ipython3",
      "version": "3.8.10"
    }
  },
  "nbformat": 4,
  "nbformat_minor": 0
}