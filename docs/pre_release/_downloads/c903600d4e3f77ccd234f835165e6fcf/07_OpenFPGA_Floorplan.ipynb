{
  "cells": [
    {
      "cell_type": "code",
      "execution_count": null,
      "metadata": {
        "collapsed": false
      },
      "outputs": [],
      "source": [
        "%matplotlib inline"
      ]
    },
    {
      "cell_type": "markdown",
      "metadata": {},
      "source": [
        "\n# Render Placement information from Verilog netlist\n\nThis example demonstate how to render FPGA Tile using ``FloorPlanViz`` class\nUser can provide external script to render tiles, by default the rendering is\nbased on ``initial_placement`` class.\n\nThis script can be used for shaping and placement of the modules before place and route.\n"
      ]
    },
    {
      "cell_type": "code",
      "execution_count": null,
      "metadata": {
        "collapsed": false
      },
      "outputs": [],
      "source": [
        "# .. image:: ../../../../examples/OpenFPGA/basic/_design_floorplan.svg\n#    :width: 70%\n#    :align: center\n\nimport glob\nimport logging\nimport os\nimport tempfile\n\nimport spydrnet as sdn\nfrom spydrnet_physical.util import OpenFPGA, openfpga_floorplan\nfrom spydrnet_physical.util.get_floorplan import FloorPlanViz\n\nlogger = logging.getLogger('spydrnet_logs')\nsdn.enable_file_logging(LOG_LEVEL='INFO')\n\nPROP = \"VERILOG.InlineConstraints\"\n\n\nCBX_COLOR = '#ceefe4'\nCBY_COLOR = '#a8d0db'\nSB_COLOR = '#ceefe4'\nGRID_COLOR = '#f4f0e6'\n\n\ndef main():\n    return\n    proj = \"../homogeneous_fabric\"\n    source_files = glob.glob(f'{proj}/*_Verilog/lb/*.v')\n    source_files += glob.glob(f'{proj}/*_Verilog/routing/*.v')\n    source_files += glob.glob(f'{proj}/*_Verilog/sub_module/*.v')\n    source_files += glob.glob(f'{proj}/*_Verilog/fpga_top.v')\n\n    # Temporary fix to read multiple verilog files\n    with tempfile.NamedTemporaryFile(suffix=\".v\") as fp:\n        for eachV in source_files:\n            with open(eachV, \"r\") as fpv:\n                fp.write(str.encode(\" \".join(fpv.readlines())))\n        fp.seek(0)\n        netlist = sdn.parse(fp.name)\n\n    fpga = OpenFPGA(grid=(4, 4), netlist=netlist)\n\n    # Convert wires to bus structure\n    fpga.create_grid_clb_bus()\n    fpga.create_grid_io_bus()\n    fpga.create_sb_bus()\n    fpga.create_cb_bus()\n    fpga.merge_all_grid_ios()\n\n    # = = = = = = = = = = = = = = = = = = = = = = = = = = = = = =\n    #           Floorplan visualization\n    # = = = = = = = = = = = = = = = = = = = = = = = = = = = = = =\n    fpga.register_placement_creator(openfpga_floorplan)\n    fpga.create_placement()\n\n    # = = = = = = = = = = = = = = = = = = = = = = = = = = = = = =\n    fpga.show_placement_data(\"*_0__*\")\n    fpga.design_top_stat()\n\n    fp = FloorPlanViz(fpga.top_module)\n    fp.compose(skip_connections=True, skip_pins=True)\n    dwg = fp.get_svg()\n    dwg.saveas(\"_openfpga_floorplan.svg\", pretty=True, indent=4)\n\n\nif __name__ == \"__main__\":\n    main()"
      ]
    }
  ],
  "metadata": {
    "kernelspec": {
      "display_name": "Python 3",
      "language": "python",
      "name": "python3"
    },
    "language_info": {
      "codemirror_mode": {
        "name": "ipython",
        "version": 3
      },
      "file_extension": ".py",
      "mimetype": "text/x-python",
      "name": "python",
      "nbconvert_exporter": "python",
      "pygments_lexer": "ipython3",
      "version": "3.8.10"
    }
  },
  "nbformat": 4,
  "nbformat_minor": 0
}