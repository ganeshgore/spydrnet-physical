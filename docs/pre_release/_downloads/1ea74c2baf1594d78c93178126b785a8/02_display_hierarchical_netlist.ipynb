{
  "cells": [
    {
      "cell_type": "code",
      "execution_count": null,
      "metadata": {
        "collapsed": false
      },
      "outputs": [],
      "source": [
        "%matplotlib inline"
      ]
    },
    {
      "cell_type": "markdown",
      "metadata": {},
      "source": [
        "\n# Visualise Hierarchical Netlist\n\n\nThis example demonstrates how to visualize a netlist\nIn SVG format, which uses Yosys and netlist SVG to render\nInteractive viewer, which render hierarchical SVG using the `d3-hwschematic` project\n\n<img src=\"file://../auto_sample_verilog/basic_hierarchy.svg\" align=\"center\">\n\n.. rst-class:: hidden\n\n<img src=\"file://../../../examples/basic/_initial_design.html\" align=\"center\">\n\n.. raw:: html\n\n    <iframe width=\"100%\" height=\"400\" scrolling=\"no\" frameBorder=\"1\"\n    src=\"/_images/_initial_design.html\"></iframe>\n\n\n[Open schematic in separate window](/_images/_initial_design.html)\n\nThe renderer is used from this project [Nic30/d3-hwschematic](https://github.com/Nic30/d3-hwschematic)\n"
      ]
    },
    {
      "cell_type": "code",
      "execution_count": null,
      "metadata": {
        "collapsed": false
      },
      "outputs": [],
      "source": [
        "import spydrnet_physical as sdnphy\nfrom spydrnet_physical.composers.html.composer import HTMLComposer\nfrom spydrnet_physical.composers.svg.composer import SVGComposer\n\nnetlist = sdnphy.load_netlist_by_name('basic_hierarchy')\n\n# Export netlist in SVG format, single level\ncomposer = SVGComposer()\ncomposer.run(netlist, file_out=\"_initial_design.svg\")\n\n# Export hierarchical netlist in HTML format\ncomposer = HTMLComposer()\ncomposer.run(netlist, file_out=\"_initial_design.html\")"
      ]
    }
  ],
  "metadata": {
    "kernelspec": {
      "display_name": "Python 3",
      "language": "python",
      "name": "python3"
    },
    "language_info": {
      "codemirror_mode": {
        "name": "ipython",
        "version": 3
      },
      "file_extension": ".py",
      "mimetype": "text/x-python",
      "name": "python",
      "nbconvert_exporter": "python",
      "pygments_lexer": "ipython3",
      "version": "3.8.10"
    }
  },
  "nbformat": 4,
  "nbformat_minor": 0
}