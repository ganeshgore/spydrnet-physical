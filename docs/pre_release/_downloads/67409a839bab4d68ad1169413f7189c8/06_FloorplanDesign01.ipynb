{
  "cells": [
    {
      "cell_type": "code",
      "execution_count": null,
      "metadata": {
        "collapsed": false
      },
      "outputs": [],
      "source": [
        "%matplotlib inline"
      ]
    },
    {
      "cell_type": "markdown",
      "metadata": {},
      "source": [
        "\n# Render Placement information from Verilog netlist\n\nThis example demonstate how to render FPGA Tile using ``FloorPlanViz`` class\nUser can provide external script to render tiles, by default the rendering is\nbased on ``initial_placement`` class.\n\nThis script can be used for shaping and placement of the modules before place and route.\n\n<img src=\"file://../../../../examples/OpenFPGA/basic/_design_floorplan.svg\" width=\"70%\" align=\"center\">\n"
      ]
    },
    {
      "cell_type": "code",
      "execution_count": null,
      "metadata": {
        "collapsed": false
      },
      "outputs": [],
      "source": [
        "import glob\nimport logging\nimport os\nimport tempfile\n\nimport spydrnet as sdn\nfrom spydrnet_physical.util import OpenFPGA, initial_placement\nfrom spydrnet_physical.util.get_floorplan import FloorPlanViz\n\nlogger = logging.getLogger('spydrnet_logs')\nsdn.enable_file_logging(LOG_LEVEL='INFO')\n\nPROP = \"VERILOG.InlineConstraints\"\n\n\nCBX_COLOR = '#ceefe4'\nCBY_COLOR = '#a8d0db'\nSB_COLOR = '#ceefe4'\nGRID_COLOR = '#f4f0e6'\n\n\ndef main():\n    proj = \"../homogeneous_fabric\"\n    source_files = glob.glob(f'{proj}/*_Verilog/lb/*.v')\n    source_files += glob.glob(f'{proj}/*_Verilog/routing/*.v')\n    source_files += glob.glob(f'{proj}/*_Verilog/sub_module/*.v')\n    source_files += glob.glob(f'{proj}/*_Verilog/fpga_top.v')\n\n    # Temporary fix to read multiple verilog files\n    with tempfile.NamedTemporaryFile(suffix=\".v\") as fp:\n        for eachV in source_files:\n            with open(eachV, \"r\") as fpv:\n                fp.write(str.encode(\" \".join(fpv.readlines())))\n        fp.seek(0)\n        netlist = sdn.parse(fp.name)\n\n    fpga = OpenFPGA(grid=(4, 4), netlist=netlist)\n\n    # Convert wires to bus structure\n    fpga.create_grid_clb_bus()\n    fpga.create_grid_io_bus()\n    fpga.create_sb_bus()\n    fpga.create_cb_bus()\n    fpga.merge_all_grid_ios()\n\n    # = = = = = = = = = = = = = = = = = = = = = = = = = = = = = =\n    #           Floorplan visualization\n    # = = = = = = = = = = = = = = = = = = = = = = = = = = = = = =\n    fpga.register_placement_creator(initial_placement,\n                                    areaFile='area_info.txt')\n    fpga.create_placement()\n\n    # = = = = = = = = = = = = = = = = = = = = = = = = = = = = = =\n    #           Adjust Floorplan\n    # = = = = = = = = = = = = = = = = = = = = = = = = = = = = = =\n    cbx11: sdn.Definition = next(fpga.top_module.get_definitions(\"cbx_1__1_\"))\n    cbx11.data[PROP][\"HEIGHT\"] = 100\n    cbx11.data[PROP][\"WIDTH\"] = 200\n    cbx11.data[PROP][\"COLOR\"] = CBX_COLOR\n\n    cby11: sdn.Definition = next(fpga.top_module.get_definitions(\"cby_1__1_\"))\n    cby11.data[PROP][\"HEIGHT\"] = 200\n    cby11.data[PROP][\"WIDTH\"] = 100\n    cby11.data[PROP][\"COLOR\"] = CBY_COLOR\n\n    sb11: sdn.Definition = next(fpga.top_module.get_definitions(\"sb_1__1_\"))\n    sb11.data[PROP][\"SHAPE\"] = 'RectL'\n    sb11.data[PROP][\"POINTS\"] = [100, 50, 50, 100, 50, 50]\n    sb11.data[PROP][\"COLOR\"] = SB_COLOR\n\n    clb: sdn.Definition = next(fpga.top_module.get_definitions(\"grid_clb\"))\n    clb.data[PROP][\"HEIGHT\"] = 300\n    clb.data[PROP][\"WIDTH\"] = 300\n    clb.data[PROP][\"COLOR\"] = GRID_COLOR\n\n    for each in fpga.top_module.get_instances():\n        if each.reference is cbx11:\n            print(each.data[PROP])\n            each.data[PROP][\"LOC_X\"] += 0\n            each.data[PROP][\"LOC_Y\"] += 50\n        if each.reference is cby11:\n            print(each.data[PROP])\n            each.data[PROP][\"LOC_X\"] += 50\n            each.data[PROP][\"LOC_Y\"] += 0\n        if each.reference is clb:\n            print(each.data[PROP])\n            each.data[PROP][\"LOC_X\"] -= 50\n            each.data[PROP][\"LOC_Y\"] -= 50\n\n    # = = = = = = = = = = = = = = = = = = = = = = = = = = = = = =\n    fpga.show_placement_data(\"*_0__*\")\n    fpga.design_top_stat()\n\n    fp = FloorPlanViz(fpga.top_module)\n    fp.compose(skip_connections=True, skip_pins=True)\n    dwg = fp.get_svg()\n    dwg.saveas(\"_design_floorplan.svg\", pretty=True, indent=4)\n\n\nif __name__ == \"__main__\":\n    main()"
      ]
    }
  ],
  "metadata": {
    "kernelspec": {
      "display_name": "Python 3",
      "language": "python",
      "name": "python3"
    },
    "language_info": {
      "codemirror_mode": {
        "name": "ipython",
        "version": 3
      },
      "file_extension": ".py",
      "mimetype": "text/x-python",
      "name": "python",
      "nbconvert_exporter": "python",
      "pygments_lexer": "ipython3",
      "version": "3.8.10"
    }
  },
  "nbformat": 4,
  "nbformat_minor": 0
}