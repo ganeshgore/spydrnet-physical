{
  "cells": [
    {
      "cell_type": "code",
      "execution_count": null,
      "metadata": {
        "collapsed": false
      },
      "outputs": [],
      "source": [
        "%matplotlib inline"
      ]
    },
    {
      "cell_type": "markdown",
      "metadata": {},
      "source": [
        "\n# Placement aware instace merge operation\n\nThis example demonstrate how a instance merge operation on pre placed instances\nresults in auto inferences of shape and placement of newly created module.\n\n## Output\n\n**Before merging**\n\n<img src=\"file://../../../examples/OpenFPGA_rendering/_merge_multiple_floorplan_before.svg\" width=\"400px\">\n\n**After merging**\n\n<img src=\"file://../../../examples/OpenFPGA_rendering/_merge_multiple_floorplan.svg\" width=\"400px\">\n"
      ]
    },
    {
      "cell_type": "code",
      "execution_count": null,
      "metadata": {
        "collapsed": false
      },
      "outputs": [],
      "source": [
        "import logging\n\nimport spydrnet as sdn\nimport spydrnet_physical as sdnphy\nfrom spydrnet_physical.util import FloorPlanViz\n\nPROPERTY = \"VERILOG.InlineConstraints\"\n\nlogger = logging.getLogger(\"spydrnet_logs\")\nsdn.enable_file_logging(LOG_LEVEL=\"DEBUG\", filename=\"01_floorplan_rendering\")\n\nnetlist = sdnphy.load_netlist_by_name(\"basic_hierarchy\")\ntop = netlist.top_instance.reference\n\nmodule1 = next(netlist.get_definitions(\"module1\"))\nmodule2 = next(netlist.get_definitions(\"module2\"))\n\ninst_1_0 = next(top.get_instances(\"inst_1_0\"))\ninst_1_1 = next(top.get_instances(\"inst_1_1\"))\n\ninst_2_0 = next(top.get_instances(\"inst_2_0\"))\ninst_2_1 = next(top.get_instances(\"inst_2_1\"))\n\n\n# = = = = = = = = = = = = = = = = = = = = = = = = = = = = = = = = = =\n#         Set the WIDTH HEIGHT on the defition\n# = = = = = = = = = = = = = = = = = = = = = = = = = = = = = = = = = =\n\ntop.properties[\"WIDTH\"] = 250\ntop.properties[\"HEIGHT\"] = 300\n\nmodule1.properties[\"SHAPE\"] = \"cross\"  # cross Shape\nmodule1.properties[\"POINTS\"] = [40, 0, 40, 40, 40, 0]  # A, B, C, D , E, F\n\nmodule2.properties[\"SHAPE\"] = \"rect\"\nmodule2.properties[\"WIDTH\"] = 60\nmodule2.properties[\"HEIGHT\"] = 40\n\n# = = = = = = = = = = = = = = = = = = = = = = = = = = = = = = = = = =\n#         Set the LOC_X, LOC_Y on all the instances\n# = = = = = = = = = = = = = = = = = = = = = = = = = = = = = = = = = =\n\ninst_1_0.properties[\"LOC_X\"] = 50\ninst_1_0.properties[\"LOC_Y\"] = 20\n\ninst_2_0.properties[\"LOC_X\"] = 130\ninst_2_0.properties[\"LOC_Y\"] = 20\n\ninst_1_1.properties[\"LOC_X\"] = 50\ninst_1_1.properties[\"LOC_Y\"] = 170\n\ninst_2_1.properties[\"LOC_X\"] = 130\ninst_2_1.properties[\"LOC_Y\"] = 170\n\n\nfp = FloorPlanViz(top)\nfp.compose(skip_connections=True)\ndwg = fp.get_svg()\ndwg.saveas(\"_merge_multiple_floorplan_before.svg\", pretty=True, indent=4)\n\n\nmain_def, instance_list = top.merge_multiple_instance(\n    [\n        ((inst_1_0, inst_2_0), \"merged_inst_2_0\"),\n        ((inst_1_1, inst_2_1), \"merged_inst_2_1\"),\n    ],\n    new_definition_name=\"NewModule\",\n)\n\nfp = FloorPlanViz(top)\nfp.compose(skip_connections=True)\ndwg = fp.get_svg()\ndwg.saveas(\"_merge_multiple_floorplan.svg\", pretty=True, indent=4)"
      ]
    }
  ],
  "metadata": {
    "kernelspec": {
      "display_name": "Python 3",
      "language": "python",
      "name": "python3"
    },
    "language_info": {
      "codemirror_mode": {
        "name": "ipython",
        "version": 3
      },
      "file_extension": ".py",
      "mimetype": "text/x-python",
      "name": "python",
      "nbconvert_exporter": "python",
      "pygments_lexer": "ipython3",
      "version": "3.8.10"
    }
  },
  "nbformat": 4,
  "nbformat_minor": 0
}