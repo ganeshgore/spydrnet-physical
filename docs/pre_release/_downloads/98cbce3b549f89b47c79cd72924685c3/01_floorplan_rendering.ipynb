{
  "cells": [
    {
      "cell_type": "code",
      "execution_count": null,
      "metadata": {
        "collapsed": false
      },
      "outputs": [],
      "source": [
        "%matplotlib inline"
      ]
    },
    {
      "cell_type": "markdown",
      "metadata": {},
      "source": [
        "\n# Demonstrate how to render basic floorplan\n\nProperties on different objects\n\n**On Definitions**\nWIDTH and HEIGHT = The rectangular dimension of the module\n\n**On Instances**:\nLOC_X and LOC_Y = Location of the component with respect to its parrent\n\n**On Ports**:\n_SIDE      : On whihc side the port is placed [left/right/bottom/top]\n_OFFSET    : Offset from the origin of that side, Considering clockwise direction\nfirst point on respective side is considered as origin\n\n\nDownload final annotated verilog netlist:\n:download:`_annotate_netlist.v <../../../../examples/OpenFPGA/rendering/_annotate_netlist.v>`\n\n<img src=\"file://../../../../examples/OpenFPGA/rendering/_basic_hierarchy_floorplan.svg\" width=\"500px\">\n"
      ]
    },
    {
      "cell_type": "code",
      "execution_count": null,
      "metadata": {
        "collapsed": false
      },
      "outputs": [],
      "source": [
        "import logging\nfrom os import path\nfrom pprint import pprint\n\nimport spydrnet as sdn\nimport spydrnet_physical as sdnphy\nfrom spydrnet_physical.util.get_floorplan import FloorPlanViz\n\nPROPERTY = \"VERILOG.InlineConstraints\"\n\nlogger = logging.getLogger('spydrnet_logs')\nsdn.enable_file_logging(LOG_LEVEL='DEBUG', filename=\"01_floorplan_rendering\")\n\nnetlist = sdnphy.load_netlist_by_name('basic_hierarchy')\ntop = netlist.top_instance.reference\n\nmodule1 = next(netlist.get_definitions(\"module1\"))\nmodule2 = next(netlist.get_definitions(\"module2\"))\n\ninst_1_0 = next(top.get_instances(\"inst_1_0\"))\ninst_1_1 = next(top.get_instances(\"inst_1_1\"))\n\ninst_2_0 = next(top.get_instances(\"inst_2_0\"))\ninst_2_1 = next(top.get_instances(\"inst_2_1\"))\n\ntop.properties[\"WIDTH\"] = \"250\"\ntop.properties[\"HEIGHT\"] = \"250\"\n\ninst_1_0.properties[\"LOC_X\"] = \"50\"\ninst_1_0.properties[\"LOC_Y\"] = \"50\"\n\ninst_1_1.properties[\"LOC_X\"] = \"50\"\ninst_1_1.properties[\"LOC_Y\"] = \"150\"\n\ninst_2_0.properties[\"LOC_X\"] = \"150\"\ninst_2_0.properties[\"LOC_Y\"] = \"50\"\n\ninst_2_1.properties[\"LOC_X\"] = \"150\"\ninst_2_1.properties[\"LOC_Y\"] = \"150\"\n\n\nnext(top.get_ports(\"in0\")).properties[\"SIDE\"] = \"left\"\nnext(top.get_ports(\"in0\")).properties[\"OFFSET\"] = \"10\"\n\nnext(top.get_ports(\"in1\")).properties[\"SIDE\"] = \"left\"\nnext(top.get_ports(\"in1\")).properties[\"OFFSET\"] = \"30\"\n\nnext(top.get_ports(\"bus_in\")).properties[\"SIDE\"] = \"left\"\nnext(top.get_ports(\"bus_in\")).properties[\"OFFSET\"] = \"50\"\n\nnext(top.get_ports(\"out0\")).properties[\"SIDE\"] = \"right\"\nnext(top.get_ports(\"out0\")).properties[\"OFFSET\"] = \"20\"\n\nnext(top.get_ports(\"bus_out\")).properties[\"SIDE\"] = \"right\"\nnext(top.get_ports(\"bus_out\")).properties[\"OFFSET\"] = \"40\"\n\nnext(module1.get_ports(\"in0\")).properties[\"SIDE\"] = \"left\"\nnext(module1.get_ports(\"in0\")).properties[\"OFFSET\"] = \"10\"\n\nnext(module1.get_ports(\"in1\")).properties[\"SIDE\"] = \"left\"\nnext(module1.get_ports(\"in1\")).properties[\"OFFSET\"] = \"30\"\n\nnext(module1.get_ports(\"out\")).properties[\"SIDE\"] = \"right\"\nnext(module1.get_ports(\"out\")).properties[\"OFFSET\"] = \"20\"\n\nnext(module2.get_ports(\"in0\")).properties[\"SIDE\"] = \"left\"\nnext(module2.get_ports(\"in0\")).properties[\"OFFSET\"] = \"10\"\n\nnext(module2.get_ports(\"in1\")).properties[\"SIDE\"] = \"left\"\nnext(module2.get_ports(\"in1\")).properties[\"OFFSET\"] = \"30\"\n\nnext(module2.get_ports(\"out\")).properties[\"SIDE\"] = \"right\"\nnext(module2.get_ports(\"out\")).properties[\"OFFSET\"] = \"20\"\n\nfp = FloorPlanViz(top)\nfp.compose()\ndwg = fp.get_svg()\ndwg.saveas(\"_basic_hierarchy_floorplan.svg\", pretty=True, indent=4)\n\nsdn.compose(netlist, '_annotate_netlist.v')"
      ]
    }
  ],
  "metadata": {
    "kernelspec": {
      "display_name": "Python 3",
      "language": "python",
      "name": "python3"
    },
    "language_info": {
      "codemirror_mode": {
        "name": "ipython",
        "version": 3
      },
      "file_extension": ".py",
      "mimetype": "text/x-python",
      "name": "python",
      "nbconvert_exporter": "python",
      "pygments_lexer": "ipython3",
      "version": "3.8.10"
    }
  },
  "nbformat": 4,
  "nbformat_minor": 0
}