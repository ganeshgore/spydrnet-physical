{
  "cells": [
    {
      "cell_type": "code",
      "execution_count": null,
      "metadata": {
        "collapsed": false
      },
      "outputs": [],
      "source": [
        "%matplotlib inline"
      ]
    },
    {
      "cell_type": "markdown",
      "metadata": {},
      "source": [
        "\n# Renaming Homogeneous FPGA Modules\n\nDemonstrates how to rename FPGA modules\n"
      ]
    },
    {
      "cell_type": "code",
      "execution_count": null,
      "metadata": {
        "collapsed": false
      },
      "outputs": [],
      "source": [
        "from glob import glob\nimport logging\n\nimport spydrnet as sdn\nfrom spydrnet_physical.util import OpenFPGA\n\nlogger = logging.getLogger('spydrnet_logs')\nsdn.enable_file_logging(LOG_LEVEL='INFO')\n\n\nproj = \"../homogeneous_fabric\"\nsource_files = glob(f'{proj}/*_Verilog/lb/*.v')\nsource_files += glob(f'{proj}/*_Verilog/routing/*.v')\nsource_files += glob(f'{proj}/*_Verilog/sub_module/*.v')\nsource_files += glob(f'{proj}/*_Verilog/fpga_top.v')\n\n# Create OpenFPGA object\nfpga = OpenFPGA(grid=(4, 4), verilog_files=source_files)\nfpga.design_top_stat(filename=\"_before_rename.txt\")\n\n# = = = = = = = = = = = = = = = = = = = = = = = = = = = = = =\n#           Renaming Module\n# = = = = = = = = = = = = = = = = = = = = = = = = = = = = = =\nrename_modules_map = {\n    \"grid_clb\": \"logic_block\",\n    \"cbx_1__1_\": \"h_conn\",\n    \"cby_1__1_\": \"v_conn\"\n}\nfor each_module, new_name in rename_modules_map.items():\n    next(fpga.top_module.get_definitions(each_module)).name = new_name\n\nfpga.design_top_stat(filename=\"_after_rename.txt\")"
      ]
    },
    {
      "cell_type": "markdown",
      "metadata": {},
      "source": [
        "**Output**\n\n**before_rename**\n\n.. literalinclude:: ../../../examples/OpenFPGA_basic/_before_rename.txt\n\n**after_rename**\n\n.. literalinclude:: ../../../examples/OpenFPGA_basic/_after_rename.txt\n\n"
      ]
    }
  ],
  "metadata": {
    "kernelspec": {
      "display_name": "Python 3",
      "language": "python",
      "name": "python3"
    },
    "language_info": {
      "codemirror_mode": {
        "name": "ipython",
        "version": 3
      },
      "file_extension": ".py",
      "mimetype": "text/x-python",
      "name": "python",
      "nbconvert_exporter": "python",
      "pygments_lexer": "ipython3",
      "version": "3.8.10"
    }
  },
  "nbformat": 4,
  "nbformat_minor": 0
}