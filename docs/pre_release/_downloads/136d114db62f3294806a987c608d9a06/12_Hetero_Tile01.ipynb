{
  "cells": [
    {
      "cell_type": "code",
      "execution_count": null,
      "metadata": {
        "collapsed": false
      },
      "outputs": [],
      "source": [
        "%matplotlib inline"
      ]
    },
    {
      "cell_type": "markdown",
      "metadata": {},
      "source": [
        "\n# Floorplanning Classic Tiles for hetergeneous design\n\nThis example demonstate how to render FPGA Tile using ``FloorPlanViz`` class\nUser can provide external script to render tiles, by default the rendering is\nbased on ``initial_hetero_placement`` class.\n\nThis script can be used for shaping and placement of the modules before place and route.\n\n<img src=\"file://../../../examples/OpenFPGA_tiling/_classic_tile_hetero_floorplan.svg\" width=\"70%\" align=\"center\">\n"
      ]
    },
    {
      "cell_type": "code",
      "execution_count": null,
      "metadata": {
        "collapsed": false
      },
      "outputs": [],
      "source": [
        "import glob\nimport logging\nimport os\nimport tempfile\nfrom itertools import chain\n\nimport spydrnet as sdn\nfrom spydrnet_physical.util import (\n    FloorPlanViz,\n    FPGAGridGen,\n    Tile02,\n    GridFloorplanGen,\n    OpenFPGA,\n)\n\nlogger = logging.getLogger(\"spydrnet_logs\")\nsdn.enable_file_logging(LOG_LEVEL=\"INFO\")\n\nPROP = \"VERILOG.InlineConstraints\"\n\n\nCBX_COLOR = \"#d9d9f3\"\nCBY_COLOR = \"#a8d0db\"\nSB_COLOR = \"#ceefe4\"\nGRID_COLOR = \"#ddd0b1\"\n\n\ndef main():\n    proj = \"../heterogeneous_fabric\"\n    source_files = glob.glob(f\"{proj}/*_Verilog/lb/*.v\")\n    source_files += glob.glob(f\"{proj}/*_Verilog/routing/*.v\")\n    source_files += glob.glob(f\"{proj}/*_Verilog/sub_module/*.v\")\n    source_files += glob.glob(f\"{proj}/*_Verilog/fpga_top.v\")\n\n    # Create OpenFPGA object\n    fpga = OpenFPGA(grid=(4, 4), verilog_files=source_files)\n\n    # Convert wires to bus structure\n    fpga.create_grid_clb_bus()\n    fpga.create_grid_io_bus()\n    fpga.create_sb_bus()\n    fpga.create_cb_bus()\n    fpga.merge_all_grid_ios()\n\n    # Convert top level independent nets to bus\n    for i in chain(\n        fpga.top_module.get_instances(\"grid_clb*\"),\n        fpga.top_module.get_instances(\"grid_io*\"),\n        fpga.top_module.get_instances(\"sb_*\"),\n    ):\n        for p in filter(lambda x: True, i.reference.ports):\n            if p.size > 1 and (i.check_all_scalar_connections(p)):\n                cable_list = []\n                for pin in p.pins[::-1]:\n                    cable_list.append(i.pins[pin].wire.cable)\n                cable = fpga.top_module.combine_cables(f\"{i.name}_{p.name}\", cable_list)\n                cable.is_downto = False\n\n    fpga.design_top_stat()\n\n    # Create Tile-02 structure\n    fpga.register_tile_generator(Tile02)\n    fpga.create_tiles()\n\n    fpga.design_top_stat()\n\n\nif __name__ == \"__main__\":\n    main()"
      ]
    }
  ],
  "metadata": {
    "kernelspec": {
      "display_name": "Python 3",
      "language": "python",
      "name": "python3"
    },
    "language_info": {
      "codemirror_mode": {
        "name": "ipython",
        "version": 3
      },
      "file_extension": ".py",
      "mimetype": "text/x-python",
      "name": "python",
      "nbconvert_exporter": "python",
      "pygments_lexer": "ipython3",
      "version": "3.8.10"
    }
  },
  "nbformat": 4,
  "nbformat_minor": 0
}