{
  "cells": [
    {
      "cell_type": "code",
      "execution_count": null,
      "metadata": {
        "collapsed": false
      },
      "outputs": [],
      "source": [
        "%matplotlib inline"
      ]
    },
    {
      "cell_type": "markdown",
      "metadata": {},
      "source": [
        "\n# OpenFPGA architecture parsing\n\nThis example demonstrates the ``OpenFPGA_Arch`` class which parses the\n`VPR` and `OpenFPGA` Architecture file and provides logical information.\n"
      ]
    },
    {
      "cell_type": "code",
      "execution_count": null,
      "metadata": {
        "collapsed": false
      },
      "outputs": [],
      "source": [
        "import os\nimport logging\nimport spydrnet as sdn\nfrom spydrnet_physical.util import OpenFPGA_Arch\n\n# Enable output logging\nlogger = logging.getLogger(\"spydrnet_logs\")\nsdn.enable_file_logging(LOG_LEVEL=\"INFO\", filename=\"01_fpga_arch_parse\")\n\n# Read OpenFPGA and VPR architectue file\ntask_dir = (\"..\", \"homogeneous_fabric\", \"FPGA44_Task\")\nvpr_arch = os.path.join(*task_dir, \"arch\", \"k6_N10_tileable.xml\")\nopenfpga_arch = os.path.join(*task_dir, \"arch\", \"k6_N10_openfpga.xml\")\nfpga_arch = OpenFPGA_Arch(vpr_arch, openfpga_arch, layout=\"4x4\")\n\n# Print avaialble layouts and pb_types in the file\nlogger.info(fpga_arch.get_layouts())\nlogger.info(fpga_arch.pb_types)\n# logger.info(fpga_arch.is_homogeneous())"
      ]
    },
    {
      "cell_type": "markdown",
      "metadata": {},
      "source": [
        "## Output\n\n.. literalinclude:: ../../../examples/OpenFPGA_basic/_01_fpga_arch_parse_spydrnet.log\n\n\n\n"
      ]
    }
  ],
  "metadata": {
    "kernelspec": {
      "display_name": "Python 3",
      "language": "python",
      "name": "python3"
    },
    "language_info": {
      "codemirror_mode": {
        "name": "ipython",
        "version": 3
      },
      "file_extension": ".py",
      "mimetype": "text/x-python",
      "name": "python",
      "nbconvert_exporter": "python",
      "pygments_lexer": "ipython3",
      "version": "3.8.10"
    }
  },
  "nbformat": 4,
  "nbformat_minor": 0
}