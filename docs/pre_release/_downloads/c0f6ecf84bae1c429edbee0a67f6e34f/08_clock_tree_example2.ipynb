{
  "cells": [
    {
      "cell_type": "code",
      "execution_count": null,
      "metadata": {
        "collapsed": false
      },
      "outputs": [],
      "source": [
        "%matplotlib inline"
      ]
    },
    {
      "cell_type": "markdown",
      "metadata": {},
      "source": [
        "\n# Clock tree insertion Example Architecture 2\n\n16x24 rectangular homogeneous fabric design\n\n<img src=\"file://../../../examples/OpenFPGA_clock_tree/_clock_tree_example_arch_02.svg\" width=\"500px\" align=\"center\">\n"
      ]
    },
    {
      "cell_type": "code",
      "execution_count": null,
      "metadata": {
        "collapsed": false
      },
      "outputs": [],
      "source": [
        "import spydrnet as sdn\nfrom svgwrite.container import Group\nfrom spydrnet_physical.util import ConnectionPattern, ConnectPointList\nfrom copy import deepcopy\n\nWIDTH = 49\nHEIGHT = 33\nlevel0_pmanager = ConnectionPattern(WIDTH, HEIGHT)\nlevel0_patt = level0_pmanager.connections\nlevel1_pmanager = ConnectionPattern(WIDTH, HEIGHT)\nlevel1_patt = level1_pmanager.connections\nlevel2_pmanager = ConnectionPattern(WIDTH, HEIGHT)\nlevel2_patt = level2_pmanager.connections\nlevel3_pmanager = ConnectionPattern(WIDTH, HEIGHT)\nlevel3_patt = level3_pmanager.connections\nlevel3_patt.cursor = (int(WIDTH/2)+1, 0)\nlevel3_patt.move_y(steps=int(HEIGHT/2)+1)\nlevel3_patt.merge(level3_pmanager.get_htree(WIDTH).translate(0, -8))\nlevel3_patt.set_color('red')\n# = = = = = = = = = = = = = = = = = = = = = = = = = = = = = = = = = = = =\n#  Create clock connectivity pattern\n# = = = = = = = = = = = = = = = = = = = = = = = = = = = = = = = = = = = =\nfor x in range(int(WIDTH/4)+1, WIDTH, int(WIDTH/2)):  # W\n    for y in range(int(HEIGHT/6), HEIGHT, int(HEIGHT/2)+8):\n        level2_patt.merge(level3_pmanager.get_htree(int(WIDTH/2)).\n                          translate(x-int(WIDTH/4), y-int(WIDTH/4)))\n# = = = = = = = = = = = = = = = = = = = = = = = = = = = = = = = = = = = =\n\nfor x in range(int(WIDTH/8)+1, WIDTH, int(WIDTH/4)):  # W\n    for y in range(int(HEIGHT/3), HEIGHT, int(HEIGHT/3)+1):\n        level1_patt.merge(level3_pmanager.get_htree(int(WIDTH/4)).\n                          translate(x-int(WIDTH/8), y-int(WIDTH/8)))\n# = = = = = = = = = = = = = = = = = = = = = = = = = = = = = = = = = = = =\nfor x in range(int(WIDTH/10), WIDTH, int(WIDTH/8)):  # W\n    for y in range(int(HEIGHT/4), HEIGHT-4, int(HEIGHT/6)+1):\n        level0_patt.merge(level3_pmanager.get_htree(int(WIDTH/6)).\n                          translate(x-int(WIDTH/10), y-int(WIDTH/10)))\n# = = = = = = = = = = = = = = = = = = = = = = = = = = = = = = = = = = = =\n\npts = ConnectPointList(5, 5)\npts.cursor = (3, 0)\npts.move_y(steps=2)\npts.hold_cursor()\npts.move_x(2).move_x(-2).move_y(3).move_cursor_x(2)\npts.move_y(steps=3)\npts.move_cursor_x(-4)\npts.move_y(steps=3)\npts.release_cursor()\n\nfor x in range(1, WIDTH, 6):\n    for y in [28]:\n        pts_cp = deepcopy(pts)\n        level0_patt.merge(pts_cp.translate(x, y))\n\nfor x in range(1, WIDTH, 6):\n    for y in [6]:\n        pts_cp = deepcopy(pts)\n        pts_cp.flip('v')\n        level0_patt.merge(pts_cp.translate(x, y))\n\n# For connections to the left CBs\nfor y in range(2, HEIGHT, 2):\n    level0_patt.cursor = (2, y)\n    level0_patt.move_x(-1)\n\n# For connections to the right CBs\nfor y in range(2, HEIGHT, 2):\n    level0_patt.cursor = (48, y)\n    level0_patt.move_x(1)\n\n\n# = = = = = = = = = = = = = = = = = = = = = = = = = = = = = = = = = = = =\n\npts2 = ConnectPointList(1, 3)\npts2.cursor = (3, 0)\npts2.move_y(steps=2)\n\n\nfor x in range(1, WIDTH, 6):\n    for y in [14, 26]:\n        pts2_cp = deepcopy(pts2)\n        level0_patt.merge(pts2_cp.translate(x, y))\n\nfor x in range(1, WIDTH, 6):\n    for y in [8, 20]:\n        pts2_cp = deepcopy(pts2)\n        pts2_cp.flip('v')\n        level0_patt.merge(pts2_cp.translate(x, y))\n# = = = = = = = = = = = = = = = = = = = = = = = = = = = = = = = = = = = =\n\nfor x in [10, 16, 34, 40]:\n    for y in [5, 29]:\n        level0_patt.short_through((x, y))\n# = = = = = = = = Pull up and Push down connections= = = = = = = = = = = =\n\nfor x in range(13, WIDTH, 24):\n    for y in range(5, HEIGHT, 24):\n        pt = level3_patt.search_to_point((x, y))\n        if pt:\n            level3_patt.push_connection_down(pt)\n            level2_patt.points.append(deepcopy(pt))\n            level2_patt.pull_connection_up(level2_patt.points[-1])\n\nfor x in range(7, WIDTH, 12):\n    for y in range(11, HEIGHT, 12):\n        pt = level2_patt.search_to_point((x, y))\n        if pt:\n            level2_patt.push_connection_down(pt)\n            level1_patt.points.append(deepcopy(pt))\n            level1_patt.pull_connection_up(level1_patt.points[-1])\n\nfor x in range(4, WIDTH, 6):\n    for y in range(8, HEIGHT-2, 6):\n        pt = level1_patt.search_to_point((x, y))\n        if pt:\n            level1_patt.push_connection_down(pt)\n            level0_patt.points.append(deepcopy(pt))\n            level0_patt.pull_connection_up(level0_patt.points[-1])\n\nlevel0_patt.set_color('brown')\nlevel1_patt.set_color('blue')\nlevel2_patt.set_color('black')\n\nlevel3_patt.merge(level0_patt)\nlevel3_patt.merge(level1_patt)\nlevel3_patt.merge(level2_patt)\n\nlevel3_patt.crop_edges()\nlevel3_patt.trim_borders()\n\nsvg = level3_pmanager.render_pattern(title=\"-\")\nskip_points = [(1, 1), (1, HEIGHT), (WIDTH, 1), (WIDTH, HEIGHT)]\nsink_pts = level3_pmanager.svg_main.add(Group(id=\"sink_pts\"))\nfor y in list(range(2, HEIGHT, 2))+[1, HEIGHT]:\n    for x in list(range(2, WIDTH, 2))+[1, WIDTH]:\n        if not (x, y) in skip_points:\n            sink_pts.add(svg.rect(insert=(x*20-10, y*20-10),\n                                  size=(20, 20), opacity=0.2,\n                                  class_=\"sink_point\"))\nsvg.saveas(\"_clock_tree_example_arch_02.svg\", pretty=True, indent=4)"
      ]
    }
  ],
  "metadata": {
    "kernelspec": {
      "display_name": "Python 3",
      "language": "python",
      "name": "python3"
    },
    "language_info": {
      "codemirror_mode": {
        "name": "ipython",
        "version": 3
      },
      "file_extension": ".py",
      "mimetype": "text/x-python",
      "name": "python",
      "nbconvert_exporter": "python",
      "pygments_lexer": "ipython3",
      "version": "3.8.10"
    }
  },
  "nbformat": 4,
  "nbformat_minor": 0
}