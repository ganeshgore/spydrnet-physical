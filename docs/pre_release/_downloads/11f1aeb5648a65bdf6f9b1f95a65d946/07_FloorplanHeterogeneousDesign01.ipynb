{
  "cells": [
    {
      "cell_type": "code",
      "execution_count": null,
      "metadata": {
        "collapsed": false
      },
      "outputs": [],
      "source": [
        "%matplotlib inline"
      ]
    },
    {
      "cell_type": "markdown",
      "metadata": {},
      "source": [
        "\n# Heterogeneous Design Placement \n\nThis example demonstate how to render FPGA Tile using ``FloorPlanViz`` class\nUser can provide external script to render tiles, by default the rendering is\nbased on ``initial_placement`` class.\n\nThis script can be used for shaping and placement of the modules before place and route.\n\n<img src=\"file://../../../examples/OpenFPGA_basic/_hetero_design_floorplan.svg\" width=\"70%\" align=\"center\">\n"
      ]
    },
    {
      "cell_type": "code",
      "execution_count": null,
      "metadata": {
        "collapsed": false
      },
      "outputs": [],
      "source": [
        "import glob\nimport logging\nimport tempfile\n\nimport spydrnet as sdn\nfrom spydrnet_physical.util import (FloorPlanViz, FPGAGridGen,\n                                    GridFloorplanGen, OpenFPGA,\n                                    initial_placement)\n\nlogger = logging.getLogger('spydrnet_logs')\nsdn.enable_file_logging(LOG_LEVEL='INFO', filename=\"floorplan_heterpgeneous\")\n\n\nPROP = \"VERILOG.InlineConstraints\"\n\n\nCBX_COLOR = '#d9d9f3'\nCBY_COLOR = '#a8d0db'\nSB_COLOR = '#ceefe4'\nGRID_COLOR = '#ddd0b1'\nHETERO_COLOR = '#6E6858'\n\n\ndef main():\n    proj = \"../hetrogeneous_fabric/\"\n    source_files = glob.glob(f'{proj}/*_Verilog/lb/*.v')\n    source_files += glob.glob(f'{proj}/*_Verilog/routing/*.v')\n    source_files += glob.glob(f'{proj}/*_Verilog/sub_module/*.v')\n    source_files += glob.glob(f'{proj}/*_Verilog/fpga_top.v')\n\n    # Temporary fix to read multiple verilog files\n    with tempfile.NamedTemporaryFile(suffix=\".v\") as fp:\n        for eachV in source_files:\n            with open(eachV, \"r\") as fpv:\n                fp.write(str.encode(\" \".join(fpv.readlines())))\n        fp.seek(0)\n        netlist = sdn.parse(fp.name)\n\n    fpga = OpenFPGA(grid=(8, 8), netlist=netlist)\n\n    # Convert wires to bus structure\n    fpga.create_grid_clb_bus()\n    fpga.create_grid_io_bus()\n    fpga.create_sb_bus()\n    fpga.create_cb_bus()\n    fpga.merge_all_grid_ios()\n    fpga.design_top_stat()\n    # = = = = = = = = = = = = = = = = = = = = = = = = = = = = = =\n    #           Floorplan visualization\n    # = = = = = = = = = = = = = = = = = = = = = = = = = = = = = =\n\n    fpga_grid = FPGAGridGen(design_name='FPGA8x8', layout=\"8x8\",\n                            arch_file=f\"{proj}/FPGA88_hetero_Task/arch/k6_N10_tileable.xml\",\n                            release_root=None)\n    fpga_grid.enumerate_grid()\n    fpga.load_grid(fpga_grid)\n\n    # = = = = = = = = = = = = = = = = = = = = = = =\n    #         Shaping Information\n    # = = = = = = = = = = = = = = = = = = = = = = =\n    GRID_X, GRID_Y = 200, 200\n    CLB_W, CLB_H = 140, 140\n    CBX_WIDTH, CBY_HEIGHT = 100, 100\n\n    # Derived varaiable\n    CBY_WIDTH = GRID_X-CLB_W\n    CBX_HEIGHT = GRID_Y-CLB_H\n\n    # Edge blocks dimensions\n    LEFT_CBY_WIDTH, LEFT_CBY_HEIGHT = CBY_WIDTH, CBY_HEIGHT\n    RIGHT_CBY_WIDTH, RIGHT_CBY_HEIGHT = CBY_WIDTH, CBY_HEIGHT\n    TOP_CBX_WIDTH, TOP_CBX_HEIGHT = CBX_WIDTH, CBX_HEIGHT\n    BOTTOM_CBX_WIDTH, BOTTOM_CBX_HEIGHT = CBX_WIDTH, CBX_HEIGHT\n\n    # Margins\n    CLB_MARG_L, CLB_MARG_R, CLB_MARG_T, CLB_MARG_B = 0, 0, 0, 0\n    CBX_MARG_L, CBX_MARG_R, CBX_MARG_T, CBX_MARG_B = 0, 0, 0, 0\n    CBY_MARG_L, CBY_MARG_R, CBY_MARG_T, CBY_MARG_B = 0, 0, 0, 0\n\n    # SB_1__1_ Dimensions\n    a, b, c, d, e, f = [CBX_HEIGHT, 0.5*(CLB_W-CBX_WIDTH),\n                        0.5*(CLB_H-CBY_HEIGHT), CBY_WIDTH,\n                        0.5*(CLB_W-CBX_WIDTH), 0.5*(CLB_H-CBY_HEIGHT)]\n\n    module_shapes = {\n        \"cbx_1__0_\": {\"W\": BOTTOM_CBX_WIDTH, \"H\": BOTTOM_CBX_HEIGHT},\n        \"cbx_1__1_\": {\"W\": CBX_WIDTH, \"H\": CBX_HEIGHT},\n        \"cbx_1__8_\": {\"W\": TOP_CBX_WIDTH, \"H\": TOP_CBX_HEIGHT},\n        \"cbx_2__0_\": {\"W\": CBX_WIDTH, \"H\": CBX_HEIGHT},\n        \"cbx_2__2_\": {\"W\": CBX_WIDTH, \"H\": CBX_HEIGHT},\n        \"cbx_2__8_\": {\"W\": CBX_WIDTH, \"H\": CBX_HEIGHT},\n        \"cby_0__1_\": {\"W\": LEFT_CBY_WIDTH, \"H\": LEFT_CBY_HEIGHT},\n        \"cby_1__1_\": {\"W\": CBY_WIDTH, \"H\": CBY_HEIGHT},\n        \"cby_2__1_\": {\"W\": CBY_WIDTH, \"H\": CBY_HEIGHT},\n        \"cby_3__1_\": {\"W\": CBY_WIDTH, \"H\": CBY_HEIGHT},\n        \"cby_8__1_\": {\"W\": RIGHT_CBY_WIDTH, \"H\": RIGHT_CBY_HEIGHT},\n        \"grid_clb\": {\"W\": CLB_W, \"H\": CLB_H},\n        \"grid_mult_8\": {\"W\": CLB_W, \"H\": GRID_Y+CLB_H},\n        \"sb_0__0_\": {\"SHAPE\": \"cross\", \"POINTS\": [a, 0, c, d, e, 0]},\n        \"sb_0__1_\": {\"SHAPE\": \"cross\", \"POINTS\": [a, 0, c, d, e, f]},\n        \"sb_0__8_\": {\"SHAPE\": \"cross\", \"POINTS\": [a, 0, 0, d, e, f]},\n        \"sb_1__0_\": {\"SHAPE\": \"cross\", \"POINTS\": [a, b, c, d, e, 0]},\n        \"sb_1__1_\": {\"SHAPE\": \"cross\", \"POINTS\": [a, b, c, d, 0, f]},\n        \"sb_1__2_\": {\"SHAPE\": \"cross\", \"POINTS\": [a, b, c, d, e, f]},\n        \"sb_1__8_\": {\"SHAPE\": \"cross\", \"POINTS\": [a, b, 0, d, e, f]},\n        \"sb_2__0_\": {\"SHAPE\": \"cross\", \"POINTS\": [a, b, c, d, e, 0]},\n        \"sb_2__1_\": {\"SHAPE\": \"cross\", \"POINTS\": [a, 0, c, d, e, f]},\n        \"sb_2__2_\": {\"SHAPE\": \"cross\", \"POINTS\": [a, b, c, d, e, f]},\n        \"sb_2__8_\": {\"SHAPE\": \"cross\", \"POINTS\": [a, b, 0, d, e, f]},\n        \"sb_3__0_\": {\"SHAPE\": \"cross\", \"POINTS\": [a, b, c, d, e, 0]},\n        \"sb_3__1_\": {\"SHAPE\": \"cross\", \"POINTS\": [a, b, c, d, e, f]},\n        \"sb_3__8_\": {\"SHAPE\": \"cross\", \"POINTS\": [a, b, 0, d, e, f]},\n        \"sb_8__0_\": {\"SHAPE\": \"cross\", \"POINTS\": [a, b, c, d, 0, 0]},\n        \"sb_8__1_\": {\"SHAPE\": \"cross\", \"POINTS\": [a, 0, c, d, 0, f]},\n        \"sb_8__2_\": {\"SHAPE\": \"cross\", \"POINTS\": [a, b, c, d, 0, f]},\n        \"sb_8__8_\": {\"SHAPE\": \"cross\", \"POINTS\": [a, b, 0, d, 0, f]},\n    }\n\n    for eachm, param in module_shapes.items():\n        if param:\n            module = next(fpga.top_module.get_definitions(eachm))\n            if \"SHAPE\" in param.keys():\n                module.data[PROP][\"SHAPE\"] = param[\"SHAPE\"]\n                module.data[PROP][\"POINTS\"] = param[\"POINTS\"]\n            else:\n                module.data[PROP][\"WIDTH\"] = param[\"W\"]\n                module.data[PROP][\"HEIGHT\"] = param[\"H\"]\n\n        print(eachm, param)\n\n    # Create grid plan\n    grid_plan = GridFloorplanGen(17, 17, grid_x=200, grid_y=200)\n\n    grid_plan.offset_x = 100\n    grid_plan.offset_y = 100\n\n    for i in range(2, 17+1, 2):\n        grid_plan.set_column_width(i, CLB_W)\n\n    for i in range(2, 17+1, 2):\n        grid_plan.set_row_height(i, CLB_H)\n\n    for i in range(1, 17+1, 2):\n        grid_plan.set_column_width(i, CBY_WIDTH)\n\n    for i in range(1, 17+1, 2):\n        grid_plan.set_row_height(i, CBX_HEIGHT)\n\n    # # # dwg = grid_plan.render_grid()\n    # # # dwg.saveas(\"_fpga_grid_floorplan.svg\", pretty=True, indent=4)\n    fpga_grid.print_grid()\n    with open(\"_complete_metrics.txt\", \"w\") as fp:\n        for y in range(2*(fpga_grid.height-1), -1, -1):\n            for x in range((fpga_grid.width*2)-1):\n                fp.write(\" {0:^12} \".format(fpga_grid.get_top_instance(x, y)))\n            fp.write(\"\\n\")\n\n    for xi in range((2*fpga_grid.width)-3, 0, -1):\n        for yi in range((2*fpga_grid.height)-3, 0, -1):\n            X_OFFSET, Y_OFFSET = 0, 0\n            inst_name = fpga_grid.get_top_instance(xi, yi)\n            points = grid_plan.get_x_y(xi-1, yi-1)\n            inst = next(fpga.top_module.get_instances(f\"*{inst_name}\"))\n            if \"cbx\" in inst_name:\n                X_OFFSET, Y_OFFSET = 0.5*(CLB_W-CBX_WIDTH), 0\n            if \"cby\" in inst_name:\n                X_OFFSET, Y_OFFSET = 0, 0.5*(CLB_H-CBY_HEIGHT)\n            if \"sb\" in inst_name:\n                PTS = inst.reference.data[PROP][\"POINTS\"]\n                X_OFFSET, Y_OFFSET = PTS[1]*-1, PTS[-1]*-1\n            inst.data[PROP]['LOC_X'] = points[0] + X_OFFSET\n            inst.data[PROP]['LOC_Y'] = points[1] + Y_OFFSET\n\n    # # = = = = = = = = = = = = = = = = = = = = = = = = = = = = = =\n    # #           Adjust Floorplan\n    # # = = = = = = = = = = = = = = = = = = = = = = = = = = = = = =\n    for cbx in fpga.top_module.get_definitions(\"cbx_*\"):\n        cbx.data[PROP][\"COLOR\"] = CBX_COLOR\n\n    for cby in fpga.top_module.get_definitions(\"cby_*\"):\n        cby.data[PROP][\"COLOR\"] = CBY_COLOR\n\n    for sb in fpga.top_module.get_definitions(\"sb_*\"):\n        sb.data[PROP][\"COLOR\"] = SB_COLOR\n\n    clb: sdn.Definition = next(fpga.top_module.get_definitions(\"grid_clb\"))\n    clb.data[PROP][\"COLOR\"] = GRID_COLOR\n\n    mult8: sdn.Definition = next(fpga.top_module.get_definitions(\"*mult*\"))\n    mult8.data[PROP][\"COLOR\"] = HETERO_COLOR\n\n    # # = = = = = = = = = = = = = = = = = = = = = = = = = = = = = =\n    fpga.show_placement_data(\"*\")\n    # # fpga.design_top_stat()\n\n    fpga.top_module.data[PROP][\"WIDTH\"] = 1900\n    fpga.top_module.data[PROP][\"HEIGHT\"] = 1900\n\n    fp = FloorPlanViz(fpga.top_module)\n    fp.compose(skip_connections=True, skip_pins=True)\n    dwg = fp.get_svg()\n    dwg.add(grid_plan.render_grid(return_group=True))\n    dwg.saveas(\"_hetero_design_floorplan.svg\", pretty=True, indent=4)\n\n\nif __name__ == \"__main__\":\n    main()"
      ]
    },
    {
      "cell_type": "markdown",
      "metadata": {},
      "source": [
        "## Output\n\n.. literalinclude:: ../../../examples/OpenFPGA_basic/_floorplan_heterpgeneous_spydrnet.log\n\n\n\n"
      ]
    }
  ],
  "metadata": {
    "kernelspec": {
      "display_name": "Python 3",
      "language": "python",
      "name": "python3"
    },
    "language_info": {
      "codemirror_mode": {
        "name": "ipython",
        "version": 3
      },
      "file_extension": ".py",
      "mimetype": "text/x-python",
      "name": "python",
      "nbconvert_exporter": "python",
      "pygments_lexer": "ipython3",
      "version": "3.8.10"
    }
  },
  "nbformat": 4,
  "nbformat_minor": 0
}