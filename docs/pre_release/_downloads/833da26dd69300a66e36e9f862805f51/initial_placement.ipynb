{
  "cells": [
    {
      "cell_type": "code",
      "execution_count": null,
      "metadata": {
        "collapsed": false
      },
      "outputs": [],
      "source": [
        "%matplotlib inline"
      ]
    },
    {
      "cell_type": "markdown",
      "metadata": {},
      "source": [
        "\n# Creating FPGA Tiles from OpenFPGA verilog\n\nThis example demonstate how to create a tile strcuture from\nVerilog netlist obtained from OpenFPGA\n"
      ]
    },
    {
      "cell_type": "code",
      "execution_count": null,
      "metadata": {
        "collapsed": false
      },
      "outputs": [],
      "source": [
        "import glob\nimport os\nimport logging\nimport tempfile\n\n\nimport spydrnet as sdn\nfrom spydrnet_physical.util import OpenFPGA\nfrom spydrnet_physical.util.get_floorplan import FloorPlanViz\nfrom spydrnet_physical.util.shell import launch_shell\n\nlogger = logging.getLogger('spydrnet_logs')\nsdn.enable_file_logging(LOG_LEVEL='INFO')\n\n\ndef main():\n    proj = \"../homogeneous_fabric\"\n    source_files = glob.glob(f'{proj}/*_Verilog/lb/*.v')\n    source_files += glob.glob(f'{proj}/*_Verilog/routing/*.v')\n    source_files += glob.glob(f'{proj}/*_Verilog/sub_module/*.v')\n    source_files += glob.glob(f'{proj}/*_Verilog/fpga_top.v')\n\n    # Temporary fix to read multiple verilog files\n    with tempfile.NamedTemporaryFile(suffix=\".v\") as fp:\n        for eachV in source_files:\n            with open(eachV, \"r\") as fpv:\n                fp.write(str.encode(\" \".join(fpv.readlines())))\n        fp.seek(0)\n        netlist = sdn.parse(fp.name)\n\n    fpga = OpenFPGA(grid=(4, 4), netlist=netlist)\n    # fpga.design_top_stat()\n\n    fpga.create_placement()\n    fpga.show_placement_data(\"*_0__*\")\n\n    # Convert wires to bus structure\n    fpga.create_grid_clb_bus()\n    fpga.create_grid_io_bus()\n    fpga.create_sb_bus()\n    fpga.create_cb_bus()\n\n    fpga.design_top_stat()\n    fp = FloorPlanViz(fpga.top_module)\n    fp.compose(skip_connections=True, skip_pins=True)\n    dwg = fp.get_svg()\n    dwg.saveas(\"_fpga_initial_placement.svg\", pretty=True, indent=4)\n\n    # Save netlist\n    base_dir = (\"..\", \"homogeneous_fabric\", \"_output_2\")\n    fpga.save_netlist(\"sb*\", os.path.join(*base_dir, \"routing\"),\n                      skip_constraints=False)\n    fpga.save_netlist(\"cb*\", os.path.join(*base_dir, \"routing\"),\n                      skip_constraints=False)\n    fpga.save_netlist(\"grid*\", os.path.join(*base_dir, \"lb\"),\n                      skip_constraints=False)\n    fpga.save_netlist(\"*tile*\", os.path.join(*base_dir, \"tiles\"),\n                      skip_constraints=False)\n    fpga.save_netlist(\"fpga_top\", os.path.join(*base_dir),\n                      skip_constraints=False)\n\n\nif __name__ == \"__main__\":\n    main()"
      ]
    }
  ],
  "metadata": {
    "kernelspec": {
      "display_name": "Python 3",
      "language": "python",
      "name": "python3"
    },
    "language_info": {
      "codemirror_mode": {
        "name": "ipython",
        "version": 3
      },
      "file_extension": ".py",
      "mimetype": "text/x-python",
      "name": "python",
      "nbconvert_exporter": "python",
      "pygments_lexer": "ipython3",
      "version": "3.8.10"
    }
  },
  "nbformat": 4,
  "nbformat_minor": 0
}