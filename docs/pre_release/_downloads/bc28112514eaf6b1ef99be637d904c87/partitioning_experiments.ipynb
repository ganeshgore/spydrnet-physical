{
  "cells": [
    {
      "cell_type": "code",
      "execution_count": null,
      "metadata": {
        "collapsed": false
      },
      "outputs": [],
      "source": [
        "%matplotlib inline"
      ]
    },
    {
      "cell_type": "markdown",
      "metadata": {},
      "source": [
        "\n# Partitions Experimentation\n\nThis example aim to demonstrate how to create circuit partition on\npost techmapped netlist. Following methods are evaluated.\n\n1. Using pymetis library\n2. Generating graph file and executing hmetis externally with system call \n\n<img src=\"file://../../../examples/basic/_pymetis_run.svg\" width=\"200px\">\n\n<img src=\"file://../../../examples/basic/_external_metis_run.svg\" width=\"200px\">\n"
      ]
    },
    {
      "cell_type": "code",
      "execution_count": null,
      "metadata": {
        "collapsed": false
      },
      "outputs": [],
      "source": [
        "import networkx as nx\nimport matplotlib.pyplot as plt\nfrom networkx.readwrite.json_graph import tree\nimport pydot\nimport pymetis\nfrom networkx.drawing.nx_pydot import to_pydot\nfrom spydrnet_physical.util import (prepare_graph_from_nx, run_metis,\n                                    write_metis_graph)\n\n# = = = = = = = = = = = = = = = = = = = = =\n#          Create simple graph\n# = = = = = = = = = = = = = = = = = = = = =\ngraph = nx.Graph()\n\n# Create nodes\ngraph.add_node(0, weight=10)\ngraph.add_node(1, weight=10)\ngraph.add_node(2, weight=1)\ngraph.add_node(3, weight=50)\ngraph.add_node(4, weight=1)\ngraph.add_node(5, weight=1)\ngraph.add_node(6, weight=50)\n\n# Create edges\ngraph.add_edge(0, 1, weight=1)\ngraph.add_edge(0, 4, weight=1)\ngraph.add_edge(2, 1, weight=1)\ngraph.add_edge(3, 2, weight=1)\ngraph.add_edge(3, 5, weight=1)\ngraph.add_edge(0, 5, weight=1)\ngraph.add_edge(2, 4, weight=1)\ngraph.add_edge(4, 6, weight=1)\ngraph.add_edge(1, 5, weight=1)\ngraph.add_edge(5, 6, weight=1)\n\n# = = = = = = = = = = = = = = = = = = = = =\n#         Using pymetis library\n# = = = = = = = = = = = = = = = = = = = = =\n\n# Create xadj, adjncy, eweights, vweights\nxadj, adjncy, eweights = prepare_graph_from_nx(nx.to_numpy_array(graph))\nvweights = nx.get_node_attributes(graph, \"weight\")\nnode_names = list(graph.nodes)\n\nprint(f\"node_names {node_names}\")\nprint(f\"xadj {xadj}\")\nprint(f\"adjncy {adjncy}\")\nprint(f\"eweights {eweights}\")\nprint(f\"vweights {vweights}\")\n\nn_cuts, membership = pymetis.part_graph(2, eweights=eweights,\n                                        vweights=vweights, xadj=xadj,\n                                        adjncy=adjncy)\nprint(f\"n_cuts {n_cuts}\")\n\n# Convert to pydot to render subgraph\ngraph_dot = to_pydot(graph)\nsubgraph = pydot.Cluster('part1', label=''), \\\n    pydot.Cluster('part2', label='')\n\nfor each in subgraph:\n    graph_dot.add_subgraph(each)\n\n# Add weights to edge labels\nfor index, partition in enumerate(membership):\n    node = graph_dot.get_node(str(index))[0]\n    node.set_color(\"red\" if partition else \"green\")\n    subgraph[partition].add_node(node)\n    graph_dot.get_node(str(index))[0].set_label(f\"{index} [{vweights[index]}]\")\n\n# Add weights to node labels\nfor edge in graph_dot.get_edge_list():\n    edge.set_label(f\"{edge.get_weight() or 1}\")\n\ngraph_dot.write_svg('_pymetis_run.svg')\n\n\n# = = = = = = = = = = = = = = = = = = = = = = = = = = = =\n#   Generating graph file and externally running metis\n# = = = = = = = = = = = = = = = = = = = = = = = = = = = =\nwrite_metis_graph(nx.to_numpy_array(graph),\n                  eweights=True, vweights=vweights,\n                  filename=\"_partition_experiments_01.csr\")\nmembership = run_metis(\n    filename=\"_partition_experiments_01.csr\", cuts=2,\n    options=\"-objtype cut -minconn -niter 100 -ncuts 3 \")\n\ngraph_dot2 = to_pydot(graph)\nsubgraph = pydot.Cluster('part1', label=''), \\\n    pydot.Cluster('part2', label='')\n\n# Convert to pydot to render subgraph\nfor each in subgraph:\n    graph_dot2.add_subgraph(each)\n\n# Add weights to edge labels\nfor index, color in enumerate(membership):\n    node = graph_dot2.get_node(str(node_names[index]))[0]\n    node.set_color(\"red\" if color else \"green\")\n    subgraph[color].add_node(node)\n    graph_dot2.get_node(str(index))[0].set_label(\n        f\"{index} [{vweights[index]}]\")\n\n# Add weights to node labels\nfor edge in graph_dot2.get_edge_list():\n    edge.set_label(f\"{edge.get_weight() or 1}\")\n\ngraph_dot2.write_svg('_external_metis_run.svg')"
      ]
    }
  ],
  "metadata": {
    "kernelspec": {
      "display_name": "Python 3",
      "language": "python",
      "name": "python3"
    },
    "language_info": {
      "codemirror_mode": {
        "name": "ipython",
        "version": 3
      },
      "file_extension": ".py",
      "mimetype": "text/x-python",
      "name": "python",
      "nbconvert_exporter": "python",
      "pygments_lexer": "ipython3",
      "version": "3.8.10"
    }
  },
  "nbformat": 4,
  "nbformat_minor": 0
}